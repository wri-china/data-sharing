{
 "cells": [
  {
   "cell_type": "markdown",
   "id": "43b29fb4",
   "metadata": {},
   "source": [
    "## Packeges"
   ]
  },
  {
   "cell_type": "code",
   "execution_count": 11,
   "id": "3bb05c63",
   "metadata": {},
   "outputs": [],
   "source": [
    "import numpy as np\n",
    "import plotly.express as px\n",
    "#import requests\n",
    "import pandas as pd\n",
    "import pylab as plt\n",
    "import plotly.graph_objects as go   "
   ]
  },
  {
   "cell_type": "markdown",
   "id": "5f075b06",
   "metadata": {},
   "source": [
    "##  Functions "
   ]
  },
  {
   "cell_type": "code",
   "execution_count": 13,
   "id": "d33ddf3e",
   "metadata": {},
   "outputs": [],
   "source": [
    "#Function Input: Critical Materical want to track，data，Target import country，product code\n",
    "#Function Output:  Total values ​​for each exporting country, Name fr each exporting country, Product discription\n",
    "def get_importer_value(CM,all_data_code,country_code,product_code,target_country_name):\n",
    "    filtered_product = product_code[product_code['description'].str.contains(CM, case=False)]\n",
    "    filtered_country = country_code[country_code['country_name'].str.contains(target_country_name, case=False)]\n",
    "\n",
    "    filtered_country_list = list(filtered_country.index)\n",
    "    filtered_product_list = list(filtered_product.index)\n",
    "\n",
    "    p_des = list(filtered_product['description'].values)\n",
    "    \n",
    "    dff = all_data_code[(all_data_code['product'].isin(filtered_product_list))&(all_data_code['importer'].isin(filtered_country_list))]\n",
    "\n",
    "    # Group by exporter and sum 'value' \n",
    "    exporter_value_sum = dff.groupby('exporter')['value'].sum().drop(filtered_country_list,errors='ignore')\n",
    "    EVS = exporter_value_sum.sort_values(ascending=False)\n",
    "\n",
    "    #  'value' as size, and 'exporter' as label \n",
    "    sizes = EVS.values\n",
    "    labels = country_code.loc[EVS.index]['country_name']\n",
    "    return sizes,labels,p_des"
   ]
  },
  {
   "cell_type": "code",
   "execution_count": 14,
   "id": "1c82548e",
   "metadata": {},
   "outputs": [],
   "source": [
    "#Simmilar with previous function but get exporter value \n",
    "def get_exporter_value(n3,all_data_code,country_code,product_code,target_country_name):\n",
    "    \n",
    "    filtered_product = product_code[product_code['description'].str.contains(n3, case=False)]\n",
    "    filtered_country = country_code[country_code['country_name'].str.contains(target_country_name, case=False)]\n",
    "\n",
    "    filtered_country_list = list(filtered_country.index)\n",
    "    filtered_product_list = list(filtered_product.index)\n",
    "\n",
    "    p_des = list(filtered_product['description'].values)\n",
    "    \n",
    "    dff = all_data_code[(all_data_code['product'].isin(filtered_product_list))&(all_data_code['exporter'].isin(filtered_country_list))]\n",
    "\n",
    "    # Group by exporter and sum 'value' \n",
    "    exporter_value_sum = dff.groupby('importer')['value'].sum().drop(filtered_country_list,errors='ignore')\n",
    "    EVS = exporter_value_sum.sort_values(ascending=False)\n",
    "\n",
    "    #  'value' as size, and 'exporter' as label \n",
    "    sizes = EVS.values\n",
    "    labels = country_code.loc[EVS.index]['country_name']\n",
    "    return sizes,labels,p_des"
   ]
  },
  {
   "cell_type": "code",
   "execution_count": 15,
   "id": "0c023675",
   "metadata": {},
   "outputs": [],
   "source": [
    "def get_exporter_value_list(n3list,all_data_code,country_code,product_code,target_country_name):\n",
    "    \n",
    "    filtered_product = product_code[product_code['description'].isin(n3list)]\n",
    "    filtered_country = country_code[country_code['country_name'].str.contains(target_country_name, case=False)]\n",
    "\n",
    "    filtered_country_list = list(filtered_country.index)\n",
    "    filtered_product_list = list(filtered_product.index)\n",
    "\n",
    "    p_des = list(filtered_product['description'].values)\n",
    "    \n",
    "    dff = all_data_code[(all_data_code['product'].isin(filtered_product_list))&(all_data_code['exporter'].isin(filtered_country_list))]\n",
    "\n",
    "    # Group by exporter and sum 'value' \n",
    "    exporter_value_sum = dff.groupby('importer')['value'].sum().drop(filtered_country_list,errors='ignore')\n",
    "    EVS = exporter_value_sum.sort_values(ascending=False)\n",
    "\n",
    "    #  'value' as size, and 'exporter' as label \n",
    "    sizes = EVS.values\n",
    "    labels = country_code.loc[EVS.index]['country_name']\n",
    "    return sizes,labels,p_des"
   ]
  },
  {
   "cell_type": "markdown",
   "id": "fcc6bb73",
   "metadata": {},
   "source": [
    "### Full Tree diagram"
   ]
  },
  {
   "cell_type": "code",
   "execution_count": 90,
   "id": "29a587c7",
   "metadata": {},
   "outputs": [],
   "source": [
    "def all_data_diagram(n3list,all_data_code,country_code,product_code,target_country_name):\n",
    "    sizes,labels,p_des = get_exporter_value_list(n3list,all_data_code,country_code,product_code,target_country_name)\n",
    "\n",
    "    df = pd.DataFrame({'country':  labels.values, 'export_value': np.round(sizes,2),'percentage':np.round(100*sizes/sizes.sum(),2)})\n",
    "    dfx =df\n",
    "    print('New trio type:', 'Photovoltaic Products','\\n Total value of imports:',np.sum(sizes),'thousand USD \\n',np.round(sizes[:10],2),'\\n',labels[:10].values,'\\n','percentage:',np.round(sizes[:10],2)/np.sum(sizes),'\\n','oveall percentage:',sum(np.round(sizes[:10],2)/np.sum(sizes)))\n",
    "    fig = px.treemap(dfx, path=['country'], values='export_value',color='country',\n",
    "                    color_discrete_sequence = px.colors.sequential.RdBu,\n",
    "                    hover_data=['percentage'])\n",
    "    fig.update_layout(margin = dict(t=50, l=25, r=25, b=25),\n",
    "                    title=f\"The Proportion of Photovoltaic Related Materials exports from {target_country_name} to Other Countries.\")\n",
    "    fig.update_traces(root_color=\"lightgrey\", texttemplate=\"%{label}<br>%{value} thousand USD<br>%{customdata[0]}%\",\n",
    "                    textfont=dict(color=\"white\",size=17))\n",
    "    fig.show()\n",
    "    fig.write_html(\"The Proportion of Photovoltaic Related Materials exports from\",target_country_name,\"to Other Countries.html\")\n",
    "    print('New trio type:', 'Photovoltaic Products','\\n Total value of imports:',np.sum(sizes),'thousand USD \\n',np.round(sizes[:10],2),'\\n',labels[:10].values,'\\n','percentage:',np.round(sizes[:10],2)/np.sum(sizes),'\\n','oveall percentage:',sum(np.round(sizes[:10],2)/np.sum(sizes)))"
   ]
  },
  {
   "cell_type": "markdown",
   "id": "b74cdd7a",
   "metadata": {},
   "source": [
    "### Export Tree diagram "
   ]
  },
  {
   "cell_type": "code",
   "execution_count": 45,
   "id": "a91388bc",
   "metadata": {},
   "outputs": [],
   "source": [
    "def export_tree_diagram_preprocess(n3s,all_data_code,country_code,product_code,new_trio,target_country_name):\n",
    "    DFot = pd.DataFrame()\n",
    "    for i,n3 in enumerate(n3s):\n",
    "        sizes,labels,p_des = get_exporter_value(n3,all_data_code,country_code,product_code,target_country_name)\n",
    "        df_Export_from_china = pd.DataFrame({'country':  labels.values, 'export_value': np.round(sizes,2),'percentage':np.round(100*sizes/sizes.sum(),2)})\n",
    "        df_Export_from_china['country_from'] = target_country_name\n",
    "        df_Export_from_china['new_trio_type'] = new_trio[i]\n",
    "        DFot = pd.concat([DFot,df_Export_from_china],axis = 0)\n",
    "    return DFot,sizes,labels"
   ]
  },
  {
   "cell_type": "code",
   "execution_count": 44,
   "id": "0b97001b",
   "metadata": {},
   "outputs": [],
   "source": [
    "def export_tree_diagram(n3s,all_data_code,country_code,product_code,new_trio,target_country_name):\n",
    "        export_info = export_tree_diagram_preprocess(n3s,all_data_code,country_code,product_code,new_trio,target_country_name)\n",
    "        Df_export_from_china = export_info[0]\n",
    "        sizes = export_info[1]\n",
    "        labels = export_info[2]\n",
    "        for n3 in Df_export_from_china['new_trio_type'].unique():\n",
    "                Df_export_from_china_temp = Df_export_from_china[Df_export_from_china['new_trio_type'] == n3]\n",
    "                print(' New trio type:', n3,'\\n Total value of imports:',np.sum(sizes),'thousand USD \\n',np.round(sizes[:10],2),'\\n',labels[:10].values,'\\n','percentage:',np.round(sizes[:10],2)/np.sum(sizes),'\\n','oveall percentage:',sum(np.round(sizes[:10],2)/np.sum(sizes)))\n",
    "\n",
    "                fig = px.treemap(Df_export_from_china_temp, path=['country'], values='export_value',color='country',\n",
    "                        color_discrete_sequence = px.colors.sequential.RdBu,\n",
    "                        hover_data=['percentage'])\n",
    "                fig.update_layout(margin = dict(t=50, l=25, r=25, b=25),\n",
    "                        title=f\"The Proportion of {n3.capitalize()} exports from {target_country_name} to Other Countries.\")\n",
    "                fig.update_traces(root_color=\"lightgrey\", texttemplate=\"%{label}<br>%{value} thousand USD<br>%{customdata[0]}%\",\n",
    "                        textfont=dict(color=\"white\",size=16))\n",
    "                fig.show()\n",
    "                fig.write_html(f\"The Proportion of {n3.capitalize()} exports from {target_country_name} to Other Countries.html\")"
   ]
  },
  {
   "cell_type": "markdown",
   "id": "a4ee8e24",
   "metadata": {},
   "source": [
    "### Export Sankey diagram"
   ]
  },
  {
   "cell_type": "code",
   "execution_count": 51,
   "id": "a8e00553",
   "metadata": {},
   "outputs": [],
   "source": [
    "def export_sankey_diagram(n3s,all_data_code,country_code,product_code,new_trio,target_country_name):\n",
    "    Df_export_from_china = export_tree_diagram_preprocess(n3s,all_data_code,country_code,product_code,new_trio,target_country_name)[0]\n",
    "    # Assuming DFot is a predefined DataFrame with necessary data\n",
    "    data2 = Df_export_from_china[Df_export_from_china['export_value'] != 0].reset_index(drop=True)\n",
    "    data2['export_value'] = data2['export_value'] /1000\n",
    "\n",
    "    # Assign unique IDs\n",
    "    target_country_id = 0\n",
    "    type_ids = {t: i + 1 for i, t in enumerate(data2['new_trio_type'].unique())}\n",
    "    country_ids = {country: i + len(type_ids) + 1 for i, country in enumerate(data2['country'].unique())}\n",
    "\n",
    "    # Creating lists of sources, targets, and values\n",
    "    sources_export = [target_country_id] * len(type_ids) + sum([[type_ids[t]] * len(data2[data2['new_trio_type'] == t]) for t in type_ids], [])\n",
    "    targets_export = list(type_ids.values()) + sum([[country_ids[c] for c in data2[data2['new_trio_type'] == t]['country']] for t in type_ids], [])\n",
    "    values_export = [data2[data2['new_trio_type'] == t]['export_value'].sum() for t in type_ids] + data2['export_value'].tolist()\n",
    "    \n",
    "    # Nodes colors\n",
    "    type_colors = ['#FF69B4', '#B87333', '#0047AB']  # Adjust based on actual number of types\n",
    "    colors = ['red'] + type_colors[:len(type_ids)] + ['grey' for _ in country_ids]\n",
    "\n",
    "    # Convert HEX colors to RGBA for link colors\n",
    "    link_colors_rgba =  [\n",
    "        f\"rgba({int(color[1:3], 16)}, {int(color[3:5], 16)}, {int(color[5:7], 16)}, 0.4)\" \n",
    "        for color in type_colors\n",
    "    ] + [\n",
    "        f\"rgba({int(tc[1:3], 16)}, {int(tc[3:5], 16)}, {int(tc[5:7], 16)}, 0.4)\" \n",
    "        for tc in [type_colors[data2['new_trio_type'].unique().tolist().index(data2['new_trio_type'][i])] for i in range(len(data2['country']))]\n",
    "    ] \n",
    "    # Create the Sankey diagram\n",
    "    fig = go.Figure(data=[go.Sankey(\n",
    "        valueformat=\".0f\",\n",
    "        valuesuffix=\" million USD\",\n",
    "        node=dict(\n",
    "            pad=15,\n",
    "            thickness=20,\n",
    "            line=dict(color='black', width=0.5),\n",
    "            label=[target_country_name] + list(type_ids.keys()) + list(country_ids.keys()),\n",
    "            color=colors\n",
    "        ),\n",
    "        link=dict(\n",
    "            source=sources_export,\n",
    "            target=targets_export,\n",
    "            value=values_export,\n",
    "            color=link_colors_rgba\n",
    "        )\n",
    "    )])\n",
    "\n",
    "    fig.update_layout(title_text='Sankey Diagram of new trio Exports from 'f'{target_country_name}', font_size=10)\n",
    "    fig.show()\n",
    "    fig.write_html(f\"Sankey Diagram of new trio Exports from {target_country_name}.html\")"
   ]
  },
  {
   "cell_type": "markdown",
   "id": "800c3a34",
   "metadata": {},
   "source": [
    "### Import diagram"
   ]
  },
  {
   "cell_type": "code",
   "execution_count": 59,
   "id": "e1ed7640",
   "metadata": {
    "scrolled": false
   },
   "outputs": [],
   "source": [
    "def import_tree_diagram(CriticalMaterials,all_data_code,country_code,product_code,target_country_name):\n",
    "    DF_import = pd.DataFrame()\n",
    "\n",
    "    for CM in CriticalMaterials:\n",
    "        sizes,labels,p_des = get_importer_value(CM,all_data_code,country_code,product_code,target_country_name)\n",
    "        df_import = pd.DataFrame({'country':  labels.values, 'import_value': np.round(sizes,2),'percentage':np.round(100*sizes/sizes.sum(),2)})\n",
    "        df_import['country_to'] = target_country_name\n",
    "        df_import['CM_type'] = f'{CM.capitalize()} Related Materials'\n",
    "        DF_import = pd.concat([DF_import,df_import],axis = 0)\n",
    "        print(' Critical materials type:', CM,'\\n Total value of imports:',np.sum(sizes),'thousand USD \\n',np.round(sizes[:10],2),'\\n',labels[:10].values,'\\n','percentage:',np.round(sizes[:10],2)/np.sum(sizes),'\\n','oveall percentage:',sum(np.round(sizes[:10],2)/np.sum(sizes)))\n",
    "\n",
    "        fig = px.treemap(df_import, path=['country'], values='import_value',color='country',\n",
    "                        color_discrete_sequence = px.colors.sequential.RdBu,\n",
    "                        hover_data=['percentage'])\n",
    "        fig.update_layout(margin = dict(t=50, l=25, r=25, b=25),\n",
    "                        title=f\"The Proportion of {CM.capitalize()} Related Materials Imports from Countries to {target_country_name}.\")\n",
    "        fig.update_traces(root_color=\"lightgrey\", texttemplate=\"%{label}<br>%{value} thousand USD<br>%{customdata[0]}%\",\n",
    "                        textfont=dict(color=\"white\",size=15))\n",
    "        fig.show()\n",
    "        fig.write_html(f\"The Proportion of {CM.capitalize()} Related Materials Imports from Countries to {target_country_name}.html\")\n",
    "    #return DF_import"
   ]
  },
  {
   "cell_type": "code",
   "execution_count": 82,
   "id": "0a6fa523",
   "metadata": {},
   "outputs": [],
   "source": [
    "def import_sankey_diagram(CriticalMaterials, all_data_code, country_code, product_code, target_country_name):\n",
    "    DF_import = pd.DataFrame()  # Initialize the DataFrame\n",
    "\n",
    "    for CM in CriticalMaterials:\n",
    "        sizes, labels, p_des = get_importer_value(CM, all_data_code, country_code, product_code, target_country_name)\n",
    "        df_import = pd.DataFrame({\n",
    "            'country': labels.values, \n",
    "            'import_value': np.round(sizes, 2),\n",
    "            'percentage': np.round(100 * sizes / sizes.sum(), 2)\n",
    "        })\n",
    "        df_import['country_to'] = target_country_name\n",
    "        df_import['CM_type'] = f'{CM.capitalize()} Related Materials'\n",
    "        DF_import = pd.concat([DF_import, df_import], axis=0)\n",
    "\n",
    "    data = DF_import[DF_import['import_value'] != 0].reset_index().drop(columns='index')\n",
    "    data['import_value'] = data['import_value'] / 1000  # Convert to million USD\n",
    "\n",
    "    # Assign unique IDs to each country and CM_type\n",
    "    country_ids = {country: i for i, country in enumerate(data['country'].unique())}\n",
    "    type_ids = {t: i + len(country_ids) for i, t in enumerate(data['CM_type'].unique())}\n",
    "    china_id = len(country_ids) + len(type_ids)\n",
    "\n",
    "    # Create source, target, and value lists\n",
    "    sources = [country_ids[country] for country in data['country']] + \\\n",
    "              [type_ids[t] for t in data.groupby('CM_type')['import_value'].sum().keys()]\n",
    "    targets = [type_ids[t] for t in data['CM_type']] + \\\n",
    "              [china_id] * len(data['CM_type'].unique())\n",
    "    values = data['import_value'].tolist() + data.groupby('CM_type')['import_value'].sum().tolist()\n",
    "\n",
    "    # Define colors\n",
    "    country_color = '#D3D3D3'\n",
    "    type_colors = ['#FF69B4', '#B87333', '#0047AB', '#B0B0B0']\n",
    "    china_color = '#d62728'\n",
    "    colors = [country_color] * len(country_ids) + type_colors + [china_color]\n",
    "\n",
    "    # Convert HEX to RGBA string with 50% transparency\n",
    "    link_colors_rgba = [\n",
    "        f\"rgba({int(tc[1:3], 16)}, {int(tc[3:5], 16)}, {int(tc[5:7], 16)}, 0.4)\"\n",
    "        for tc in [type_colors[data['CM_type'].unique().tolist().index(data['CM_type'][i])] for i in range(len(data['country']))]\n",
    "    ] + [\n",
    "        f\"rgba({int(color[1:3], 16)}, {int(color[3:5], 16)}, {int(color[5:7], 16)}, 0.4)\"\n",
    "        for color in type_colors\n",
    "    ]\n",
    "\n",
    "    # Create Sankey diagram\n",
    "    fig = go.Figure(data=[go.Sankey(\n",
    "        valueformat=\".0f\",\n",
    "        valuesuffix=\" million USD\",\n",
    "        node=dict(\n",
    "            pad=10,\n",
    "            thickness=20,\n",
    "            line=dict(color='black', width=0.5),\n",
    "            label=list(country_ids.keys()) + list(type_ids.keys()) + [target_country_name],\n",
    "            color=colors\n",
    "        ),\n",
    "        link=dict(\n",
    "            source=sources,\n",
    "            target=targets,\n",
    "            value=values,\n",
    "            color=link_colors_rgba\n",
    "        )\n",
    "    )])\n",
    "\n",
    "    fig.update_layout(title_text='Sankey Diagram of Critical Materials Imports into ' f'{target_country_name}', font_size=10)\n",
    "    fig.show()\n",
    "    fig.write_html(\"Sankey Diagram of Critical Materials Imports into\"f\"{target_country_name}\"\".html\")\n"
   ]
  },
  {
   "cell_type": "markdown",
   "id": "787aa264",
   "metadata": {},
   "source": [
    "## Example"
   ]
  },
  {
   "cell_type": "code",
   "execution_count": null,
   "id": "8f37fc7b",
   "metadata": {},
   "outputs": [],
   "source": [
    "#Define Critical Matericals\n",
    "CriticalMaterials  = ['copper', 'lithium', 'nickel', 'cobalt']\n",
    "#Define dictionary to translate data columns\n",
    "data_dict = {\n",
    "    \"t\": \"year\",\n",
    "    \"i\": \"exporter\",\n",
    "    \"j\": \"importer\",\n",
    "    \"k\": \"product\",\n",
    "    \"v\": \"value\",\n",
    "    \"q\": \"quantity\"\n",
    "}\n",
    "\n",
    "##Define data file path\n",
    "product_code = pd.read_csv('https://china-data-team-bucket-public.s3.cn-northwest-1.amazonaws.com.cn/Supply_Chain/BACI_HS22_V202401/product_codes_HS22_V202401.csv')\n",
    "country_code  = pd.read_csv('https://china-data-team-bucket-public.s3.cn-northwest-1.amazonaws.com.cn/Supply_Chain/BACI_HS22_V202401/country_codes_V202401.csv')\n",
    "all_data_code = pd.read_csv('https://china-data-team-bucket-public.s3.cn-northwest-1.amazonaws.com.cn/Supply_Chain/BACI_HS22_V202401/BACI_HS22_Y2022_V202401.csv').rename(columns=data_dict)\n",
    "\n",
    "##Define target country\n",
    "target_country_name = 'China'\n",
    "##Define n3s\n",
    "n3s = ['Vehicles: with only electric motor for propulsion','Cells and batteries: primary, lithium'] \n",
    "##Define new trio needs to track\n",
    "new_trio = ['Electric vehicles','Lithium-ion batteries','Photovoltaic products']\n",
    "##Define n3list\n",
    "n3list = ['Electric generators: photovoltaic DC generators, of an output not exceeding 50W',\n",
    " 'Electric generators: photovoltaic DC generators, of an output exceeding 50W',\n",
    " 'Electric generators: (excluding generating sets), photovoltaic AC generators (alternators)',\n",
    " 'Electrical apparatus: photosensitive semiconductor devices, photovoltaic cells not assembled in modules or made up into panels',\n",
    " 'Electrical apparatus: photosensitive semiconductor devices, photovoltaic cells assembled in modules or made up into panels',\n",
    " 'Electrical apparatus: photosensitive semiconductor devices, diodes other than light emitting diodes and photovoltaic cells whether or not assembled in modules or made up into panels',\n",
    " ]\n",
    "\n",
    "#Data process\n",
    "product_code.set_index('code',inplace = True)\n",
    "\n",
    "country_code.set_index('country_code',inplace = True)\n"
   ]
  },
  {
   "cell_type": "markdown",
   "id": "b39d23ae",
   "metadata": {},
   "source": [
    "##  Create Diagram"
   ]
  },
  {
   "cell_type": "code",
   "execution_count": 48,
   "id": "84d8438c",
   "metadata": {},
   "outputs": [
    {
     "name": "stdout",
     "output_type": "stream",
     "text": [
      "New trio type: Photovoltaic Products \n",
      " Total value of imports: 35501674.344 thousand USD \n",
      " [3914079.2  3234931.52 2886514.79 1937959.41 1834943.09 1329135.86\n",
      " 1273985.66 1171896.8   984299.59  943316.49] \n",
      " ['Brazil' 'Spain' 'Netherlands' 'Germany' 'Japan' 'India' 'Australia'\n",
      " 'Poland' 'Greece' 'Thailand'] \n",
      " percentage: [0.11025055 0.09112053 0.08130644 0.05458783 0.0516861  0.03743868\n",
      " 0.03588523 0.03300962 0.02772544 0.02657104] \n",
      " oveall percentage: 0.5495814710299005\n"
     ]
    },
    {
     "data": {
      "application/vnd.plotly.v1+json": {
       "config": {
        "plotlyServerURL": "https://plot.ly"
       },
       "data": [
        {
         "branchvalues": "total",
         "customdata": [
          [
           0.03,
           "Jamaica"
          ],
          [
           0.04,
           "Ireland"
          ],
          [
           0.02,
           "Slovakia"
          ],
          [
           0,
           "State of Palestine"
          ],
          [
           0.01,
           "Libya"
          ],
          [
           0.06,
           "Uzbekistan"
          ],
          [
           0.01,
           "Fiji"
          ],
          [
           2.36,
           "France"
          ],
          [
           0,
           "Saint Kitts and Nevis"
          ],
          [
           0.11,
           "Argentina"
          ],
          [
           0.46,
           "Chile"
          ],
          [
           0,
           "Suriname"
          ],
          [
           2.48,
           "Portugal"
          ],
          [
           0.38,
           "Nigeria"
          ],
          [
           0.04,
           "Costa Rica"
          ],
          [
           0.01,
           "Malta"
          ],
          [
           0.71,
           "Slovenia"
          ],
          [
           0,
           "Belize"
          ],
          [
           0,
           "Saint Vincent and the Grenadines"
          ],
          [
           0.68,
           "Hungary"
          ],
          [
           0.07,
           "Yemen"
          ],
          [
           0.09,
           "Sri Lanka"
          ],
          [
           1.89,
           "Rep. of Korea"
          ],
          [
           0,
           "Guyana"
          ],
          [
           0,
           "Sao Tome and Principe"
          ],
          [
           2.66,
           "Thailand"
          ],
          [
           0.05,
           "Afghanistan"
          ],
          [
           0.09,
           "United Rep. of Tanzania"
          ],
          [
           0.03,
           "Cameroon"
          ],
          [
           0.05,
           "Haiti"
          ],
          [
           0,
           "Tonga"
          ],
          [
           0.04,
           "Togo"
          ],
          [
           0,
           "Belarus"
          ],
          [
           0.08,
           "Madagascar"
          ],
          [
           0.01,
           "Djibouti"
          ],
          [
           0,
           "Wallis and Futuna Isds"
          ],
          [
           0.04,
           "Mauritania"
          ],
          [
           1.12,
           "Philippines"
          ],
          [
           0,
           "Comoros"
          ],
          [
           0.67,
           "Bulgaria"
          ],
          [
           0,
           "Trinidad and Tobago"
          ],
          [
           0.1,
           "Sudan"
          ],
          [
           0.03,
           "Latvia"
          ],
          [
           0.03,
           "Ecuador"
          ],
          [
           0,
           "Marshall Isds"
          ],
          [
           0.1,
           "Other Asia, nes"
          ],
          [
           0,
           "Iceland"
          ],
          [
           0,
           "Cayman Isds"
          ],
          [
           0.01,
           "French Polynesia"
          ],
          [
           0.86,
           "Malaysia"
          ],
          [
           0,
           "Br. Virgin Isds"
          ],
          [
           0.08,
           "New Zealand"
          ],
          [
           0.89,
           "Saudi Arabia"
          ],
          [
           0.01,
           "Chad"
          ],
          [
           0.05,
           "Luxembourg"
          ],
          [
           0.11,
           "El Salvador"
          ],
          [
           0.24,
           "Finland"
          ],
          [
           0.01,
           "Syria"
          ],
          [
           9.11,
           "Spain"
          ],
          [
           0,
           "Equatorial Guinea"
          ],
          [
           0.04,
           "Uganda"
          ],
          [
           0.07,
           "Mozambique"
          ],
          [
           0,
           "Venezuela"
          ],
          [
           0.09,
           "Peru"
          ],
          [
           0.03,
           "Dem. Rep. of the Congo"
          ],
          [
           0.01,
           "Bahrain"
          ],
          [
           0.01,
           "Papua New Guinea"
          ],
          [
           0,
           "Tajikistan"
          ],
          [
           0.01,
           "Rep. of Moldova"
          ],
          [
           0.01,
           "Kuwait"
          ],
          [
           0,
           "Andorra"
          ],
          [
           0.04,
           "Iraq"
          ],
          [
           0,
           "Aruba"
          ],
          [
           0,
           "Timor-Leste"
          ],
          [
           5.17,
           "Japan"
          ],
          [
           0,
           "Nauru"
          ],
          [
           0.82,
           "Singapore"
          ],
          [
           0,
           "Saint Lucia"
          ],
          [
           1.15,
           "Italy"
          ],
          [
           0.42,
           "Indonesia"
          ],
          [
           1.88,
           "Cambodia"
          ],
          [
           2.47,
           "United Arab Emirates"
          ],
          [
           0,
           "Antigua and Barbuda"
          ],
          [
           0,
           "Congo"
          ],
          [
           0,
           "Lesotho"
          ],
          [
           0.62,
           "Jordan"
          ],
          [
           0.24,
           "Kenya"
          ],
          [
           0.07,
           "Bosnia Herzegovina"
          ],
          [
           0,
           "Bhutan"
          ],
          [
           0.2,
           "Lithuania"
          ],
          [
           0.03,
           "Angola"
          ],
          [
           0.02,
           "Central African Rep."
          ],
          [
           0.03,
           "Iran"
          ],
          [
           0.95,
           "Denmark"
          ],
          [
           0,
           "Tuvalu"
          ],
          [
           0.04,
           "Nepal"
          ],
          [
           0.12,
           "Russian Federation"
          ],
          [
           0,
           "South Sudan"
          ],
          [
           0.02,
           "Maldives"
          ],
          [
           0.22,
           "Canada"
          ],
          [
           0.28,
           "Sweden"
          ],
          [
           0,
           "Paraguay"
          ],
          [
           0.01,
           "Niger"
          ],
          [
           0,
           "Dominica"
          ],
          [
           1,
           "Israel"
          ],
          [
           0,
           "Grenada"
          ],
          [
           0.19,
           "Panama"
          ],
          [
           0,
           "Brunei Darussalam"
          ],
          [
           0.01,
           "Mauritius"
          ],
          [
           1.24,
           "Mexico"
          ],
          [
           2.54,
           "Pakistan"
          ],
          [
           0,
           "Turkmenistan"
          ],
          [
           0,
           "Lao People's Dem. Rep."
          ],
          [
           0.02,
           "Nicaragua"
          ],
          [
           0.07,
           "Benin"
          ],
          [
           0.2,
           "Myanmar"
          ],
          [
           0.01,
           "Malawi"
          ],
          [
           0.07,
           "Cyprus"
          ],
          [
           0,
           "Guinea-Bissau"
          ],
          [
           0.53,
           "Dominican Rep."
          ],
          [
           0.01,
           "Guinea"
          ],
          [
           0.01,
           "Rwanda"
          ],
          [
           0.63,
           "Lebanon"
          ],
          [
           0,
           "Algeria"
          ],
          [
           0.08,
           "Namibia"
          ],
          [
           0.04,
           "Guatemala"
          ],
          [
           0.01,
           "Mongolia"
          ],
          [
           0.01,
           "Qatar"
          ],
          [
           0.19,
           "Croatia"
          ],
          [
           0.02,
           "Cuba"
          ],
          [
           0,
           "Eritrea"
          ],
          [
           0.84,
           "Colombia"
          ],
          [
           0,
           "Gabon"
          ],
          [
           0.5,
           "Austria"
          ],
          [
           2.23,
           "Türkiye"
          ],
          [
           0.17,
           "Egypt"
          ],
          [
           0.35,
           "North Macedonia"
          ],
          [
           0.25,
           "Romania"
          ],
          [
           0.05,
           "Ghana"
          ],
          [
           0.01,
           "Bolivia (Plurinational State of)"
          ],
          [
           0.11,
           "Armenia"
          ],
          [
           0,
           "Azerbaijan"
          ],
          [
           3.3,
           "Poland"
          ],
          [
           0.03,
           "Barbados"
          ],
          [
           0.46,
           "Oman"
          ],
          [
           0.11,
           "Côte d'Ivoire"
          ],
          [
           0,
           "FS Micronesia"
          ],
          [
           0.01,
           "New Caledonia"
          ],
          [
           1.59,
           "United Kingdom"
          ],
          [
           0,
           "Turks and Caicos Isds"
          ],
          [
           0.76,
           "Switzerland"
          ],
          [
           1.17,
           "Viet Nam"
          ],
          [
           0.04,
           "Zimbabwe"
          ],
          [
           11.03,
           "Brazil"
          ],
          [
           0.02,
           "Ethiopia"
          ],
          [
           0,
           "Eswatini"
          ],
          [
           8.13,
           "Netherlands"
          ],
          [
           0.02,
           "Mali"
          ],
          [
           0.07,
           "Burkina Faso"
          ],
          [
           0.03,
           "Montenegro"
          ],
          [
           0,
           "Cabo Verde"
          ],
          [
           0.03,
           "Sierra Leone"
          ],
          [
           0.01,
           "Liberia"
          ],
          [
           0,
           "Botswana"
          ],
          [
           0.01,
           "Seychelles"
          ],
          [
           0.05,
           "Albania"
          ],
          [
           5.46,
           "Germany"
          ],
          [
           0.13,
           "Senegal"
          ],
          [
           0.01,
           "Gambia"
          ],
          [
           0.03,
           "Somalia"
          ],
          [
           0.62,
           "Czechia"
          ],
          [
           0,
           "Burundi"
          ],
          [
           0.15,
           "Norway"
          ],
          [
           0.01,
           "Uruguay"
          ],
          [
           3.59,
           "Australia"
          ],
          [
           0.32,
           "USA"
          ],
          [
           0,
           "Kyrgyzstan"
          ],
          [
           0.14,
           "Ukraine"
          ],
          [
           0.99,
           "South Africa"
          ],
          [
           0.04,
           "Georgia"
          ],
          [
           0.1,
           "Tunisia"
          ],
          [
           0,
           "Solomon Isds"
          ],
          [
           0.02,
           "Zambia"
          ],
          [
           0.38,
           "Bangladesh"
          ],
          [
           0.01,
           "Curaçao"
          ],
          [
           0,
           "Kiribati"
          ],
          [
           0.15,
           "Estonia"
          ],
          [
           0.01,
           "Bahamas"
          ],
          [
           1.45,
           "Belgium"
          ],
          [
           2.77,
           "Greece"
          ],
          [
           0,
           "Palau"
          ],
          [
           3.74,
           "India"
          ],
          [
           0.13,
           "Serbia"
          ],
          [
           0,
           "Samoa"
          ],
          [
           0,
           "Bermuda"
          ],
          [
           0,
           "Vanuatu"
          ],
          [
           0.06,
           "Honduras"
          ],
          [
           0.32,
           "Morocco"
          ],
          [
           0.05,
           "Kazakhstan"
          ]
         ],
         "domain": {
          "x": [
           0,
           1
          ],
          "y": [
           0,
           1
          ]
         },
         "hovertemplate": "labels=%{label}<br>export_value=%{value}<br>parent=%{parent}<br>id=%{id}<br>percentage=%{customdata[0]}<br>country=%{customdata[1]}<extra></extra>",
         "ids": [
          "Jamaica",
          "Ireland",
          "Slovakia",
          "State of Palestine",
          "Libya",
          "Uzbekistan",
          "Fiji",
          "France",
          "Saint Kitts and Nevis",
          "Argentina",
          "Chile",
          "Suriname",
          "Portugal",
          "Nigeria",
          "Costa Rica",
          "Malta",
          "Slovenia",
          "Belize",
          "Saint Vincent and the Grenadines",
          "Hungary",
          "Yemen",
          "Sri Lanka",
          "Rep. of Korea",
          "Guyana",
          "Sao Tome and Principe",
          "Thailand",
          "Afghanistan",
          "United Rep. of Tanzania",
          "Cameroon",
          "Haiti",
          "Tonga",
          "Togo",
          "Belarus",
          "Madagascar",
          "Djibouti",
          "Wallis and Futuna Isds",
          "Mauritania",
          "Philippines",
          "Comoros",
          "Bulgaria",
          "Trinidad and Tobago",
          "Sudan",
          "Latvia",
          "Ecuador",
          "Marshall Isds",
          "Other Asia, nes",
          "Iceland",
          "Cayman Isds",
          "French Polynesia",
          "Malaysia",
          "Br. Virgin Isds",
          "New Zealand",
          "Saudi Arabia",
          "Chad",
          "Luxembourg",
          "El Salvador",
          "Finland",
          "Syria",
          "Spain",
          "Equatorial Guinea",
          "Uganda",
          "Mozambique",
          "Venezuela",
          "Peru",
          "Dem. Rep. of the Congo",
          "Bahrain",
          "Papua New Guinea",
          "Tajikistan",
          "Rep. of Moldova",
          "Kuwait",
          "Andorra",
          "Iraq",
          "Aruba",
          "Timor-Leste",
          "Japan",
          "Nauru",
          "Singapore",
          "Saint Lucia",
          "Italy",
          "Indonesia",
          "Cambodia",
          "United Arab Emirates",
          "Antigua and Barbuda",
          "Congo",
          "Lesotho",
          "Jordan",
          "Kenya",
          "Bosnia Herzegovina",
          "Bhutan",
          "Lithuania",
          "Angola",
          "Central African Rep.",
          "Iran",
          "Denmark",
          "Tuvalu",
          "Nepal",
          "Russian Federation",
          "South Sudan",
          "Maldives",
          "Canada",
          "Sweden",
          "Paraguay",
          "Niger",
          "Dominica",
          "Israel",
          "Grenada",
          "Panama",
          "Brunei Darussalam",
          "Mauritius",
          "Mexico",
          "Pakistan",
          "Turkmenistan",
          "Lao People's Dem. Rep.",
          "Nicaragua",
          "Benin",
          "Myanmar",
          "Malawi",
          "Cyprus",
          "Guinea-Bissau",
          "Dominican Rep.",
          "Guinea",
          "Rwanda",
          "Lebanon",
          "Algeria",
          "Namibia",
          "Guatemala",
          "Mongolia",
          "Qatar",
          "Croatia",
          "Cuba",
          "Eritrea",
          "Colombia",
          "Gabon",
          "Austria",
          "Türkiye",
          "Egypt",
          "North Macedonia",
          "Romania",
          "Ghana",
          "Bolivia (Plurinational State of)",
          "Armenia",
          "Azerbaijan",
          "Poland",
          "Barbados",
          "Oman",
          "Côte d'Ivoire",
          "FS Micronesia",
          "New Caledonia",
          "United Kingdom",
          "Turks and Caicos Isds",
          "Switzerland",
          "Viet Nam",
          "Zimbabwe",
          "Brazil",
          "Ethiopia",
          "Eswatini",
          "Netherlands",
          "Mali",
          "Burkina Faso",
          "Montenegro",
          "Cabo Verde",
          "Sierra Leone",
          "Liberia",
          "Botswana",
          "Seychelles",
          "Albania",
          "Germany",
          "Senegal",
          "Gambia",
          "Somalia",
          "Czechia",
          "Burundi",
          "Norway",
          "Uruguay",
          "Australia",
          "USA",
          "Kyrgyzstan",
          "Ukraine",
          "South Africa",
          "Georgia",
          "Tunisia",
          "Solomon Isds",
          "Zambia",
          "Bangladesh",
          "Curaçao",
          "Kiribati",
          "Estonia",
          "Bahamas",
          "Belgium",
          "Greece",
          "Palau",
          "India",
          "Serbia",
          "Samoa",
          "Bermuda",
          "Vanuatu",
          "Honduras",
          "Morocco",
          "Kazakhstan"
         ],
         "labels": [
          "Jamaica",
          "Ireland",
          "Slovakia",
          "State of Palestine",
          "Libya",
          "Uzbekistan",
          "Fiji",
          "France",
          "Saint Kitts and Nevis",
          "Argentina",
          "Chile",
          "Suriname",
          "Portugal",
          "Nigeria",
          "Costa Rica",
          "Malta",
          "Slovenia",
          "Belize",
          "Saint Vincent and the Grenadines",
          "Hungary",
          "Yemen",
          "Sri Lanka",
          "Rep. of Korea",
          "Guyana",
          "Sao Tome and Principe",
          "Thailand",
          "Afghanistan",
          "United Rep. of Tanzania",
          "Cameroon",
          "Haiti",
          "Tonga",
          "Togo",
          "Belarus",
          "Madagascar",
          "Djibouti",
          "Wallis and Futuna Isds",
          "Mauritania",
          "Philippines",
          "Comoros",
          "Bulgaria",
          "Trinidad and Tobago",
          "Sudan",
          "Latvia",
          "Ecuador",
          "Marshall Isds",
          "Other Asia, nes",
          "Iceland",
          "Cayman Isds",
          "French Polynesia",
          "Malaysia",
          "Br. Virgin Isds",
          "New Zealand",
          "Saudi Arabia",
          "Chad",
          "Luxembourg",
          "El Salvador",
          "Finland",
          "Syria",
          "Spain",
          "Equatorial Guinea",
          "Uganda",
          "Mozambique",
          "Venezuela",
          "Peru",
          "Dem. Rep. of the Congo",
          "Bahrain",
          "Papua New Guinea",
          "Tajikistan",
          "Rep. of Moldova",
          "Kuwait",
          "Andorra",
          "Iraq",
          "Aruba",
          "Timor-Leste",
          "Japan",
          "Nauru",
          "Singapore",
          "Saint Lucia",
          "Italy",
          "Indonesia",
          "Cambodia",
          "United Arab Emirates",
          "Antigua and Barbuda",
          "Congo",
          "Lesotho",
          "Jordan",
          "Kenya",
          "Bosnia Herzegovina",
          "Bhutan",
          "Lithuania",
          "Angola",
          "Central African Rep.",
          "Iran",
          "Denmark",
          "Tuvalu",
          "Nepal",
          "Russian Federation",
          "South Sudan",
          "Maldives",
          "Canada",
          "Sweden",
          "Paraguay",
          "Niger",
          "Dominica",
          "Israel",
          "Grenada",
          "Panama",
          "Brunei Darussalam",
          "Mauritius",
          "Mexico",
          "Pakistan",
          "Turkmenistan",
          "Lao People's Dem. Rep.",
          "Nicaragua",
          "Benin",
          "Myanmar",
          "Malawi",
          "Cyprus",
          "Guinea-Bissau",
          "Dominican Rep.",
          "Guinea",
          "Rwanda",
          "Lebanon",
          "Algeria",
          "Namibia",
          "Guatemala",
          "Mongolia",
          "Qatar",
          "Croatia",
          "Cuba",
          "Eritrea",
          "Colombia",
          "Gabon",
          "Austria",
          "Türkiye",
          "Egypt",
          "North Macedonia",
          "Romania",
          "Ghana",
          "Bolivia (Plurinational State of)",
          "Armenia",
          "Azerbaijan",
          "Poland",
          "Barbados",
          "Oman",
          "Côte d'Ivoire",
          "FS Micronesia",
          "New Caledonia",
          "United Kingdom",
          "Turks and Caicos Isds",
          "Switzerland",
          "Viet Nam",
          "Zimbabwe",
          "Brazil",
          "Ethiopia",
          "Eswatini",
          "Netherlands",
          "Mali",
          "Burkina Faso",
          "Montenegro",
          "Cabo Verde",
          "Sierra Leone",
          "Liberia",
          "Botswana",
          "Seychelles",
          "Albania",
          "Germany",
          "Senegal",
          "Gambia",
          "Somalia",
          "Czechia",
          "Burundi",
          "Norway",
          "Uruguay",
          "Australia",
          "USA",
          "Kyrgyzstan",
          "Ukraine",
          "South Africa",
          "Georgia",
          "Tunisia",
          "Solomon Isds",
          "Zambia",
          "Bangladesh",
          "Curaçao",
          "Kiribati",
          "Estonia",
          "Bahamas",
          "Belgium",
          "Greece",
          "Palau",
          "India",
          "Serbia",
          "Samoa",
          "Bermuda",
          "Vanuatu",
          "Honduras",
          "Morocco",
          "Kazakhstan"
         ],
         "marker": {
          "colors": [
           "rgb(103,0,31)",
           "rgb(178,24,43)",
           "rgb(214,96,77)",
           "rgb(244,165,130)",
           "rgb(253,219,199)",
           "rgb(247,247,247)",
           "rgb(209,229,240)",
           "rgb(146,197,222)",
           "rgb(67,147,195)",
           "rgb(33,102,172)",
           "rgb(5,48,97)",
           "rgb(103,0,31)",
           "rgb(178,24,43)",
           "rgb(214,96,77)",
           "rgb(244,165,130)",
           "rgb(253,219,199)",
           "rgb(247,247,247)",
           "rgb(209,229,240)",
           "rgb(146,197,222)",
           "rgb(67,147,195)",
           "rgb(33,102,172)",
           "rgb(5,48,97)",
           "rgb(103,0,31)",
           "rgb(178,24,43)",
           "rgb(214,96,77)",
           "rgb(244,165,130)",
           "rgb(253,219,199)",
           "rgb(247,247,247)",
           "rgb(209,229,240)",
           "rgb(146,197,222)",
           "rgb(67,147,195)",
           "rgb(33,102,172)",
           "rgb(5,48,97)",
           "rgb(103,0,31)",
           "rgb(178,24,43)",
           "rgb(214,96,77)",
           "rgb(244,165,130)",
           "rgb(253,219,199)",
           "rgb(247,247,247)",
           "rgb(209,229,240)",
           "rgb(146,197,222)",
           "rgb(67,147,195)",
           "rgb(33,102,172)",
           "rgb(5,48,97)",
           "rgb(103,0,31)",
           "rgb(178,24,43)",
           "rgb(214,96,77)",
           "rgb(244,165,130)",
           "rgb(253,219,199)",
           "rgb(247,247,247)",
           "rgb(209,229,240)",
           "rgb(146,197,222)",
           "rgb(67,147,195)",
           "rgb(33,102,172)",
           "rgb(5,48,97)",
           "rgb(103,0,31)",
           "rgb(178,24,43)",
           "rgb(214,96,77)",
           "rgb(244,165,130)",
           "rgb(253,219,199)",
           "rgb(247,247,247)",
           "rgb(209,229,240)",
           "rgb(146,197,222)",
           "rgb(67,147,195)",
           "rgb(33,102,172)",
           "rgb(5,48,97)",
           "rgb(103,0,31)",
           "rgb(178,24,43)",
           "rgb(214,96,77)",
           "rgb(244,165,130)",
           "rgb(253,219,199)",
           "rgb(247,247,247)",
           "rgb(209,229,240)",
           "rgb(146,197,222)",
           "rgb(67,147,195)",
           "rgb(33,102,172)",
           "rgb(5,48,97)",
           "rgb(103,0,31)",
           "rgb(178,24,43)",
           "rgb(214,96,77)",
           "rgb(244,165,130)",
           "rgb(253,219,199)",
           "rgb(247,247,247)",
           "rgb(209,229,240)",
           "rgb(146,197,222)",
           "rgb(67,147,195)",
           "rgb(33,102,172)",
           "rgb(5,48,97)",
           "rgb(103,0,31)",
           "rgb(178,24,43)",
           "rgb(214,96,77)",
           "rgb(244,165,130)",
           "rgb(253,219,199)",
           "rgb(247,247,247)",
           "rgb(209,229,240)",
           "rgb(146,197,222)",
           "rgb(67,147,195)",
           "rgb(33,102,172)",
           "rgb(5,48,97)",
           "rgb(103,0,31)",
           "rgb(178,24,43)",
           "rgb(214,96,77)",
           "rgb(244,165,130)",
           "rgb(253,219,199)",
           "rgb(247,247,247)",
           "rgb(209,229,240)",
           "rgb(146,197,222)",
           "rgb(67,147,195)",
           "rgb(33,102,172)",
           "rgb(5,48,97)",
           "rgb(103,0,31)",
           "rgb(178,24,43)",
           "rgb(214,96,77)",
           "rgb(244,165,130)",
           "rgb(253,219,199)",
           "rgb(247,247,247)",
           "rgb(209,229,240)",
           "rgb(146,197,222)",
           "rgb(67,147,195)",
           "rgb(33,102,172)",
           "rgb(5,48,97)",
           "rgb(103,0,31)",
           "rgb(178,24,43)",
           "rgb(214,96,77)",
           "rgb(244,165,130)",
           "rgb(253,219,199)",
           "rgb(247,247,247)",
           "rgb(209,229,240)",
           "rgb(146,197,222)",
           "rgb(67,147,195)",
           "rgb(33,102,172)",
           "rgb(5,48,97)",
           "rgb(103,0,31)",
           "rgb(178,24,43)",
           "rgb(214,96,77)",
           "rgb(244,165,130)",
           "rgb(253,219,199)",
           "rgb(247,247,247)",
           "rgb(209,229,240)",
           "rgb(146,197,222)",
           "rgb(67,147,195)",
           "rgb(33,102,172)",
           "rgb(5,48,97)",
           "rgb(103,0,31)",
           "rgb(178,24,43)",
           "rgb(214,96,77)",
           "rgb(244,165,130)",
           "rgb(253,219,199)",
           "rgb(247,247,247)",
           "rgb(209,229,240)",
           "rgb(146,197,222)",
           "rgb(67,147,195)",
           "rgb(33,102,172)",
           "rgb(5,48,97)",
           "rgb(103,0,31)",
           "rgb(178,24,43)",
           "rgb(214,96,77)",
           "rgb(244,165,130)",
           "rgb(253,219,199)",
           "rgb(247,247,247)",
           "rgb(209,229,240)",
           "rgb(146,197,222)",
           "rgb(67,147,195)",
           "rgb(33,102,172)",
           "rgb(5,48,97)",
           "rgb(103,0,31)",
           "rgb(178,24,43)",
           "rgb(214,96,77)",
           "rgb(244,165,130)",
           "rgb(253,219,199)",
           "rgb(247,247,247)",
           "rgb(209,229,240)",
           "rgb(146,197,222)",
           "rgb(67,147,195)",
           "rgb(33,102,172)",
           "rgb(5,48,97)",
           "rgb(103,0,31)",
           "rgb(178,24,43)",
           "rgb(214,96,77)",
           "rgb(244,165,130)",
           "rgb(253,219,199)",
           "rgb(247,247,247)",
           "rgb(209,229,240)",
           "rgb(146,197,222)",
           "rgb(67,147,195)",
           "rgb(33,102,172)",
           "rgb(5,48,97)",
           "rgb(103,0,31)",
           "rgb(178,24,43)",
           "rgb(214,96,77)",
           "rgb(244,165,130)",
           "rgb(253,219,199)",
           "rgb(247,247,247)",
           "rgb(209,229,240)",
           "rgb(146,197,222)",
           "rgb(67,147,195)",
           "rgb(33,102,172)",
           "rgb(5,48,97)",
           "rgb(103,0,31)"
          ]
         },
         "name": "",
         "parents": [
          "",
          "",
          "",
          "",
          "",
          "",
          "",
          "",
          "",
          "",
          "",
          "",
          "",
          "",
          "",
          "",
          "",
          "",
          "",
          "",
          "",
          "",
          "",
          "",
          "",
          "",
          "",
          "",
          "",
          "",
          "",
          "",
          "",
          "",
          "",
          "",
          "",
          "",
          "",
          "",
          "",
          "",
          "",
          "",
          "",
          "",
          "",
          "",
          "",
          "",
          "",
          "",
          "",
          "",
          "",
          "",
          "",
          "",
          "",
          "",
          "",
          "",
          "",
          "",
          "",
          "",
          "",
          "",
          "",
          "",
          "",
          "",
          "",
          "",
          "",
          "",
          "",
          "",
          "",
          "",
          "",
          "",
          "",
          "",
          "",
          "",
          "",
          "",
          "",
          "",
          "",
          "",
          "",
          "",
          "",
          "",
          "",
          "",
          "",
          "",
          "",
          "",
          "",
          "",
          "",
          "",
          "",
          "",
          "",
          "",
          "",
          "",
          "",
          "",
          "",
          "",
          "",
          "",
          "",
          "",
          "",
          "",
          "",
          "",
          "",
          "",
          "",
          "",
          "",
          "",
          "",
          "",
          "",
          "",
          "",
          "",
          "",
          "",
          "",
          "",
          "",
          "",
          "",
          "",
          "",
          "",
          "",
          "",
          "",
          "",
          "",
          "",
          "",
          "",
          "",
          "",
          "",
          "",
          "",
          "",
          "",
          "",
          "",
          "",
          "",
          "",
          "",
          "",
          "",
          "",
          "",
          "",
          "",
          "",
          "",
          "",
          "",
          "",
          "",
          "",
          "",
          "",
          "",
          "",
          "",
          "",
          "",
          "",
          "",
          "",
          "",
          "",
          "",
          "",
          "",
          "",
          "",
          "",
          ""
         ],
         "root": {
          "color": "lightgrey"
         },
         "textfont": {
          "color": "white",
          "size": 17
         },
         "texttemplate": "%{label}<br>%{value} thousand USD<br>%{customdata[0]}%",
         "type": "treemap",
         "values": [
          10896.11,
          14583.33,
          5972.25,
          991.02,
          3784.9,
          21316.88,
          2534.36,
          838659.6,
          114.5,
          40399.8,
          161794.29,
          647.26,
          881727.35,
          135932.21,
          13081.29,
          3018.7,
          251693.05,
          1506.84,
          457.88,
          242851,
          24299.14,
          31646.52,
          671154.44,
          1526.94,
          8.05,
          943316.49,
          16113.46,
          30585.28,
          10759.15,
          16718,
          132.79,
          13402.24,
          678.16,
          28306.1,
          4525.19,
          33.24,
          13176.73,
          397413.51,
          204.51,
          236645.31,
          646.14,
          36159.11,
          10477.53,
          10894.25,
          185.97,
          36856.53,
          116.47,
          13.38,
          2743,
          305638.06,
          296.38,
          27295.91,
          317061.17,
          2502.83,
          16800.58,
          40230.95,
          86038.36,
          3186.59,
          3234931.52,
          456.66,
          14553.92,
          26457.79,
          1211.19,
          31430.11,
          10604.68,
          3726.12,
          3401.62,
          95.54,
          3104.24,
          4625.22,
          532.1,
          15550.05,
          1608.81,
          152.9,
          1834943.09,
          1612.21,
          292494.22,
          165.02,
          407248.39,
          150773.19,
          668126.32,
          875306.48,
          73.28,
          508.88,
          482.92,
          219575.69,
          84881.06,
          26073.45,
          555.61,
          71722.78,
          10983.47,
          6941.35,
          11827.64,
          337683.03,
          8.2,
          12450.22,
          43593.62,
          953.77,
          6601.85,
          79621.44,
          99428.89,
          1725.24,
          2356.28,
          996.64,
          355740.11,
          296.22,
          65857.41,
          109.81,
          4063.12,
          438776.96,
          902285.71,
          192.36,
          619.11,
          6000.66,
          23969.04,
          71618.26,
          2982.32,
          23353.84,
          801.51,
          189469.36,
          4924.29,
          4535.13,
          223884.18,
          716.07,
          27198.82,
          15932.25,
          5030.8,
          2448.39,
          69124.21,
          7050.66,
          595.33,
          299864.47,
          304.38,
          177358.98,
          790119.69,
          60101.87,
          123741.52,
          88773.07,
          17005.54,
          2326.7,
          38560.53,
          486.46,
          1171896.8,
          9617.54,
          162998.99,
          37408.74,
          23.37,
          4973.63,
          563925.93,
          677.74,
          270963.26,
          414626.41,
          15255.26,
          3914079.2,
          5472.7,
          152.07,
          2886514.79,
          6252.98,
          24608.14,
          10672.61,
          284.67,
          10389.46,
          2629.45,
          1200.79,
          4621.23,
          16970.85,
          1937959.41,
          45271.99,
          1968.75,
          11174.74,
          221252.66,
          247.92,
          53864.42,
          2998.9,
          1273985.66,
          114962.61,
          1692.9,
          49913.29,
          350055.15,
          14216.71,
          34972.77,
          923.3,
          5736.84,
          136249.05,
          3048.1,
          164.93,
          54958.6,
          2415.21,
          515109.58,
          984299.59,
          159.5,
          1329135.86,
          45572.09,
          16.87,
          9.62,
          959.73,
          20863.68,
          113964.11,
          19206.23
         ]
        }
       ],
       "layout": {
        "legend": {
         "tracegroupgap": 0
        },
        "margin": {
         "b": 25,
         "l": 25,
         "r": 25,
         "t": 50
        },
        "template": {
         "data": {
          "bar": [
           {
            "error_x": {
             "color": "#2a3f5f"
            },
            "error_y": {
             "color": "#2a3f5f"
            },
            "marker": {
             "line": {
              "color": "#E5ECF6",
              "width": 0.5
             },
             "pattern": {
              "fillmode": "overlay",
              "size": 10,
              "solidity": 0.2
             }
            },
            "type": "bar"
           }
          ],
          "barpolar": [
           {
            "marker": {
             "line": {
              "color": "#E5ECF6",
              "width": 0.5
             },
             "pattern": {
              "fillmode": "overlay",
              "size": 10,
              "solidity": 0.2
             }
            },
            "type": "barpolar"
           }
          ],
          "carpet": [
           {
            "aaxis": {
             "endlinecolor": "#2a3f5f",
             "gridcolor": "white",
             "linecolor": "white",
             "minorgridcolor": "white",
             "startlinecolor": "#2a3f5f"
            },
            "baxis": {
             "endlinecolor": "#2a3f5f",
             "gridcolor": "white",
             "linecolor": "white",
             "minorgridcolor": "white",
             "startlinecolor": "#2a3f5f"
            },
            "type": "carpet"
           }
          ],
          "choropleth": [
           {
            "colorbar": {
             "outlinewidth": 0,
             "ticks": ""
            },
            "type": "choropleth"
           }
          ],
          "contour": [
           {
            "colorbar": {
             "outlinewidth": 0,
             "ticks": ""
            },
            "colorscale": [
             [
              0,
              "#0d0887"
             ],
             [
              0.1111111111111111,
              "#46039f"
             ],
             [
              0.2222222222222222,
              "#7201a8"
             ],
             [
              0.3333333333333333,
              "#9c179e"
             ],
             [
              0.4444444444444444,
              "#bd3786"
             ],
             [
              0.5555555555555556,
              "#d8576b"
             ],
             [
              0.6666666666666666,
              "#ed7953"
             ],
             [
              0.7777777777777778,
              "#fb9f3a"
             ],
             [
              0.8888888888888888,
              "#fdca26"
             ],
             [
              1,
              "#f0f921"
             ]
            ],
            "type": "contour"
           }
          ],
          "contourcarpet": [
           {
            "colorbar": {
             "outlinewidth": 0,
             "ticks": ""
            },
            "type": "contourcarpet"
           }
          ],
          "heatmap": [
           {
            "colorbar": {
             "outlinewidth": 0,
             "ticks": ""
            },
            "colorscale": [
             [
              0,
              "#0d0887"
             ],
             [
              0.1111111111111111,
              "#46039f"
             ],
             [
              0.2222222222222222,
              "#7201a8"
             ],
             [
              0.3333333333333333,
              "#9c179e"
             ],
             [
              0.4444444444444444,
              "#bd3786"
             ],
             [
              0.5555555555555556,
              "#d8576b"
             ],
             [
              0.6666666666666666,
              "#ed7953"
             ],
             [
              0.7777777777777778,
              "#fb9f3a"
             ],
             [
              0.8888888888888888,
              "#fdca26"
             ],
             [
              1,
              "#f0f921"
             ]
            ],
            "type": "heatmap"
           }
          ],
          "heatmapgl": [
           {
            "colorbar": {
             "outlinewidth": 0,
             "ticks": ""
            },
            "colorscale": [
             [
              0,
              "#0d0887"
             ],
             [
              0.1111111111111111,
              "#46039f"
             ],
             [
              0.2222222222222222,
              "#7201a8"
             ],
             [
              0.3333333333333333,
              "#9c179e"
             ],
             [
              0.4444444444444444,
              "#bd3786"
             ],
             [
              0.5555555555555556,
              "#d8576b"
             ],
             [
              0.6666666666666666,
              "#ed7953"
             ],
             [
              0.7777777777777778,
              "#fb9f3a"
             ],
             [
              0.8888888888888888,
              "#fdca26"
             ],
             [
              1,
              "#f0f921"
             ]
            ],
            "type": "heatmapgl"
           }
          ],
          "histogram": [
           {
            "marker": {
             "pattern": {
              "fillmode": "overlay",
              "size": 10,
              "solidity": 0.2
             }
            },
            "type": "histogram"
           }
          ],
          "histogram2d": [
           {
            "colorbar": {
             "outlinewidth": 0,
             "ticks": ""
            },
            "colorscale": [
             [
              0,
              "#0d0887"
             ],
             [
              0.1111111111111111,
              "#46039f"
             ],
             [
              0.2222222222222222,
              "#7201a8"
             ],
             [
              0.3333333333333333,
              "#9c179e"
             ],
             [
              0.4444444444444444,
              "#bd3786"
             ],
             [
              0.5555555555555556,
              "#d8576b"
             ],
             [
              0.6666666666666666,
              "#ed7953"
             ],
             [
              0.7777777777777778,
              "#fb9f3a"
             ],
             [
              0.8888888888888888,
              "#fdca26"
             ],
             [
              1,
              "#f0f921"
             ]
            ],
            "type": "histogram2d"
           }
          ],
          "histogram2dcontour": [
           {
            "colorbar": {
             "outlinewidth": 0,
             "ticks": ""
            },
            "colorscale": [
             [
              0,
              "#0d0887"
             ],
             [
              0.1111111111111111,
              "#46039f"
             ],
             [
              0.2222222222222222,
              "#7201a8"
             ],
             [
              0.3333333333333333,
              "#9c179e"
             ],
             [
              0.4444444444444444,
              "#bd3786"
             ],
             [
              0.5555555555555556,
              "#d8576b"
             ],
             [
              0.6666666666666666,
              "#ed7953"
             ],
             [
              0.7777777777777778,
              "#fb9f3a"
             ],
             [
              0.8888888888888888,
              "#fdca26"
             ],
             [
              1,
              "#f0f921"
             ]
            ],
            "type": "histogram2dcontour"
           }
          ],
          "mesh3d": [
           {
            "colorbar": {
             "outlinewidth": 0,
             "ticks": ""
            },
            "type": "mesh3d"
           }
          ],
          "parcoords": [
           {
            "line": {
             "colorbar": {
              "outlinewidth": 0,
              "ticks": ""
             }
            },
            "type": "parcoords"
           }
          ],
          "pie": [
           {
            "automargin": true,
            "type": "pie"
           }
          ],
          "scatter": [
           {
            "fillpattern": {
             "fillmode": "overlay",
             "size": 10,
             "solidity": 0.2
            },
            "type": "scatter"
           }
          ],
          "scatter3d": [
           {
            "line": {
             "colorbar": {
              "outlinewidth": 0,
              "ticks": ""
             }
            },
            "marker": {
             "colorbar": {
              "outlinewidth": 0,
              "ticks": ""
             }
            },
            "type": "scatter3d"
           }
          ],
          "scattercarpet": [
           {
            "marker": {
             "colorbar": {
              "outlinewidth": 0,
              "ticks": ""
             }
            },
            "type": "scattercarpet"
           }
          ],
          "scattergeo": [
           {
            "marker": {
             "colorbar": {
              "outlinewidth": 0,
              "ticks": ""
             }
            },
            "type": "scattergeo"
           }
          ],
          "scattergl": [
           {
            "marker": {
             "colorbar": {
              "outlinewidth": 0,
              "ticks": ""
             }
            },
            "type": "scattergl"
           }
          ],
          "scattermapbox": [
           {
            "marker": {
             "colorbar": {
              "outlinewidth": 0,
              "ticks": ""
             }
            },
            "type": "scattermapbox"
           }
          ],
          "scatterpolar": [
           {
            "marker": {
             "colorbar": {
              "outlinewidth": 0,
              "ticks": ""
             }
            },
            "type": "scatterpolar"
           }
          ],
          "scatterpolargl": [
           {
            "marker": {
             "colorbar": {
              "outlinewidth": 0,
              "ticks": ""
             }
            },
            "type": "scatterpolargl"
           }
          ],
          "scatterternary": [
           {
            "marker": {
             "colorbar": {
              "outlinewidth": 0,
              "ticks": ""
             }
            },
            "type": "scatterternary"
           }
          ],
          "surface": [
           {
            "colorbar": {
             "outlinewidth": 0,
             "ticks": ""
            },
            "colorscale": [
             [
              0,
              "#0d0887"
             ],
             [
              0.1111111111111111,
              "#46039f"
             ],
             [
              0.2222222222222222,
              "#7201a8"
             ],
             [
              0.3333333333333333,
              "#9c179e"
             ],
             [
              0.4444444444444444,
              "#bd3786"
             ],
             [
              0.5555555555555556,
              "#d8576b"
             ],
             [
              0.6666666666666666,
              "#ed7953"
             ],
             [
              0.7777777777777778,
              "#fb9f3a"
             ],
             [
              0.8888888888888888,
              "#fdca26"
             ],
             [
              1,
              "#f0f921"
             ]
            ],
            "type": "surface"
           }
          ],
          "table": [
           {
            "cells": {
             "fill": {
              "color": "#EBF0F8"
             },
             "line": {
              "color": "white"
             }
            },
            "header": {
             "fill": {
              "color": "#C8D4E3"
             },
             "line": {
              "color": "white"
             }
            },
            "type": "table"
           }
          ]
         },
         "layout": {
          "annotationdefaults": {
           "arrowcolor": "#2a3f5f",
           "arrowhead": 0,
           "arrowwidth": 1
          },
          "autotypenumbers": "strict",
          "coloraxis": {
           "colorbar": {
            "outlinewidth": 0,
            "ticks": ""
           }
          },
          "colorscale": {
           "diverging": [
            [
             0,
             "#8e0152"
            ],
            [
             0.1,
             "#c51b7d"
            ],
            [
             0.2,
             "#de77ae"
            ],
            [
             0.3,
             "#f1b6da"
            ],
            [
             0.4,
             "#fde0ef"
            ],
            [
             0.5,
             "#f7f7f7"
            ],
            [
             0.6,
             "#e6f5d0"
            ],
            [
             0.7,
             "#b8e186"
            ],
            [
             0.8,
             "#7fbc41"
            ],
            [
             0.9,
             "#4d9221"
            ],
            [
             1,
             "#276419"
            ]
           ],
           "sequential": [
            [
             0,
             "#0d0887"
            ],
            [
             0.1111111111111111,
             "#46039f"
            ],
            [
             0.2222222222222222,
             "#7201a8"
            ],
            [
             0.3333333333333333,
             "#9c179e"
            ],
            [
             0.4444444444444444,
             "#bd3786"
            ],
            [
             0.5555555555555556,
             "#d8576b"
            ],
            [
             0.6666666666666666,
             "#ed7953"
            ],
            [
             0.7777777777777778,
             "#fb9f3a"
            ],
            [
             0.8888888888888888,
             "#fdca26"
            ],
            [
             1,
             "#f0f921"
            ]
           ],
           "sequentialminus": [
            [
             0,
             "#0d0887"
            ],
            [
             0.1111111111111111,
             "#46039f"
            ],
            [
             0.2222222222222222,
             "#7201a8"
            ],
            [
             0.3333333333333333,
             "#9c179e"
            ],
            [
             0.4444444444444444,
             "#bd3786"
            ],
            [
             0.5555555555555556,
             "#d8576b"
            ],
            [
             0.6666666666666666,
             "#ed7953"
            ],
            [
             0.7777777777777778,
             "#fb9f3a"
            ],
            [
             0.8888888888888888,
             "#fdca26"
            ],
            [
             1,
             "#f0f921"
            ]
           ]
          },
          "colorway": [
           "#636efa",
           "#EF553B",
           "#00cc96",
           "#ab63fa",
           "#FFA15A",
           "#19d3f3",
           "#FF6692",
           "#B6E880",
           "#FF97FF",
           "#FECB52"
          ],
          "font": {
           "color": "#2a3f5f"
          },
          "geo": {
           "bgcolor": "white",
           "lakecolor": "white",
           "landcolor": "#E5ECF6",
           "showlakes": true,
           "showland": true,
           "subunitcolor": "white"
          },
          "hoverlabel": {
           "align": "left"
          },
          "hovermode": "closest",
          "mapbox": {
           "style": "light"
          },
          "paper_bgcolor": "white",
          "plot_bgcolor": "#E5ECF6",
          "polar": {
           "angularaxis": {
            "gridcolor": "white",
            "linecolor": "white",
            "ticks": ""
           },
           "bgcolor": "#E5ECF6",
           "radialaxis": {
            "gridcolor": "white",
            "linecolor": "white",
            "ticks": ""
           }
          },
          "scene": {
           "xaxis": {
            "backgroundcolor": "#E5ECF6",
            "gridcolor": "white",
            "gridwidth": 2,
            "linecolor": "white",
            "showbackground": true,
            "ticks": "",
            "zerolinecolor": "white"
           },
           "yaxis": {
            "backgroundcolor": "#E5ECF6",
            "gridcolor": "white",
            "gridwidth": 2,
            "linecolor": "white",
            "showbackground": true,
            "ticks": "",
            "zerolinecolor": "white"
           },
           "zaxis": {
            "backgroundcolor": "#E5ECF6",
            "gridcolor": "white",
            "gridwidth": 2,
            "linecolor": "white",
            "showbackground": true,
            "ticks": "",
            "zerolinecolor": "white"
           }
          },
          "shapedefaults": {
           "line": {
            "color": "#2a3f5f"
           }
          },
          "ternary": {
           "aaxis": {
            "gridcolor": "white",
            "linecolor": "white",
            "ticks": ""
           },
           "baxis": {
            "gridcolor": "white",
            "linecolor": "white",
            "ticks": ""
           },
           "bgcolor": "#E5ECF6",
           "caxis": {
            "gridcolor": "white",
            "linecolor": "white",
            "ticks": ""
           }
          },
          "title": {
           "x": 0.05
          },
          "xaxis": {
           "automargin": true,
           "gridcolor": "white",
           "linecolor": "white",
           "ticks": "",
           "title": {
            "standoff": 15
           },
           "zerolinecolor": "white",
           "zerolinewidth": 2
          },
          "yaxis": {
           "automargin": true,
           "gridcolor": "white",
           "linecolor": "white",
           "ticks": "",
           "title": {
            "standoff": 15
           },
           "zerolinecolor": "white",
           "zerolinewidth": 2
          }
         }
        },
        "title": {
         "text": "The Proportion of Photovoltaic Related Materials exports from China to Other Countries."
        },
        "treemapcolorway": [
         "rgb(103,0,31)",
         "rgb(178,24,43)",
         "rgb(214,96,77)",
         "rgb(244,165,130)",
         "rgb(253,219,199)",
         "rgb(247,247,247)",
         "rgb(209,229,240)",
         "rgb(146,197,222)",
         "rgb(67,147,195)",
         "rgb(33,102,172)",
         "rgb(5,48,97)"
        ]
       }
      }
     },
     "metadata": {},
     "output_type": "display_data"
    },
    {
     "name": "stdout",
     "output_type": "stream",
     "text": [
      "New trio type: Photovoltaic Products \n",
      " Total value of imports: 35501674.344 thousand USD \n",
      " [3914079.2  3234931.52 2886514.79 1937959.41 1834943.09 1329135.86\n",
      " 1273985.66 1171896.8   984299.59  943316.49] \n",
      " ['Brazil' 'Spain' 'Netherlands' 'Germany' 'Japan' 'India' 'Australia'\n",
      " 'Poland' 'Greece' 'Thailand'] \n",
      " percentage: [0.11025055 0.09112053 0.08130644 0.05458783 0.0516861  0.03743868\n",
      " 0.03588523 0.03300962 0.02772544 0.02657104] \n",
      " oveall percentage: 0.5495814710299005\n"
     ]
    }
   ],
   "source": [
    "all_data_diagram(n3list,all_data_code,country_code,product_code,target_country_name)"
   ]
  },
  {
   "cell_type": "code",
   "execution_count": 26,
   "id": "d67a172a",
   "metadata": {
    "scrolled": false
   },
   "outputs": [
    {
     "name": "stdout",
     "output_type": "stream",
     "text": [
      " New trio type: Electric vehicles \n",
      " Total value of imports: 5691417.605000001 thousand USD \n",
      " [5290273.9    77667.63   72237.27   57473.39   48715.86   17489.65\n",
      "   16791.9    16341.9    15621.13   13938.03] \n",
      " ['Dem. Rep. of the Congo' 'USA' 'Canada' 'South Africa' 'Australia'\n",
      " 'Japan' 'Malaysia' 'Madagascar' 'United Kingdom' 'Belgium'] \n",
      " percentage: [0.92951779 0.01364645 0.01269232 0.01009826 0.00855953 0.00307299\n",
      " 0.00295039 0.00287132 0.00274468 0.00244896] \n",
      " oveall percentage: 0.9886026734458891\n"
     ]
    },
    {
     "data": {
      "application/vnd.plotly.v1+json": {
       "config": {
        "plotlyServerURL": "https://plot.ly"
       },
       "data": [
        {
         "branchvalues": "total",
         "customdata": [
          [
           0.01,
           "Myanmar"
          ],
          [
           0.13,
           "Lao People's Dem. Rep."
          ],
          [
           0,
           "Senegal"
          ],
          [
           0,
           "Mozambique"
          ],
          [
           0,
           "Dominica"
          ],
          [
           0.03,
           "Lebanon"
          ],
          [
           0.12,
           "Armenia"
          ],
          [
           0.13,
           "Finland"
          ],
          [
           0.02,
           "French Polynesia"
          ],
          [
           0.27,
           "Iceland"
          ],
          [
           0,
           "Oman"
          ],
          [
           0.02,
           "Cuba"
          ],
          [
           0.01,
           "Maldives"
          ],
          [
           0.05,
           "Czechia"
          ],
          [
           0.01,
           "Angola"
          ],
          [
           6.82,
           "Spain"
          ],
          [
           0,
           "Sierra Leone"
          ],
          [
           0,
           "Madagascar"
          ],
          [
           0.07,
           "Nepal"
          ],
          [
           0,
           "Venezuela"
          ],
          [
           0.77,
           "Uzbekistan"
          ],
          [
           0,
           "Bolivia (Plurinational State of)"
          ],
          [
           0,
           "Tunisia"
          ],
          [
           0.06,
           "Poland"
          ],
          [
           0.05,
           "Saudi Arabia"
          ],
          [
           0.01,
           "Romania"
          ],
          [
           4.98,
           "Germany"
          ],
          [
           0,
           "Bulgaria"
          ],
          [
           0.42,
           "Türkiye"
          ],
          [
           0,
           "Cyprus"
          ],
          [
           0.23,
           "Costa Rica"
          ],
          [
           0.23,
           "Colombia"
          ],
          [
           0,
           "Nicaragua"
          ],
          [
           1.45,
           "Jordan"
          ],
          [
           0.01,
           "New Caledonia"
          ],
          [
           0,
           "Sudan"
          ],
          [
           0.01,
           "Greece"
          ],
          [
           0.05,
           "Tajikistan"
          ],
          [
           0,
           "Rep. of Moldova"
          ],
          [
           0.03,
           "Ecuador"
          ],
          [
           0,
           "El Salvador"
          ],
          [
           2.35,
           "USA"
          ],
          [
           1.81,
           "France"
          ],
          [
           0.09,
           "India"
          ],
          [
           0.03,
           "Georgia"
          ],
          [
           0.02,
           "Peru"
          ],
          [
           0,
           "Papua New Guinea"
          ],
          [
           0,
           "Honduras"
          ],
          [
           1.09,
           "Rep. of Korea"
          ],
          [
           0.11,
           "Denmark"
          ],
          [
           14.98,
           "Belgium"
          ],
          [
           0.09,
           "Kazakhstan"
          ],
          [
           6.17,
           "United Arab Emirates"
          ],
          [
           0.01,
           "Hungary"
          ],
          [
           6.25,
           "Australia"
          ],
          [
           0,
           "Pakistan"
          ],
          [
           0,
           "Latvia"
          ],
          [
           0,
           "United Rep. of Tanzania"
          ],
          [
           0,
           "Malawi"
          ],
          [
           0.02,
           "Viet Nam"
          ],
          [
           0.44,
           "Sweden"
          ],
          [
           0.03,
           "Lithuania"
          ],
          [
           0.16,
           "Chile"
          ],
          [
           0,
           "Estonia"
          ],
          [
           0,
           "Cayman Isds"
          ],
          [
           0,
           "Rwanda"
          ],
          [
           0,
           "Dem. Rep. of the Congo"
          ],
          [
           0.06,
           "Azerbaijan"
          ],
          [
           0,
           "Burkina Faso"
          ],
          [
           0.18,
           "Kyrgyzstan"
          ],
          [
           0,
           "Bermuda"
          ],
          [
           0,
           "Belize"
          ],
          [
           0.05,
           "Egypt"
          ],
          [
           0.02,
           "Panama"
          ],
          [
           0,
           "Malta"
          ],
          [
           0,
           "Curaçao"
          ],
          [
           0.09,
           "Djibouti"
          ],
          [
           0,
           "Timor-Leste"
          ],
          [
           0.27,
           "Indonesia"
          ],
          [
           0,
           "Iraq"
          ],
          [
           0,
           "Gambia"
          ],
          [
           0.01,
           "Slovakia"
          ],
          [
           0,
           "Vanuatu"
          ],
          [
           0.06,
           "Dominican Rep."
          ],
          [
           0.01,
           "Mauritius"
          ],
          [
           0,
           "Seychelles"
          ],
          [
           0.03,
           "Mongolia"
          ],
          [
           0,
           "Cabo Verde"
          ],
          [
           0.14,
           "Ireland"
          ],
          [
           0,
           "Sri Lanka"
          ],
          [
           0.01,
           "Kuwait"
          ],
          [
           0.32,
           "Ukraine"
          ],
          [
           0.02,
           "Morocco"
          ],
          [
           0.04,
           "Ethiopia"
          ],
          [
           0.16,
           "Belarus"
          ],
          [
           0.05,
           "Luxembourg"
          ],
          [
           0.01,
           "Barbados"
          ],
          [
           0,
           "State of Palestine"
          ],
          [
           2.31,
           "Switzerland"
          ],
          [
           0,
           "Turks and Caicos Isds"
          ],
          [
           0,
           "Antigua and Barbuda"
          ],
          [
           0.15,
           "Uruguay"
          ],
          [
           3.89,
           "Slovenia"
          ],
          [
           0,
           "Other Asia, nes"
          ],
          [
           3.8,
           "Israel"
          ],
          [
           0.02,
           "Serbia"
          ],
          [
           1.43,
           "Japan"
          ],
          [
           0,
           "Kenya"
          ],
          [
           0,
           "Croatia"
          ],
          [
           0,
           "Fiji"
          ],
          [
           0,
           "Guinea"
          ],
          [
           0,
           "Montenegro"
          ],
          [
           0.01,
           "Bhutan"
          ],
          [
           2.07,
           "New Zealand"
          ],
          [
           0.11,
           "Malaysia"
          ],
          [
           0.41,
           "Canada"
          ],
          [
           0.29,
           "Russian Federation"
          ],
          [
           0,
           "Trinidad and Tobago"
          ],
          [
           0,
           "Ghana"
          ],
          [
           0.04,
           "South Africa"
          ],
          [
           0.39,
           "Italy"
          ],
          [
           0.01,
           "Qatar"
          ],
          [
           0.54,
           "Singapore"
          ],
          [
           0,
           "Botswana"
          ],
          [
           0.35,
           "Mexico"
          ],
          [
           0.06,
           "Austria"
          ],
          [
           0.23,
           "Philippines"
          ],
          [
           0.01,
           "Guatemala"
          ],
          [
           0,
           "Argentina"
          ],
          [
           2.34,
           "Thailand"
          ],
          [
           1.88,
           "Netherlands"
          ],
          [
           0,
           "Solomon Isds"
          ],
          [
           0.84,
           "Brazil"
          ],
          [
           0.21,
           "Bangladesh"
          ],
          [
           0,
           "Grenada"
          ],
          [
           0,
           "Bahrain"
          ],
          [
           0.04,
           "Portugal"
          ],
          [
           0,
           "Zambia"
          ],
          [
           0,
           "North Macedonia"
          ],
          [
           0,
           "Saint Lucia"
          ],
          [
           0,
           "Togo"
          ],
          [
           0,
           "Brunei Darussalam"
          ],
          [
           0.03,
           "Bahamas"
          ],
          [
           0,
           "Uganda"
          ],
          [
           0.05,
           "Cambodia"
          ],
          [
           0.01,
           "Aruba"
          ],
          [
           0,
           "Albania"
          ],
          [
           0,
           "Nigeria"
          ],
          [
           0,
           "Côte d'Ivoire"
          ],
          [
           0,
           "Bosnia Herzegovina"
          ],
          [
           0,
           "Zimbabwe"
          ],
          [
           0.02,
           "Paraguay"
          ],
          [
           0.01,
           "Jamaica"
          ],
          [
           20.17,
           "United Kingdom"
          ],
          [
           7.05,
           "Norway"
          ]
         ],
         "domain": {
          "x": [
           0,
           1
          ],
          "y": [
           0,
           1
          ]
         },
         "hovertemplate": "labels=%{label}<br>export_value=%{value}<br>parent=%{parent}<br>id=%{id}<br>percentage=%{customdata[0]}<br>country=%{customdata[1]}<extra></extra>",
         "ids": [
          "Myanmar",
          "Lao People's Dem. Rep.",
          "Senegal",
          "Mozambique",
          "Dominica",
          "Lebanon",
          "Armenia",
          "Finland",
          "French Polynesia",
          "Iceland",
          "Oman",
          "Cuba",
          "Maldives",
          "Czechia",
          "Angola",
          "Spain",
          "Sierra Leone",
          "Madagascar",
          "Nepal",
          "Venezuela",
          "Uzbekistan",
          "Bolivia (Plurinational State of)",
          "Tunisia",
          "Poland",
          "Saudi Arabia",
          "Romania",
          "Germany",
          "Bulgaria",
          "Türkiye",
          "Cyprus",
          "Costa Rica",
          "Colombia",
          "Nicaragua",
          "Jordan",
          "New Caledonia",
          "Sudan",
          "Greece",
          "Tajikistan",
          "Rep. of Moldova",
          "Ecuador",
          "El Salvador",
          "USA",
          "France",
          "India",
          "Georgia",
          "Peru",
          "Papua New Guinea",
          "Honduras",
          "Rep. of Korea",
          "Denmark",
          "Belgium",
          "Kazakhstan",
          "United Arab Emirates",
          "Hungary",
          "Australia",
          "Pakistan",
          "Latvia",
          "United Rep. of Tanzania",
          "Malawi",
          "Viet Nam",
          "Sweden",
          "Lithuania",
          "Chile",
          "Estonia",
          "Cayman Isds",
          "Rwanda",
          "Dem. Rep. of the Congo",
          "Azerbaijan",
          "Burkina Faso",
          "Kyrgyzstan",
          "Bermuda",
          "Belize",
          "Egypt",
          "Panama",
          "Malta",
          "Curaçao",
          "Djibouti",
          "Timor-Leste",
          "Indonesia",
          "Iraq",
          "Gambia",
          "Slovakia",
          "Vanuatu",
          "Dominican Rep.",
          "Mauritius",
          "Seychelles",
          "Mongolia",
          "Cabo Verde",
          "Ireland",
          "Sri Lanka",
          "Kuwait",
          "Ukraine",
          "Morocco",
          "Ethiopia",
          "Belarus",
          "Luxembourg",
          "Barbados",
          "State of Palestine",
          "Switzerland",
          "Turks and Caicos Isds",
          "Antigua and Barbuda",
          "Uruguay",
          "Slovenia",
          "Other Asia, nes",
          "Israel",
          "Serbia",
          "Japan",
          "Kenya",
          "Croatia",
          "Fiji",
          "Guinea",
          "Montenegro",
          "Bhutan",
          "New Zealand",
          "Malaysia",
          "Canada",
          "Russian Federation",
          "Trinidad and Tobago",
          "Ghana",
          "South Africa",
          "Italy",
          "Qatar",
          "Singapore",
          "Botswana",
          "Mexico",
          "Austria",
          "Philippines",
          "Guatemala",
          "Argentina",
          "Thailand",
          "Netherlands",
          "Solomon Isds",
          "Brazil",
          "Bangladesh",
          "Grenada",
          "Bahrain",
          "Portugal",
          "Zambia",
          "North Macedonia",
          "Saint Lucia",
          "Togo",
          "Brunei Darussalam",
          "Bahamas",
          "Uganda",
          "Cambodia",
          "Aruba",
          "Albania",
          "Nigeria",
          "Côte d'Ivoire",
          "Bosnia Herzegovina",
          "Zimbabwe",
          "Paraguay",
          "Jamaica",
          "United Kingdom",
          "Norway"
         ],
         "labels": [
          "Myanmar",
          "Lao People's Dem. Rep.",
          "Senegal",
          "Mozambique",
          "Dominica",
          "Lebanon",
          "Armenia",
          "Finland",
          "French Polynesia",
          "Iceland",
          "Oman",
          "Cuba",
          "Maldives",
          "Czechia",
          "Angola",
          "Spain",
          "Sierra Leone",
          "Madagascar",
          "Nepal",
          "Venezuela",
          "Uzbekistan",
          "Bolivia (Plurinational State of)",
          "Tunisia",
          "Poland",
          "Saudi Arabia",
          "Romania",
          "Germany",
          "Bulgaria",
          "Türkiye",
          "Cyprus",
          "Costa Rica",
          "Colombia",
          "Nicaragua",
          "Jordan",
          "New Caledonia",
          "Sudan",
          "Greece",
          "Tajikistan",
          "Rep. of Moldova",
          "Ecuador",
          "El Salvador",
          "USA",
          "France",
          "India",
          "Georgia",
          "Peru",
          "Papua New Guinea",
          "Honduras",
          "Rep. of Korea",
          "Denmark",
          "Belgium",
          "Kazakhstan",
          "United Arab Emirates",
          "Hungary",
          "Australia",
          "Pakistan",
          "Latvia",
          "United Rep. of Tanzania",
          "Malawi",
          "Viet Nam",
          "Sweden",
          "Lithuania",
          "Chile",
          "Estonia",
          "Cayman Isds",
          "Rwanda",
          "Dem. Rep. of the Congo",
          "Azerbaijan",
          "Burkina Faso",
          "Kyrgyzstan",
          "Bermuda",
          "Belize",
          "Egypt",
          "Panama",
          "Malta",
          "Curaçao",
          "Djibouti",
          "Timor-Leste",
          "Indonesia",
          "Iraq",
          "Gambia",
          "Slovakia",
          "Vanuatu",
          "Dominican Rep.",
          "Mauritius",
          "Seychelles",
          "Mongolia",
          "Cabo Verde",
          "Ireland",
          "Sri Lanka",
          "Kuwait",
          "Ukraine",
          "Morocco",
          "Ethiopia",
          "Belarus",
          "Luxembourg",
          "Barbados",
          "State of Palestine",
          "Switzerland",
          "Turks and Caicos Isds",
          "Antigua and Barbuda",
          "Uruguay",
          "Slovenia",
          "Other Asia, nes",
          "Israel",
          "Serbia",
          "Japan",
          "Kenya",
          "Croatia",
          "Fiji",
          "Guinea",
          "Montenegro",
          "Bhutan",
          "New Zealand",
          "Malaysia",
          "Canada",
          "Russian Federation",
          "Trinidad and Tobago",
          "Ghana",
          "South Africa",
          "Italy",
          "Qatar",
          "Singapore",
          "Botswana",
          "Mexico",
          "Austria",
          "Philippines",
          "Guatemala",
          "Argentina",
          "Thailand",
          "Netherlands",
          "Solomon Isds",
          "Brazil",
          "Bangladesh",
          "Grenada",
          "Bahrain",
          "Portugal",
          "Zambia",
          "North Macedonia",
          "Saint Lucia",
          "Togo",
          "Brunei Darussalam",
          "Bahamas",
          "Uganda",
          "Cambodia",
          "Aruba",
          "Albania",
          "Nigeria",
          "Côte d'Ivoire",
          "Bosnia Herzegovina",
          "Zimbabwe",
          "Paraguay",
          "Jamaica",
          "United Kingdom",
          "Norway"
         ],
         "marker": {
          "colors": [
           "rgb(103,0,31)",
           "rgb(178,24,43)",
           "rgb(214,96,77)",
           "rgb(244,165,130)",
           "rgb(253,219,199)",
           "rgb(247,247,247)",
           "rgb(209,229,240)",
           "rgb(146,197,222)",
           "rgb(67,147,195)",
           "rgb(33,102,172)",
           "rgb(5,48,97)",
           "rgb(103,0,31)",
           "rgb(178,24,43)",
           "rgb(214,96,77)",
           "rgb(244,165,130)",
           "rgb(253,219,199)",
           "rgb(247,247,247)",
           "rgb(209,229,240)",
           "rgb(146,197,222)",
           "rgb(67,147,195)",
           "rgb(33,102,172)",
           "rgb(5,48,97)",
           "rgb(103,0,31)",
           "rgb(178,24,43)",
           "rgb(214,96,77)",
           "rgb(244,165,130)",
           "rgb(253,219,199)",
           "rgb(247,247,247)",
           "rgb(209,229,240)",
           "rgb(146,197,222)",
           "rgb(67,147,195)",
           "rgb(33,102,172)",
           "rgb(5,48,97)",
           "rgb(103,0,31)",
           "rgb(178,24,43)",
           "rgb(214,96,77)",
           "rgb(244,165,130)",
           "rgb(253,219,199)",
           "rgb(247,247,247)",
           "rgb(209,229,240)",
           "rgb(146,197,222)",
           "rgb(67,147,195)",
           "rgb(33,102,172)",
           "rgb(5,48,97)",
           "rgb(103,0,31)",
           "rgb(178,24,43)",
           "rgb(214,96,77)",
           "rgb(244,165,130)",
           "rgb(253,219,199)",
           "rgb(247,247,247)",
           "rgb(209,229,240)",
           "rgb(146,197,222)",
           "rgb(67,147,195)",
           "rgb(33,102,172)",
           "rgb(5,48,97)",
           "rgb(103,0,31)",
           "rgb(178,24,43)",
           "rgb(214,96,77)",
           "rgb(244,165,130)",
           "rgb(253,219,199)",
           "rgb(247,247,247)",
           "rgb(209,229,240)",
           "rgb(146,197,222)",
           "rgb(67,147,195)",
           "rgb(33,102,172)",
           "rgb(5,48,97)",
           "rgb(103,0,31)",
           "rgb(178,24,43)",
           "rgb(214,96,77)",
           "rgb(244,165,130)",
           "rgb(253,219,199)",
           "rgb(247,247,247)",
           "rgb(209,229,240)",
           "rgb(146,197,222)",
           "rgb(67,147,195)",
           "rgb(33,102,172)",
           "rgb(5,48,97)",
           "rgb(103,0,31)",
           "rgb(178,24,43)",
           "rgb(214,96,77)",
           "rgb(244,165,130)",
           "rgb(253,219,199)",
           "rgb(247,247,247)",
           "rgb(209,229,240)",
           "rgb(146,197,222)",
           "rgb(67,147,195)",
           "rgb(33,102,172)",
           "rgb(5,48,97)",
           "rgb(103,0,31)",
           "rgb(178,24,43)",
           "rgb(214,96,77)",
           "rgb(244,165,130)",
           "rgb(253,219,199)",
           "rgb(247,247,247)",
           "rgb(209,229,240)",
           "rgb(146,197,222)",
           "rgb(67,147,195)",
           "rgb(33,102,172)",
           "rgb(5,48,97)",
           "rgb(103,0,31)",
           "rgb(178,24,43)",
           "rgb(214,96,77)",
           "rgb(244,165,130)",
           "rgb(253,219,199)",
           "rgb(247,247,247)",
           "rgb(209,229,240)",
           "rgb(146,197,222)",
           "rgb(67,147,195)",
           "rgb(33,102,172)",
           "rgb(5,48,97)",
           "rgb(103,0,31)",
           "rgb(178,24,43)",
           "rgb(214,96,77)",
           "rgb(244,165,130)",
           "rgb(253,219,199)",
           "rgb(247,247,247)",
           "rgb(209,229,240)",
           "rgb(146,197,222)",
           "rgb(67,147,195)",
           "rgb(33,102,172)",
           "rgb(5,48,97)",
           "rgb(103,0,31)",
           "rgb(178,24,43)",
           "rgb(214,96,77)",
           "rgb(244,165,130)",
           "rgb(253,219,199)",
           "rgb(247,247,247)",
           "rgb(209,229,240)",
           "rgb(146,197,222)",
           "rgb(67,147,195)",
           "rgb(33,102,172)",
           "rgb(5,48,97)",
           "rgb(103,0,31)",
           "rgb(178,24,43)",
           "rgb(214,96,77)",
           "rgb(244,165,130)",
           "rgb(253,219,199)",
           "rgb(247,247,247)",
           "rgb(209,229,240)",
           "rgb(146,197,222)",
           "rgb(67,147,195)",
           "rgb(33,102,172)",
           "rgb(5,48,97)",
           "rgb(103,0,31)",
           "rgb(178,24,43)",
           "rgb(214,96,77)",
           "rgb(244,165,130)",
           "rgb(253,219,199)",
           "rgb(247,247,247)",
           "rgb(209,229,240)",
           "rgb(146,197,222)",
           "rgb(67,147,195)",
           "rgb(33,102,172)",
           "rgb(5,48,97)",
           "rgb(103,0,31)"
          ]
         },
         "name": "",
         "parents": [
          "",
          "",
          "",
          "",
          "",
          "",
          "",
          "",
          "",
          "",
          "",
          "",
          "",
          "",
          "",
          "",
          "",
          "",
          "",
          "",
          "",
          "",
          "",
          "",
          "",
          "",
          "",
          "",
          "",
          "",
          "",
          "",
          "",
          "",
          "",
          "",
          "",
          "",
          "",
          "",
          "",
          "",
          "",
          "",
          "",
          "",
          "",
          "",
          "",
          "",
          "",
          "",
          "",
          "",
          "",
          "",
          "",
          "",
          "",
          "",
          "",
          "",
          "",
          "",
          "",
          "",
          "",
          "",
          "",
          "",
          "",
          "",
          "",
          "",
          "",
          "",
          "",
          "",
          "",
          "",
          "",
          "",
          "",
          "",
          "",
          "",
          "",
          "",
          "",
          "",
          "",
          "",
          "",
          "",
          "",
          "",
          "",
          "",
          "",
          "",
          "",
          "",
          "",
          "",
          "",
          "",
          "",
          "",
          "",
          "",
          "",
          "",
          "",
          "",
          "",
          "",
          "",
          "",
          "",
          "",
          "",
          "",
          "",
          "",
          "",
          "",
          "",
          "",
          "",
          "",
          "",
          "",
          "",
          "",
          "",
          "",
          "",
          "",
          "",
          "",
          "",
          "",
          "",
          "",
          "",
          "",
          "",
          "",
          "",
          "",
          "",
          "",
          "",
          "",
          ""
         ],
         "root": {
          "color": "lightgrey"
         },
         "textfont": {
          "color": "white",
          "size": 16
         },
         "texttemplate": "%{label}<br>%{value} thousand USD<br>%{customdata[0]}%",
         "type": "treemap",
         "values": [
          1052.05,
          25020.51,
          59.2,
          17.97,
          19.65,
          5503.65,
          22446.11,
          25300.82,
          3212.45,
          50272.82,
          10.59,
          3485.81,
          1460.62,
          9502.6,
          2338.27,
          1281243.02,
          78.12,
          66.52,
          12869.16,
          338.65,
          145392.21,
          740,
          109.72,
          11666.74,
          9617.42,
          1619.1,
          934717.05,
          275.74,
          78956.91,
          42.65,
          43559.02,
          43380.14,
          46.8,
          273069.74,
          1845.55,
          59.83,
          2272.61,
          9327.33,
          645.21,
          5814.85,
          306.05,
          440831.7,
          339226.62,
          16579.23,
          6454.83,
          3184.28,
          85.72,
          41.71,
          204488.32,
          20806.07,
          2813678.97,
          17377.77,
          1159272.67,
          2175.08,
          1173204.12,
          438.59,
          33.93,
          557.05,
          2.88,
          3836.27,
          82592.75,
          5264.73,
          29840.96,
          357.94,
          21.15,
          147.6,
          244.09,
          10497.96,
          106.98,
          34359.46,
          81.41,
          58.35,
          9893.46,
          4658.1,
          85.26,
          671.34,
          17126.25,
          273.96,
          50688.03,
          141.55,
          16.25,
          1390.12,
          0.84,
          10773.97,
          1306.98,
          258.3,
          5154.1,
          163.95,
          25384.72,
          35.38,
          1512.54,
          59650.44,
          2916.45,
          6638.54,
          29514.72,
          10044.54,
          1618.45,
          720,
          432927.6,
          29.52,
          101.62,
          28230.7,
          729535.1,
          64.04,
          714433.79,
          3881.02,
          267779.95,
          372.98,
          636.72,
          250.64,
          1.83,
          52.72,
          1710.46,
          388954.41,
          20881.23,
          76891.41,
          53631.88,
          512,
          437.15,
          7633.34,
          74031.02,
          1102.95,
          101928.58,
          6.45,
          64830.94,
          11490.33,
          42995.36,
          1685.98,
          871.98,
          439907.09,
          353934.3,
          285.6,
          157521.2,
          39007.2,
          11.34,
          454.05,
          7289.04,
          12.15,
          25.06,
          29,
          1.59,
          28.04,
          5906.19,
          19.6,
          9712.14,
          2180.4,
          827,
          40.67,
          35.45,
          2.82,
          488.39,
          3703.15,
          2508.72,
          3786517.44,
          1324346.93
         ]
        }
       ],
       "layout": {
        "legend": {
         "tracegroupgap": 0
        },
        "margin": {
         "b": 25,
         "l": 25,
         "r": 25,
         "t": 50
        },
        "template": {
         "data": {
          "bar": [
           {
            "error_x": {
             "color": "#2a3f5f"
            },
            "error_y": {
             "color": "#2a3f5f"
            },
            "marker": {
             "line": {
              "color": "#E5ECF6",
              "width": 0.5
             },
             "pattern": {
              "fillmode": "overlay",
              "size": 10,
              "solidity": 0.2
             }
            },
            "type": "bar"
           }
          ],
          "barpolar": [
           {
            "marker": {
             "line": {
              "color": "#E5ECF6",
              "width": 0.5
             },
             "pattern": {
              "fillmode": "overlay",
              "size": 10,
              "solidity": 0.2
             }
            },
            "type": "barpolar"
           }
          ],
          "carpet": [
           {
            "aaxis": {
             "endlinecolor": "#2a3f5f",
             "gridcolor": "white",
             "linecolor": "white",
             "minorgridcolor": "white",
             "startlinecolor": "#2a3f5f"
            },
            "baxis": {
             "endlinecolor": "#2a3f5f",
             "gridcolor": "white",
             "linecolor": "white",
             "minorgridcolor": "white",
             "startlinecolor": "#2a3f5f"
            },
            "type": "carpet"
           }
          ],
          "choropleth": [
           {
            "colorbar": {
             "outlinewidth": 0,
             "ticks": ""
            },
            "type": "choropleth"
           }
          ],
          "contour": [
           {
            "colorbar": {
             "outlinewidth": 0,
             "ticks": ""
            },
            "colorscale": [
             [
              0,
              "#0d0887"
             ],
             [
              0.1111111111111111,
              "#46039f"
             ],
             [
              0.2222222222222222,
              "#7201a8"
             ],
             [
              0.3333333333333333,
              "#9c179e"
             ],
             [
              0.4444444444444444,
              "#bd3786"
             ],
             [
              0.5555555555555556,
              "#d8576b"
             ],
             [
              0.6666666666666666,
              "#ed7953"
             ],
             [
              0.7777777777777778,
              "#fb9f3a"
             ],
             [
              0.8888888888888888,
              "#fdca26"
             ],
             [
              1,
              "#f0f921"
             ]
            ],
            "type": "contour"
           }
          ],
          "contourcarpet": [
           {
            "colorbar": {
             "outlinewidth": 0,
             "ticks": ""
            },
            "type": "contourcarpet"
           }
          ],
          "heatmap": [
           {
            "colorbar": {
             "outlinewidth": 0,
             "ticks": ""
            },
            "colorscale": [
             [
              0,
              "#0d0887"
             ],
             [
              0.1111111111111111,
              "#46039f"
             ],
             [
              0.2222222222222222,
              "#7201a8"
             ],
             [
              0.3333333333333333,
              "#9c179e"
             ],
             [
              0.4444444444444444,
              "#bd3786"
             ],
             [
              0.5555555555555556,
              "#d8576b"
             ],
             [
              0.6666666666666666,
              "#ed7953"
             ],
             [
              0.7777777777777778,
              "#fb9f3a"
             ],
             [
              0.8888888888888888,
              "#fdca26"
             ],
             [
              1,
              "#f0f921"
             ]
            ],
            "type": "heatmap"
           }
          ],
          "heatmapgl": [
           {
            "colorbar": {
             "outlinewidth": 0,
             "ticks": ""
            },
            "colorscale": [
             [
              0,
              "#0d0887"
             ],
             [
              0.1111111111111111,
              "#46039f"
             ],
             [
              0.2222222222222222,
              "#7201a8"
             ],
             [
              0.3333333333333333,
              "#9c179e"
             ],
             [
              0.4444444444444444,
              "#bd3786"
             ],
             [
              0.5555555555555556,
              "#d8576b"
             ],
             [
              0.6666666666666666,
              "#ed7953"
             ],
             [
              0.7777777777777778,
              "#fb9f3a"
             ],
             [
              0.8888888888888888,
              "#fdca26"
             ],
             [
              1,
              "#f0f921"
             ]
            ],
            "type": "heatmapgl"
           }
          ],
          "histogram": [
           {
            "marker": {
             "pattern": {
              "fillmode": "overlay",
              "size": 10,
              "solidity": 0.2
             }
            },
            "type": "histogram"
           }
          ],
          "histogram2d": [
           {
            "colorbar": {
             "outlinewidth": 0,
             "ticks": ""
            },
            "colorscale": [
             [
              0,
              "#0d0887"
             ],
             [
              0.1111111111111111,
              "#46039f"
             ],
             [
              0.2222222222222222,
              "#7201a8"
             ],
             [
              0.3333333333333333,
              "#9c179e"
             ],
             [
              0.4444444444444444,
              "#bd3786"
             ],
             [
              0.5555555555555556,
              "#d8576b"
             ],
             [
              0.6666666666666666,
              "#ed7953"
             ],
             [
              0.7777777777777778,
              "#fb9f3a"
             ],
             [
              0.8888888888888888,
              "#fdca26"
             ],
             [
              1,
              "#f0f921"
             ]
            ],
            "type": "histogram2d"
           }
          ],
          "histogram2dcontour": [
           {
            "colorbar": {
             "outlinewidth": 0,
             "ticks": ""
            },
            "colorscale": [
             [
              0,
              "#0d0887"
             ],
             [
              0.1111111111111111,
              "#46039f"
             ],
             [
              0.2222222222222222,
              "#7201a8"
             ],
             [
              0.3333333333333333,
              "#9c179e"
             ],
             [
              0.4444444444444444,
              "#bd3786"
             ],
             [
              0.5555555555555556,
              "#d8576b"
             ],
             [
              0.6666666666666666,
              "#ed7953"
             ],
             [
              0.7777777777777778,
              "#fb9f3a"
             ],
             [
              0.8888888888888888,
              "#fdca26"
             ],
             [
              1,
              "#f0f921"
             ]
            ],
            "type": "histogram2dcontour"
           }
          ],
          "mesh3d": [
           {
            "colorbar": {
             "outlinewidth": 0,
             "ticks": ""
            },
            "type": "mesh3d"
           }
          ],
          "parcoords": [
           {
            "line": {
             "colorbar": {
              "outlinewidth": 0,
              "ticks": ""
             }
            },
            "type": "parcoords"
           }
          ],
          "pie": [
           {
            "automargin": true,
            "type": "pie"
           }
          ],
          "scatter": [
           {
            "fillpattern": {
             "fillmode": "overlay",
             "size": 10,
             "solidity": 0.2
            },
            "type": "scatter"
           }
          ],
          "scatter3d": [
           {
            "line": {
             "colorbar": {
              "outlinewidth": 0,
              "ticks": ""
             }
            },
            "marker": {
             "colorbar": {
              "outlinewidth": 0,
              "ticks": ""
             }
            },
            "type": "scatter3d"
           }
          ],
          "scattercarpet": [
           {
            "marker": {
             "colorbar": {
              "outlinewidth": 0,
              "ticks": ""
             }
            },
            "type": "scattercarpet"
           }
          ],
          "scattergeo": [
           {
            "marker": {
             "colorbar": {
              "outlinewidth": 0,
              "ticks": ""
             }
            },
            "type": "scattergeo"
           }
          ],
          "scattergl": [
           {
            "marker": {
             "colorbar": {
              "outlinewidth": 0,
              "ticks": ""
             }
            },
            "type": "scattergl"
           }
          ],
          "scattermapbox": [
           {
            "marker": {
             "colorbar": {
              "outlinewidth": 0,
              "ticks": ""
             }
            },
            "type": "scattermapbox"
           }
          ],
          "scatterpolar": [
           {
            "marker": {
             "colorbar": {
              "outlinewidth": 0,
              "ticks": ""
             }
            },
            "type": "scatterpolar"
           }
          ],
          "scatterpolargl": [
           {
            "marker": {
             "colorbar": {
              "outlinewidth": 0,
              "ticks": ""
             }
            },
            "type": "scatterpolargl"
           }
          ],
          "scatterternary": [
           {
            "marker": {
             "colorbar": {
              "outlinewidth": 0,
              "ticks": ""
             }
            },
            "type": "scatterternary"
           }
          ],
          "surface": [
           {
            "colorbar": {
             "outlinewidth": 0,
             "ticks": ""
            },
            "colorscale": [
             [
              0,
              "#0d0887"
             ],
             [
              0.1111111111111111,
              "#46039f"
             ],
             [
              0.2222222222222222,
              "#7201a8"
             ],
             [
              0.3333333333333333,
              "#9c179e"
             ],
             [
              0.4444444444444444,
              "#bd3786"
             ],
             [
              0.5555555555555556,
              "#d8576b"
             ],
             [
              0.6666666666666666,
              "#ed7953"
             ],
             [
              0.7777777777777778,
              "#fb9f3a"
             ],
             [
              0.8888888888888888,
              "#fdca26"
             ],
             [
              1,
              "#f0f921"
             ]
            ],
            "type": "surface"
           }
          ],
          "table": [
           {
            "cells": {
             "fill": {
              "color": "#EBF0F8"
             },
             "line": {
              "color": "white"
             }
            },
            "header": {
             "fill": {
              "color": "#C8D4E3"
             },
             "line": {
              "color": "white"
             }
            },
            "type": "table"
           }
          ]
         },
         "layout": {
          "annotationdefaults": {
           "arrowcolor": "#2a3f5f",
           "arrowhead": 0,
           "arrowwidth": 1
          },
          "autotypenumbers": "strict",
          "coloraxis": {
           "colorbar": {
            "outlinewidth": 0,
            "ticks": ""
           }
          },
          "colorscale": {
           "diverging": [
            [
             0,
             "#8e0152"
            ],
            [
             0.1,
             "#c51b7d"
            ],
            [
             0.2,
             "#de77ae"
            ],
            [
             0.3,
             "#f1b6da"
            ],
            [
             0.4,
             "#fde0ef"
            ],
            [
             0.5,
             "#f7f7f7"
            ],
            [
             0.6,
             "#e6f5d0"
            ],
            [
             0.7,
             "#b8e186"
            ],
            [
             0.8,
             "#7fbc41"
            ],
            [
             0.9,
             "#4d9221"
            ],
            [
             1,
             "#276419"
            ]
           ],
           "sequential": [
            [
             0,
             "#0d0887"
            ],
            [
             0.1111111111111111,
             "#46039f"
            ],
            [
             0.2222222222222222,
             "#7201a8"
            ],
            [
             0.3333333333333333,
             "#9c179e"
            ],
            [
             0.4444444444444444,
             "#bd3786"
            ],
            [
             0.5555555555555556,
             "#d8576b"
            ],
            [
             0.6666666666666666,
             "#ed7953"
            ],
            [
             0.7777777777777778,
             "#fb9f3a"
            ],
            [
             0.8888888888888888,
             "#fdca26"
            ],
            [
             1,
             "#f0f921"
            ]
           ],
           "sequentialminus": [
            [
             0,
             "#0d0887"
            ],
            [
             0.1111111111111111,
             "#46039f"
            ],
            [
             0.2222222222222222,
             "#7201a8"
            ],
            [
             0.3333333333333333,
             "#9c179e"
            ],
            [
             0.4444444444444444,
             "#bd3786"
            ],
            [
             0.5555555555555556,
             "#d8576b"
            ],
            [
             0.6666666666666666,
             "#ed7953"
            ],
            [
             0.7777777777777778,
             "#fb9f3a"
            ],
            [
             0.8888888888888888,
             "#fdca26"
            ],
            [
             1,
             "#f0f921"
            ]
           ]
          },
          "colorway": [
           "#636efa",
           "#EF553B",
           "#00cc96",
           "#ab63fa",
           "#FFA15A",
           "#19d3f3",
           "#FF6692",
           "#B6E880",
           "#FF97FF",
           "#FECB52"
          ],
          "font": {
           "color": "#2a3f5f"
          },
          "geo": {
           "bgcolor": "white",
           "lakecolor": "white",
           "landcolor": "#E5ECF6",
           "showlakes": true,
           "showland": true,
           "subunitcolor": "white"
          },
          "hoverlabel": {
           "align": "left"
          },
          "hovermode": "closest",
          "mapbox": {
           "style": "light"
          },
          "paper_bgcolor": "white",
          "plot_bgcolor": "#E5ECF6",
          "polar": {
           "angularaxis": {
            "gridcolor": "white",
            "linecolor": "white",
            "ticks": ""
           },
           "bgcolor": "#E5ECF6",
           "radialaxis": {
            "gridcolor": "white",
            "linecolor": "white",
            "ticks": ""
           }
          },
          "scene": {
           "xaxis": {
            "backgroundcolor": "#E5ECF6",
            "gridcolor": "white",
            "gridwidth": 2,
            "linecolor": "white",
            "showbackground": true,
            "ticks": "",
            "zerolinecolor": "white"
           },
           "yaxis": {
            "backgroundcolor": "#E5ECF6",
            "gridcolor": "white",
            "gridwidth": 2,
            "linecolor": "white",
            "showbackground": true,
            "ticks": "",
            "zerolinecolor": "white"
           },
           "zaxis": {
            "backgroundcolor": "#E5ECF6",
            "gridcolor": "white",
            "gridwidth": 2,
            "linecolor": "white",
            "showbackground": true,
            "ticks": "",
            "zerolinecolor": "white"
           }
          },
          "shapedefaults": {
           "line": {
            "color": "#2a3f5f"
           }
          },
          "ternary": {
           "aaxis": {
            "gridcolor": "white",
            "linecolor": "white",
            "ticks": ""
           },
           "baxis": {
            "gridcolor": "white",
            "linecolor": "white",
            "ticks": ""
           },
           "bgcolor": "#E5ECF6",
           "caxis": {
            "gridcolor": "white",
            "linecolor": "white",
            "ticks": ""
           }
          },
          "title": {
           "x": 0.05
          },
          "xaxis": {
           "automargin": true,
           "gridcolor": "white",
           "linecolor": "white",
           "ticks": "",
           "title": {
            "standoff": 15
           },
           "zerolinecolor": "white",
           "zerolinewidth": 2
          },
          "yaxis": {
           "automargin": true,
           "gridcolor": "white",
           "linecolor": "white",
           "ticks": "",
           "title": {
            "standoff": 15
           },
           "zerolinecolor": "white",
           "zerolinewidth": 2
          }
         }
        },
        "title": {
         "text": "The Proportion of Electric vehicles exports from China to Other Countries."
        },
        "treemapcolorway": [
         "rgb(103,0,31)",
         "rgb(178,24,43)",
         "rgb(214,96,77)",
         "rgb(244,165,130)",
         "rgb(253,219,199)",
         "rgb(247,247,247)",
         "rgb(209,229,240)",
         "rgb(146,197,222)",
         "rgb(67,147,195)",
         "rgb(33,102,172)",
         "rgb(5,48,97)"
        ]
       }
      }
     },
     "metadata": {},
     "output_type": "display_data"
    },
    {
     "name": "stdout",
     "output_type": "stream",
     "text": [
      " New trio type: Lithium-ion batteries \n",
      " Total value of imports: 5691417.605000001 thousand USD \n",
      " [5290273.9    77667.63   72237.27   57473.39   48715.86   17489.65\n",
      "   16791.9    16341.9    15621.13   13938.03] \n",
      " ['Dem. Rep. of the Congo' 'USA' 'Canada' 'South Africa' 'Australia'\n",
      " 'Japan' 'Malaysia' 'Madagascar' 'United Kingdom' 'Belgium'] \n",
      " percentage: [0.92951779 0.01364645 0.01269232 0.01009826 0.00855953 0.00307299\n",
      " 0.00295039 0.00287132 0.00274468 0.00244896] \n",
      " oveall percentage: 0.9886026734458891\n"
     ]
    },
    {
     "data": {
      "application/vnd.plotly.v1+json": {
       "config": {
        "plotlyServerURL": "https://plot.ly"
       },
       "data": [
        {
         "branchvalues": "total",
         "customdata": [
          [
           0,
           "Sudan"
          ],
          [
           0.01,
           "Libya"
          ],
          [
           7.81,
           "United Kingdom"
          ],
          [
           0.03,
           "Kenya"
          ],
          [
           0.05,
           "Ethiopia"
          ],
          [
           0,
           "New Caledonia"
          ],
          [
           0,
           "Zimbabwe"
          ],
          [
           0.04,
           "Bolivia (Plurinational State of)"
          ],
          [
           0.02,
           "Costa Rica"
          ],
          [
           0.16,
           "Iran"
          ],
          [
           1.76,
           "United Arab Emirates"
          ],
          [
           0.17,
           "Kazakhstan"
          ],
          [
           0.05,
           "Croatia"
          ],
          [
           0.01,
           "United Rep. of Tanzania"
          ],
          [
           0.03,
           "Niger"
          ],
          [
           0,
           "Botswana"
          ],
          [
           0.17,
           "Slovenia"
          ],
          [
           2.42,
           "Russian Federation"
          ],
          [
           0,
           "Zambia"
          ],
          [
           0.02,
           "Kuwait"
          ],
          [
           0.03,
           "Kyrgyzstan"
          ],
          [
           0.07,
           "Trinidad and Tobago"
          ],
          [
           0,
           "Benin"
          ],
          [
           0.05,
           "El Salvador"
          ],
          [
           1.27,
           "Sweden"
          ],
          [
           0.02,
           "Mongolia"
          ],
          [
           2.52,
           "Netherlands"
          ],
          [
           0.05,
           "Saudi Arabia"
          ],
          [
           0.55,
           "Austria"
          ],
          [
           1.83,
           "Other Asia, nes"
          ],
          [
           0,
           "Dem. Rep. of the Congo"
          ],
          [
           0,
           "Cuba"
          ],
          [
           1.83,
           "Switzerland"
          ],
          [
           0.01,
           "Maldives"
          ],
          [
           1.17,
           "Japan"
          ],
          [
           0.01,
           "Turkmenistan"
          ],
          [
           0.01,
           "Oman"
          ],
          [
           0.47,
           "Colombia"
          ],
          [
           0.05,
           "Namibia"
          ],
          [
           0.09,
           "Togo"
          ],
          [
           0.01,
           "Chad"
          ],
          [
           0,
           "Seychelles"
          ],
          [
           0.01,
           "Nepal"
          ],
          [
           0,
           "Congo"
          ],
          [
           0.68,
           "Israel"
          ],
          [
           0.19,
           "Hungary"
          ],
          [
           4.01,
           "Viet Nam"
          ],
          [
           4.38,
           "Italy"
          ],
          [
           0,
           "Liberia"
          ],
          [
           0.01,
           "Cyprus"
          ],
          [
           1.67,
           "Belgium"
          ],
          [
           0.31,
           "Tunisia"
          ],
          [
           6.77,
           "Mexico"
          ],
          [
           0.21,
           "Uzbekistan"
          ],
          [
           0.12,
           "Serbia"
          ],
          [
           0,
           "Andorra"
          ],
          [
           0.37,
           "Philippines"
          ],
          [
           0.02,
           "Gabon"
          ],
          [
           0.02,
           "Iraq"
          ],
          [
           0,
           "Sri Lanka"
          ],
          [
           0.01,
           "Madagascar"
          ],
          [
           0.34,
           "Slovakia"
          ],
          [
           0.01,
           "Uganda"
          ],
          [
           2.32,
           "France"
          ],
          [
           0.01,
           "Montenegro"
          ],
          [
           0,
           "Barbados"
          ],
          [
           0.06,
           "Azerbaijan"
          ],
          [
           0.01,
           "Georgia"
          ],
          [
           6.03,
           "Malaysia"
          ],
          [
           0.56,
           "Czechia"
          ],
          [
           3.24,
           "Canada"
          ],
          [
           0.02,
           "Armenia"
          ],
          [
           0.37,
           "South Africa"
          ],
          [
           0,
           "Burkina Faso"
          ],
          [
           0.01,
           "Mozambique"
          ],
          [
           0,
           "French Polynesia"
          ],
          [
           0.05,
           "Lithuania"
          ],
          [
           0.08,
           "Morocco"
          ],
          [
           0.02,
           "Lebanon"
          ],
          [
           8.71,
           "USA"
          ],
          [
           0.17,
           "Greece"
          ],
          [
           0.25,
           "Myanmar"
          ],
          [
           0.02,
           "Tajikistan"
          ],
          [
           0.09,
           "Portugal"
          ],
          [
           0.02,
           "Jordan"
          ],
          [
           0,
           "Lao People's Dem. Rep."
          ],
          [
           0.08,
           "Peru"
          ],
          [
           0.21,
           "Argentina"
          ],
          [
           0.03,
           "Panama"
          ],
          [
           0,
           "Rep. of Moldova"
          ],
          [
           0.01,
           "Venezuela"
          ],
          [
           0.01,
           "Nicaragua"
          ],
          [
           0.04,
           "Angola"
          ],
          [
           0.01,
           "Malta"
          ],
          [
           0.02,
           "North Macedonia"
          ],
          [
           0,
           "Haiti"
          ],
          [
           2.78,
           "Rep. of Korea"
          ],
          [
           0.07,
           "Estonia"
          ],
          [
           0.43,
           "Ireland"
          ],
          [
           0.2,
           "Qatar"
          ],
          [
           0.54,
           "Bangladesh"
          ],
          [
           1.13,
           "Spain"
          ],
          [
           0.39,
           "Chile"
          ],
          [
           0.12,
           "Romania"
          ],
          [
           0.03,
           "Luxembourg"
          ],
          [
           0.02,
           "Iceland"
          ],
          [
           0.01,
           "Mauritius"
          ],
          [
           1.98,
           "Brazil"
          ],
          [
           0.42,
           "Pakistan"
          ],
          [
           0.01,
           "Bermuda"
          ],
          [
           0.02,
           "Côte d'Ivoire"
          ],
          [
           0.12,
           "Latvia"
          ],
          [
           1.04,
           "Thailand"
          ],
          [
           0,
           "Guinea"
          ],
          [
           0,
           "Honduras"
          ],
          [
           0.64,
           "Denmark"
          ],
          [
           0,
           "Bahamas"
          ],
          [
           0.06,
           "Guatemala"
          ],
          [
           0.03,
           "Fiji"
          ],
          [
           0.04,
           "Bahrain"
          ],
          [
           0.01,
           "Suriname"
          ],
          [
           0.01,
           "Ghana"
          ],
          [
           0.01,
           "Belarus"
          ],
          [
           0,
           "Jamaica"
          ],
          [
           2.8,
           "Poland"
          ],
          [
           6.83,
           "Germany"
          ],
          [
           0.06,
           "Uruguay"
          ],
          [
           1.83,
           "Australia"
          ],
          [
           0.02,
           "Ecuador"
          ],
          [
           0,
           "Gambia"
          ],
          [
           0.19,
           "Ukraine"
          ],
          [
           0.01,
           "Dominican Rep."
          ],
          [
           0.02,
           "Cambodia"
          ],
          [
           0,
           "Somalia"
          ],
          [
           1.15,
           "Türkiye"
          ],
          [
           0.09,
           "Paraguay"
          ],
          [
           0.26,
           "Bulgaria"
          ],
          [
           0,
           "Bhutan"
          ],
          [
           0,
           "Marshall Isds"
          ],
          [
           0.01,
           "Cameroon"
          ],
          [
           0.03,
           "Guyana"
          ],
          [
           2.46,
           "India"
          ],
          [
           0.56,
           "Egypt"
          ],
          [
           0.01,
           "Senegal"
          ],
          [
           0.02,
           "Burundi"
          ],
          [
           0,
           "Albania"
          ],
          [
           0.07,
           "Nigeria"
          ],
          [
           0.46,
           "Finland"
          ],
          [
           0.03,
           "Bosnia Herzegovina"
          ],
          [
           0.03,
           "Algeria"
          ],
          [
           0.63,
           "New Zealand"
          ],
          [
           3.08,
           "Indonesia"
          ],
          [
           0,
           "Eswatini"
          ],
          [
           1.29,
           "Norway"
          ],
          [
           0,
           "Aruba"
          ],
          [
           0,
           "Papua New Guinea"
          ],
          [
           3.54,
           "Singapore"
          ],
          [
           0.01,
           "Yemen"
          ]
         ],
         "domain": {
          "x": [
           0,
           1
          ],
          "y": [
           0,
           1
          ]
         },
         "hovertemplate": "labels=%{label}<br>export_value=%{value}<br>parent=%{parent}<br>id=%{id}<br>percentage=%{customdata[0]}<br>country=%{customdata[1]}<extra></extra>",
         "ids": [
          "Sudan",
          "Libya",
          "United Kingdom",
          "Kenya",
          "Ethiopia",
          "New Caledonia",
          "Zimbabwe",
          "Bolivia (Plurinational State of)",
          "Costa Rica",
          "Iran",
          "United Arab Emirates",
          "Kazakhstan",
          "Croatia",
          "United Rep. of Tanzania",
          "Niger",
          "Botswana",
          "Slovenia",
          "Russian Federation",
          "Zambia",
          "Kuwait",
          "Kyrgyzstan",
          "Trinidad and Tobago",
          "Benin",
          "El Salvador",
          "Sweden",
          "Mongolia",
          "Netherlands",
          "Saudi Arabia",
          "Austria",
          "Other Asia, nes",
          "Dem. Rep. of the Congo",
          "Cuba",
          "Switzerland",
          "Maldives",
          "Japan",
          "Turkmenistan",
          "Oman",
          "Colombia",
          "Namibia",
          "Togo",
          "Chad",
          "Seychelles",
          "Nepal",
          "Congo",
          "Israel",
          "Hungary",
          "Viet Nam",
          "Italy",
          "Liberia",
          "Cyprus",
          "Belgium",
          "Tunisia",
          "Mexico",
          "Uzbekistan",
          "Serbia",
          "Andorra",
          "Philippines",
          "Gabon",
          "Iraq",
          "Sri Lanka",
          "Madagascar",
          "Slovakia",
          "Uganda",
          "France",
          "Montenegro",
          "Barbados",
          "Azerbaijan",
          "Georgia",
          "Malaysia",
          "Czechia",
          "Canada",
          "Armenia",
          "South Africa",
          "Burkina Faso",
          "Mozambique",
          "French Polynesia",
          "Lithuania",
          "Morocco",
          "Lebanon",
          "USA",
          "Greece",
          "Myanmar",
          "Tajikistan",
          "Portugal",
          "Jordan",
          "Lao People's Dem. Rep.",
          "Peru",
          "Argentina",
          "Panama",
          "Rep. of Moldova",
          "Venezuela",
          "Nicaragua",
          "Angola",
          "Malta",
          "North Macedonia",
          "Haiti",
          "Rep. of Korea",
          "Estonia",
          "Ireland",
          "Qatar",
          "Bangladesh",
          "Spain",
          "Chile",
          "Romania",
          "Luxembourg",
          "Iceland",
          "Mauritius",
          "Brazil",
          "Pakistan",
          "Bermuda",
          "Côte d'Ivoire",
          "Latvia",
          "Thailand",
          "Guinea",
          "Honduras",
          "Denmark",
          "Bahamas",
          "Guatemala",
          "Fiji",
          "Bahrain",
          "Suriname",
          "Ghana",
          "Belarus",
          "Jamaica",
          "Poland",
          "Germany",
          "Uruguay",
          "Australia",
          "Ecuador",
          "Gambia",
          "Ukraine",
          "Dominican Rep.",
          "Cambodia",
          "Somalia",
          "Türkiye",
          "Paraguay",
          "Bulgaria",
          "Bhutan",
          "Marshall Isds",
          "Cameroon",
          "Guyana",
          "India",
          "Egypt",
          "Senegal",
          "Burundi",
          "Albania",
          "Nigeria",
          "Finland",
          "Bosnia Herzegovina",
          "Algeria",
          "New Zealand",
          "Indonesia",
          "Eswatini",
          "Norway",
          "Aruba",
          "Papua New Guinea",
          "Singapore",
          "Yemen"
         ],
         "labels": [
          "Sudan",
          "Libya",
          "United Kingdom",
          "Kenya",
          "Ethiopia",
          "New Caledonia",
          "Zimbabwe",
          "Bolivia (Plurinational State of)",
          "Costa Rica",
          "Iran",
          "United Arab Emirates",
          "Kazakhstan",
          "Croatia",
          "United Rep. of Tanzania",
          "Niger",
          "Botswana",
          "Slovenia",
          "Russian Federation",
          "Zambia",
          "Kuwait",
          "Kyrgyzstan",
          "Trinidad and Tobago",
          "Benin",
          "El Salvador",
          "Sweden",
          "Mongolia",
          "Netherlands",
          "Saudi Arabia",
          "Austria",
          "Other Asia, nes",
          "Dem. Rep. of the Congo",
          "Cuba",
          "Switzerland",
          "Maldives",
          "Japan",
          "Turkmenistan",
          "Oman",
          "Colombia",
          "Namibia",
          "Togo",
          "Chad",
          "Seychelles",
          "Nepal",
          "Congo",
          "Israel",
          "Hungary",
          "Viet Nam",
          "Italy",
          "Liberia",
          "Cyprus",
          "Belgium",
          "Tunisia",
          "Mexico",
          "Uzbekistan",
          "Serbia",
          "Andorra",
          "Philippines",
          "Gabon",
          "Iraq",
          "Sri Lanka",
          "Madagascar",
          "Slovakia",
          "Uganda",
          "France",
          "Montenegro",
          "Barbados",
          "Azerbaijan",
          "Georgia",
          "Malaysia",
          "Czechia",
          "Canada",
          "Armenia",
          "South Africa",
          "Burkina Faso",
          "Mozambique",
          "French Polynesia",
          "Lithuania",
          "Morocco",
          "Lebanon",
          "USA",
          "Greece",
          "Myanmar",
          "Tajikistan",
          "Portugal",
          "Jordan",
          "Lao People's Dem. Rep.",
          "Peru",
          "Argentina",
          "Panama",
          "Rep. of Moldova",
          "Venezuela",
          "Nicaragua",
          "Angola",
          "Malta",
          "North Macedonia",
          "Haiti",
          "Rep. of Korea",
          "Estonia",
          "Ireland",
          "Qatar",
          "Bangladesh",
          "Spain",
          "Chile",
          "Romania",
          "Luxembourg",
          "Iceland",
          "Mauritius",
          "Brazil",
          "Pakistan",
          "Bermuda",
          "Côte d'Ivoire",
          "Latvia",
          "Thailand",
          "Guinea",
          "Honduras",
          "Denmark",
          "Bahamas",
          "Guatemala",
          "Fiji",
          "Bahrain",
          "Suriname",
          "Ghana",
          "Belarus",
          "Jamaica",
          "Poland",
          "Germany",
          "Uruguay",
          "Australia",
          "Ecuador",
          "Gambia",
          "Ukraine",
          "Dominican Rep.",
          "Cambodia",
          "Somalia",
          "Türkiye",
          "Paraguay",
          "Bulgaria",
          "Bhutan",
          "Marshall Isds",
          "Cameroon",
          "Guyana",
          "India",
          "Egypt",
          "Senegal",
          "Burundi",
          "Albania",
          "Nigeria",
          "Finland",
          "Bosnia Herzegovina",
          "Algeria",
          "New Zealand",
          "Indonesia",
          "Eswatini",
          "Norway",
          "Aruba",
          "Papua New Guinea",
          "Singapore",
          "Yemen"
         ],
         "marker": {
          "colors": [
           "rgb(103,0,31)",
           "rgb(178,24,43)",
           "rgb(214,96,77)",
           "rgb(244,165,130)",
           "rgb(253,219,199)",
           "rgb(247,247,247)",
           "rgb(209,229,240)",
           "rgb(146,197,222)",
           "rgb(67,147,195)",
           "rgb(33,102,172)",
           "rgb(5,48,97)",
           "rgb(103,0,31)",
           "rgb(178,24,43)",
           "rgb(214,96,77)",
           "rgb(244,165,130)",
           "rgb(253,219,199)",
           "rgb(247,247,247)",
           "rgb(209,229,240)",
           "rgb(146,197,222)",
           "rgb(67,147,195)",
           "rgb(33,102,172)",
           "rgb(5,48,97)",
           "rgb(103,0,31)",
           "rgb(178,24,43)",
           "rgb(214,96,77)",
           "rgb(244,165,130)",
           "rgb(253,219,199)",
           "rgb(247,247,247)",
           "rgb(209,229,240)",
           "rgb(146,197,222)",
           "rgb(67,147,195)",
           "rgb(33,102,172)",
           "rgb(5,48,97)",
           "rgb(103,0,31)",
           "rgb(178,24,43)",
           "rgb(214,96,77)",
           "rgb(244,165,130)",
           "rgb(253,219,199)",
           "rgb(247,247,247)",
           "rgb(209,229,240)",
           "rgb(146,197,222)",
           "rgb(67,147,195)",
           "rgb(33,102,172)",
           "rgb(5,48,97)",
           "rgb(103,0,31)",
           "rgb(178,24,43)",
           "rgb(214,96,77)",
           "rgb(244,165,130)",
           "rgb(253,219,199)",
           "rgb(247,247,247)",
           "rgb(209,229,240)",
           "rgb(146,197,222)",
           "rgb(67,147,195)",
           "rgb(33,102,172)",
           "rgb(5,48,97)",
           "rgb(103,0,31)",
           "rgb(178,24,43)",
           "rgb(214,96,77)",
           "rgb(244,165,130)",
           "rgb(253,219,199)",
           "rgb(247,247,247)",
           "rgb(209,229,240)",
           "rgb(146,197,222)",
           "rgb(67,147,195)",
           "rgb(33,102,172)",
           "rgb(5,48,97)",
           "rgb(103,0,31)",
           "rgb(178,24,43)",
           "rgb(214,96,77)",
           "rgb(244,165,130)",
           "rgb(253,219,199)",
           "rgb(247,247,247)",
           "rgb(209,229,240)",
           "rgb(146,197,222)",
           "rgb(67,147,195)",
           "rgb(33,102,172)",
           "rgb(5,48,97)",
           "rgb(103,0,31)",
           "rgb(178,24,43)",
           "rgb(214,96,77)",
           "rgb(244,165,130)",
           "rgb(253,219,199)",
           "rgb(247,247,247)",
           "rgb(209,229,240)",
           "rgb(146,197,222)",
           "rgb(67,147,195)",
           "rgb(33,102,172)",
           "rgb(5,48,97)",
           "rgb(103,0,31)",
           "rgb(178,24,43)",
           "rgb(214,96,77)",
           "rgb(244,165,130)",
           "rgb(253,219,199)",
           "rgb(247,247,247)",
           "rgb(209,229,240)",
           "rgb(146,197,222)",
           "rgb(67,147,195)",
           "rgb(33,102,172)",
           "rgb(5,48,97)",
           "rgb(103,0,31)",
           "rgb(178,24,43)",
           "rgb(214,96,77)",
           "rgb(244,165,130)",
           "rgb(253,219,199)",
           "rgb(247,247,247)",
           "rgb(209,229,240)",
           "rgb(146,197,222)",
           "rgb(67,147,195)",
           "rgb(33,102,172)",
           "rgb(5,48,97)",
           "rgb(103,0,31)",
           "rgb(178,24,43)",
           "rgb(214,96,77)",
           "rgb(244,165,130)",
           "rgb(253,219,199)",
           "rgb(247,247,247)",
           "rgb(209,229,240)",
           "rgb(146,197,222)",
           "rgb(67,147,195)",
           "rgb(33,102,172)",
           "rgb(5,48,97)",
           "rgb(103,0,31)",
           "rgb(178,24,43)",
           "rgb(214,96,77)",
           "rgb(244,165,130)",
           "rgb(253,219,199)",
           "rgb(247,247,247)",
           "rgb(209,229,240)",
           "rgb(146,197,222)",
           "rgb(67,147,195)",
           "rgb(33,102,172)",
           "rgb(5,48,97)",
           "rgb(103,0,31)",
           "rgb(178,24,43)",
           "rgb(214,96,77)",
           "rgb(244,165,130)",
           "rgb(253,219,199)",
           "rgb(247,247,247)",
           "rgb(209,229,240)",
           "rgb(146,197,222)",
           "rgb(67,147,195)",
           "rgb(33,102,172)",
           "rgb(5,48,97)",
           "rgb(103,0,31)",
           "rgb(178,24,43)",
           "rgb(214,96,77)",
           "rgb(244,165,130)",
           "rgb(253,219,199)",
           "rgb(247,247,247)",
           "rgb(209,229,240)",
           "rgb(146,197,222)",
           "rgb(67,147,195)",
           "rgb(33,102,172)",
           "rgb(5,48,97)",
           "rgb(103,0,31)",
           "rgb(178,24,43)",
           "rgb(214,96,77)",
           "rgb(244,165,130)"
          ]
         },
         "name": "",
         "parents": [
          "",
          "",
          "",
          "",
          "",
          "",
          "",
          "",
          "",
          "",
          "",
          "",
          "",
          "",
          "",
          "",
          "",
          "",
          "",
          "",
          "",
          "",
          "",
          "",
          "",
          "",
          "",
          "",
          "",
          "",
          "",
          "",
          "",
          "",
          "",
          "",
          "",
          "",
          "",
          "",
          "",
          "",
          "",
          "",
          "",
          "",
          "",
          "",
          "",
          "",
          "",
          "",
          "",
          "",
          "",
          "",
          "",
          "",
          "",
          "",
          "",
          "",
          "",
          "",
          "",
          "",
          "",
          "",
          "",
          "",
          "",
          "",
          "",
          "",
          "",
          "",
          "",
          "",
          "",
          "",
          "",
          "",
          "",
          "",
          "",
          "",
          "",
          "",
          "",
          "",
          "",
          "",
          "",
          "",
          "",
          "",
          "",
          "",
          "",
          "",
          "",
          "",
          "",
          "",
          "",
          "",
          "",
          "",
          "",
          "",
          "",
          "",
          "",
          "",
          "",
          "",
          "",
          "",
          "",
          "",
          "",
          "",
          "",
          "",
          "",
          "",
          "",
          "",
          "",
          "",
          "",
          "",
          "",
          "",
          "",
          "",
          "",
          "",
          "",
          "",
          "",
          "",
          "",
          "",
          "",
          "",
          "",
          "",
          "",
          "",
          "",
          "",
          "",
          "",
          "",
          "",
          "",
          ""
         ],
         "root": {
          "color": "lightgrey"
         },
         "textfont": {
          "color": "white",
          "size": 16
         },
         "texttemplate": "%{label}<br>%{value} thousand USD<br>%{customdata[0]}%",
         "type": "treemap",
         "values": [
          3.59,
          69.83,
          57465.43,
          212.9,
          350.73,
          16.79,
          0.11,
          294.55,
          177.35,
          1197.2,
          12981.24,
          1285.85,
          343.41,
          105.07,
          199.56,
          6.13,
          1224.3,
          17809.69,
          33.38,
          138.54,
          227.67,
          480.06,
          20.65,
          360.26,
          9315.95,
          158.62,
          18587.19,
          346.61,
          4066.95,
          13489.8,
          6.26,
          3.65,
          13475.99,
          78.74,
          8633.78,
          42,
          85.18,
          3432.74,
          365.56,
          631.42,
          89.47,
          1.26,
          69.76,
          8.18,
          5018.81,
          1425.58,
          29530.96,
          32232.68,
          8.08,
          89.72,
          12273.48,
          2309.84,
          49867.54,
          1554.04,
          897.47,
          1.65,
          2756.32,
          156.49,
          181.85,
          20.38,
          74.88,
          2527.16,
          93.57,
          17085.35,
          91.63,
          1.34,
          461.2,
          38.77,
          44377.02,
          4143.16,
          23883.99,
          116.79,
          2713.91,
          8.42,
          63.36,
          4.58,
          334.38,
          593.04,
          125.09,
          64151.82,
          1231.14,
          1839.57,
          158.09,
          681.32,
          127.42,
          3.37,
          570.53,
          1519.78,
          236.77,
          12.1,
          90.34,
          50.28,
          300.59,
          56.95,
          158.02,
          26.28,
          20443.72,
          511.28,
          3155.06,
          1464.36,
          3986.58,
          8337.04,
          2864.07,
          881.11,
          243.91,
          140.97,
          102.86,
          14557.54,
          3099.54,
          48.13,
          123.17,
          879.57,
          7663.61,
          15.62,
          2.87,
          4734.7,
          1.75,
          431.18,
          221.85,
          301.74,
          76.4,
          74.53,
          98.02,
          17.22,
          20615.81,
          50284.49,
          474.56,
          13451.48,
          119.7,
          0.97,
          1425.65,
          37.83,
          116.94,
          2.15,
          8440.63,
          650.78,
          1887.12,
          0.07,
          0.56,
          47.4,
          194.78,
          18103.16,
          4137.28,
          73.63,
          146.27,
          14.41,
          493.05,
          3402.7,
          243.97,
          221.7,
          4633.86,
          22705.17,
          0.4,
          9464.26,
          0.04,
          6.89,
          26037.11,
          77.69
         ]
        }
       ],
       "layout": {
        "legend": {
         "tracegroupgap": 0
        },
        "margin": {
         "b": 25,
         "l": 25,
         "r": 25,
         "t": 50
        },
        "template": {
         "data": {
          "bar": [
           {
            "error_x": {
             "color": "#2a3f5f"
            },
            "error_y": {
             "color": "#2a3f5f"
            },
            "marker": {
             "line": {
              "color": "#E5ECF6",
              "width": 0.5
             },
             "pattern": {
              "fillmode": "overlay",
              "size": 10,
              "solidity": 0.2
             }
            },
            "type": "bar"
           }
          ],
          "barpolar": [
           {
            "marker": {
             "line": {
              "color": "#E5ECF6",
              "width": 0.5
             },
             "pattern": {
              "fillmode": "overlay",
              "size": 10,
              "solidity": 0.2
             }
            },
            "type": "barpolar"
           }
          ],
          "carpet": [
           {
            "aaxis": {
             "endlinecolor": "#2a3f5f",
             "gridcolor": "white",
             "linecolor": "white",
             "minorgridcolor": "white",
             "startlinecolor": "#2a3f5f"
            },
            "baxis": {
             "endlinecolor": "#2a3f5f",
             "gridcolor": "white",
             "linecolor": "white",
             "minorgridcolor": "white",
             "startlinecolor": "#2a3f5f"
            },
            "type": "carpet"
           }
          ],
          "choropleth": [
           {
            "colorbar": {
             "outlinewidth": 0,
             "ticks": ""
            },
            "type": "choropleth"
           }
          ],
          "contour": [
           {
            "colorbar": {
             "outlinewidth": 0,
             "ticks": ""
            },
            "colorscale": [
             [
              0,
              "#0d0887"
             ],
             [
              0.1111111111111111,
              "#46039f"
             ],
             [
              0.2222222222222222,
              "#7201a8"
             ],
             [
              0.3333333333333333,
              "#9c179e"
             ],
             [
              0.4444444444444444,
              "#bd3786"
             ],
             [
              0.5555555555555556,
              "#d8576b"
             ],
             [
              0.6666666666666666,
              "#ed7953"
             ],
             [
              0.7777777777777778,
              "#fb9f3a"
             ],
             [
              0.8888888888888888,
              "#fdca26"
             ],
             [
              1,
              "#f0f921"
             ]
            ],
            "type": "contour"
           }
          ],
          "contourcarpet": [
           {
            "colorbar": {
             "outlinewidth": 0,
             "ticks": ""
            },
            "type": "contourcarpet"
           }
          ],
          "heatmap": [
           {
            "colorbar": {
             "outlinewidth": 0,
             "ticks": ""
            },
            "colorscale": [
             [
              0,
              "#0d0887"
             ],
             [
              0.1111111111111111,
              "#46039f"
             ],
             [
              0.2222222222222222,
              "#7201a8"
             ],
             [
              0.3333333333333333,
              "#9c179e"
             ],
             [
              0.4444444444444444,
              "#bd3786"
             ],
             [
              0.5555555555555556,
              "#d8576b"
             ],
             [
              0.6666666666666666,
              "#ed7953"
             ],
             [
              0.7777777777777778,
              "#fb9f3a"
             ],
             [
              0.8888888888888888,
              "#fdca26"
             ],
             [
              1,
              "#f0f921"
             ]
            ],
            "type": "heatmap"
           }
          ],
          "heatmapgl": [
           {
            "colorbar": {
             "outlinewidth": 0,
             "ticks": ""
            },
            "colorscale": [
             [
              0,
              "#0d0887"
             ],
             [
              0.1111111111111111,
              "#46039f"
             ],
             [
              0.2222222222222222,
              "#7201a8"
             ],
             [
              0.3333333333333333,
              "#9c179e"
             ],
             [
              0.4444444444444444,
              "#bd3786"
             ],
             [
              0.5555555555555556,
              "#d8576b"
             ],
             [
              0.6666666666666666,
              "#ed7953"
             ],
             [
              0.7777777777777778,
              "#fb9f3a"
             ],
             [
              0.8888888888888888,
              "#fdca26"
             ],
             [
              1,
              "#f0f921"
             ]
            ],
            "type": "heatmapgl"
           }
          ],
          "histogram": [
           {
            "marker": {
             "pattern": {
              "fillmode": "overlay",
              "size": 10,
              "solidity": 0.2
             }
            },
            "type": "histogram"
           }
          ],
          "histogram2d": [
           {
            "colorbar": {
             "outlinewidth": 0,
             "ticks": ""
            },
            "colorscale": [
             [
              0,
              "#0d0887"
             ],
             [
              0.1111111111111111,
              "#46039f"
             ],
             [
              0.2222222222222222,
              "#7201a8"
             ],
             [
              0.3333333333333333,
              "#9c179e"
             ],
             [
              0.4444444444444444,
              "#bd3786"
             ],
             [
              0.5555555555555556,
              "#d8576b"
             ],
             [
              0.6666666666666666,
              "#ed7953"
             ],
             [
              0.7777777777777778,
              "#fb9f3a"
             ],
             [
              0.8888888888888888,
              "#fdca26"
             ],
             [
              1,
              "#f0f921"
             ]
            ],
            "type": "histogram2d"
           }
          ],
          "histogram2dcontour": [
           {
            "colorbar": {
             "outlinewidth": 0,
             "ticks": ""
            },
            "colorscale": [
             [
              0,
              "#0d0887"
             ],
             [
              0.1111111111111111,
              "#46039f"
             ],
             [
              0.2222222222222222,
              "#7201a8"
             ],
             [
              0.3333333333333333,
              "#9c179e"
             ],
             [
              0.4444444444444444,
              "#bd3786"
             ],
             [
              0.5555555555555556,
              "#d8576b"
             ],
             [
              0.6666666666666666,
              "#ed7953"
             ],
             [
              0.7777777777777778,
              "#fb9f3a"
             ],
             [
              0.8888888888888888,
              "#fdca26"
             ],
             [
              1,
              "#f0f921"
             ]
            ],
            "type": "histogram2dcontour"
           }
          ],
          "mesh3d": [
           {
            "colorbar": {
             "outlinewidth": 0,
             "ticks": ""
            },
            "type": "mesh3d"
           }
          ],
          "parcoords": [
           {
            "line": {
             "colorbar": {
              "outlinewidth": 0,
              "ticks": ""
             }
            },
            "type": "parcoords"
           }
          ],
          "pie": [
           {
            "automargin": true,
            "type": "pie"
           }
          ],
          "scatter": [
           {
            "fillpattern": {
             "fillmode": "overlay",
             "size": 10,
             "solidity": 0.2
            },
            "type": "scatter"
           }
          ],
          "scatter3d": [
           {
            "line": {
             "colorbar": {
              "outlinewidth": 0,
              "ticks": ""
             }
            },
            "marker": {
             "colorbar": {
              "outlinewidth": 0,
              "ticks": ""
             }
            },
            "type": "scatter3d"
           }
          ],
          "scattercarpet": [
           {
            "marker": {
             "colorbar": {
              "outlinewidth": 0,
              "ticks": ""
             }
            },
            "type": "scattercarpet"
           }
          ],
          "scattergeo": [
           {
            "marker": {
             "colorbar": {
              "outlinewidth": 0,
              "ticks": ""
             }
            },
            "type": "scattergeo"
           }
          ],
          "scattergl": [
           {
            "marker": {
             "colorbar": {
              "outlinewidth": 0,
              "ticks": ""
             }
            },
            "type": "scattergl"
           }
          ],
          "scattermapbox": [
           {
            "marker": {
             "colorbar": {
              "outlinewidth": 0,
              "ticks": ""
             }
            },
            "type": "scattermapbox"
           }
          ],
          "scatterpolar": [
           {
            "marker": {
             "colorbar": {
              "outlinewidth": 0,
              "ticks": ""
             }
            },
            "type": "scatterpolar"
           }
          ],
          "scatterpolargl": [
           {
            "marker": {
             "colorbar": {
              "outlinewidth": 0,
              "ticks": ""
             }
            },
            "type": "scatterpolargl"
           }
          ],
          "scatterternary": [
           {
            "marker": {
             "colorbar": {
              "outlinewidth": 0,
              "ticks": ""
             }
            },
            "type": "scatterternary"
           }
          ],
          "surface": [
           {
            "colorbar": {
             "outlinewidth": 0,
             "ticks": ""
            },
            "colorscale": [
             [
              0,
              "#0d0887"
             ],
             [
              0.1111111111111111,
              "#46039f"
             ],
             [
              0.2222222222222222,
              "#7201a8"
             ],
             [
              0.3333333333333333,
              "#9c179e"
             ],
             [
              0.4444444444444444,
              "#bd3786"
             ],
             [
              0.5555555555555556,
              "#d8576b"
             ],
             [
              0.6666666666666666,
              "#ed7953"
             ],
             [
              0.7777777777777778,
              "#fb9f3a"
             ],
             [
              0.8888888888888888,
              "#fdca26"
             ],
             [
              1,
              "#f0f921"
             ]
            ],
            "type": "surface"
           }
          ],
          "table": [
           {
            "cells": {
             "fill": {
              "color": "#EBF0F8"
             },
             "line": {
              "color": "white"
             }
            },
            "header": {
             "fill": {
              "color": "#C8D4E3"
             },
             "line": {
              "color": "white"
             }
            },
            "type": "table"
           }
          ]
         },
         "layout": {
          "annotationdefaults": {
           "arrowcolor": "#2a3f5f",
           "arrowhead": 0,
           "arrowwidth": 1
          },
          "autotypenumbers": "strict",
          "coloraxis": {
           "colorbar": {
            "outlinewidth": 0,
            "ticks": ""
           }
          },
          "colorscale": {
           "diverging": [
            [
             0,
             "#8e0152"
            ],
            [
             0.1,
             "#c51b7d"
            ],
            [
             0.2,
             "#de77ae"
            ],
            [
             0.3,
             "#f1b6da"
            ],
            [
             0.4,
             "#fde0ef"
            ],
            [
             0.5,
             "#f7f7f7"
            ],
            [
             0.6,
             "#e6f5d0"
            ],
            [
             0.7,
             "#b8e186"
            ],
            [
             0.8,
             "#7fbc41"
            ],
            [
             0.9,
             "#4d9221"
            ],
            [
             1,
             "#276419"
            ]
           ],
           "sequential": [
            [
             0,
             "#0d0887"
            ],
            [
             0.1111111111111111,
             "#46039f"
            ],
            [
             0.2222222222222222,
             "#7201a8"
            ],
            [
             0.3333333333333333,
             "#9c179e"
            ],
            [
             0.4444444444444444,
             "#bd3786"
            ],
            [
             0.5555555555555556,
             "#d8576b"
            ],
            [
             0.6666666666666666,
             "#ed7953"
            ],
            [
             0.7777777777777778,
             "#fb9f3a"
            ],
            [
             0.8888888888888888,
             "#fdca26"
            ],
            [
             1,
             "#f0f921"
            ]
           ],
           "sequentialminus": [
            [
             0,
             "#0d0887"
            ],
            [
             0.1111111111111111,
             "#46039f"
            ],
            [
             0.2222222222222222,
             "#7201a8"
            ],
            [
             0.3333333333333333,
             "#9c179e"
            ],
            [
             0.4444444444444444,
             "#bd3786"
            ],
            [
             0.5555555555555556,
             "#d8576b"
            ],
            [
             0.6666666666666666,
             "#ed7953"
            ],
            [
             0.7777777777777778,
             "#fb9f3a"
            ],
            [
             0.8888888888888888,
             "#fdca26"
            ],
            [
             1,
             "#f0f921"
            ]
           ]
          },
          "colorway": [
           "#636efa",
           "#EF553B",
           "#00cc96",
           "#ab63fa",
           "#FFA15A",
           "#19d3f3",
           "#FF6692",
           "#B6E880",
           "#FF97FF",
           "#FECB52"
          ],
          "font": {
           "color": "#2a3f5f"
          },
          "geo": {
           "bgcolor": "white",
           "lakecolor": "white",
           "landcolor": "#E5ECF6",
           "showlakes": true,
           "showland": true,
           "subunitcolor": "white"
          },
          "hoverlabel": {
           "align": "left"
          },
          "hovermode": "closest",
          "mapbox": {
           "style": "light"
          },
          "paper_bgcolor": "white",
          "plot_bgcolor": "#E5ECF6",
          "polar": {
           "angularaxis": {
            "gridcolor": "white",
            "linecolor": "white",
            "ticks": ""
           },
           "bgcolor": "#E5ECF6",
           "radialaxis": {
            "gridcolor": "white",
            "linecolor": "white",
            "ticks": ""
           }
          },
          "scene": {
           "xaxis": {
            "backgroundcolor": "#E5ECF6",
            "gridcolor": "white",
            "gridwidth": 2,
            "linecolor": "white",
            "showbackground": true,
            "ticks": "",
            "zerolinecolor": "white"
           },
           "yaxis": {
            "backgroundcolor": "#E5ECF6",
            "gridcolor": "white",
            "gridwidth": 2,
            "linecolor": "white",
            "showbackground": true,
            "ticks": "",
            "zerolinecolor": "white"
           },
           "zaxis": {
            "backgroundcolor": "#E5ECF6",
            "gridcolor": "white",
            "gridwidth": 2,
            "linecolor": "white",
            "showbackground": true,
            "ticks": "",
            "zerolinecolor": "white"
           }
          },
          "shapedefaults": {
           "line": {
            "color": "#2a3f5f"
           }
          },
          "ternary": {
           "aaxis": {
            "gridcolor": "white",
            "linecolor": "white",
            "ticks": ""
           },
           "baxis": {
            "gridcolor": "white",
            "linecolor": "white",
            "ticks": ""
           },
           "bgcolor": "#E5ECF6",
           "caxis": {
            "gridcolor": "white",
            "linecolor": "white",
            "ticks": ""
           }
          },
          "title": {
           "x": 0.05
          },
          "xaxis": {
           "automargin": true,
           "gridcolor": "white",
           "linecolor": "white",
           "ticks": "",
           "title": {
            "standoff": 15
           },
           "zerolinecolor": "white",
           "zerolinewidth": 2
          },
          "yaxis": {
           "automargin": true,
           "gridcolor": "white",
           "linecolor": "white",
           "ticks": "",
           "title": {
            "standoff": 15
           },
           "zerolinecolor": "white",
           "zerolinewidth": 2
          }
         }
        },
        "title": {
         "text": "The Proportion of Lithium-ion batteries exports from China to Other Countries."
        },
        "treemapcolorway": [
         "rgb(103,0,31)",
         "rgb(178,24,43)",
         "rgb(214,96,77)",
         "rgb(244,165,130)",
         "rgb(253,219,199)",
         "rgb(247,247,247)",
         "rgb(209,229,240)",
         "rgb(146,197,222)",
         "rgb(67,147,195)",
         "rgb(33,102,172)",
         "rgb(5,48,97)"
        ]
       }
      }
     },
     "metadata": {},
     "output_type": "display_data"
    }
   ],
   "source": [
    "export_tree_diagram(n3s,all_data_code,country_code,product_code,new_trio,target_country_name)"
   ]
  },
  {
   "cell_type": "code",
   "execution_count": 84,
   "id": "db658ba7",
   "metadata": {},
   "outputs": [
    {
     "data": {
      "application/vnd.plotly.v1+json": {
       "config": {
        "plotlyServerURL": "https://plot.ly"
       },
       "data": [
        {
         "link": {
          "color": [
           "rgba(255, 105, 180, 0.4)",
           "rgba(184, 115, 51, 0.4)",
           "rgba(0, 71, 171, 0.4)",
           "rgba(255, 105, 180, 0.4)",
           "rgba(255, 105, 180, 0.4)",
           "rgba(255, 105, 180, 0.4)",
           "rgba(255, 105, 180, 0.4)",
           "rgba(255, 105, 180, 0.4)",
           "rgba(255, 105, 180, 0.4)",
           "rgba(255, 105, 180, 0.4)",
           "rgba(255, 105, 180, 0.4)",
           "rgba(255, 105, 180, 0.4)",
           "rgba(255, 105, 180, 0.4)",
           "rgba(255, 105, 180, 0.4)",
           "rgba(255, 105, 180, 0.4)",
           "rgba(255, 105, 180, 0.4)",
           "rgba(255, 105, 180, 0.4)",
           "rgba(255, 105, 180, 0.4)",
           "rgba(255, 105, 180, 0.4)",
           "rgba(255, 105, 180, 0.4)",
           "rgba(255, 105, 180, 0.4)",
           "rgba(255, 105, 180, 0.4)",
           "rgba(255, 105, 180, 0.4)",
           "rgba(255, 105, 180, 0.4)",
           "rgba(255, 105, 180, 0.4)",
           "rgba(255, 105, 180, 0.4)",
           "rgba(255, 105, 180, 0.4)",
           "rgba(255, 105, 180, 0.4)",
           "rgba(255, 105, 180, 0.4)",
           "rgba(255, 105, 180, 0.4)",
           "rgba(255, 105, 180, 0.4)",
           "rgba(255, 105, 180, 0.4)",
           "rgba(255, 105, 180, 0.4)",
           "rgba(255, 105, 180, 0.4)",
           "rgba(255, 105, 180, 0.4)",
           "rgba(255, 105, 180, 0.4)",
           "rgba(255, 105, 180, 0.4)",
           "rgba(255, 105, 180, 0.4)",
           "rgba(255, 105, 180, 0.4)",
           "rgba(255, 105, 180, 0.4)",
           "rgba(255, 105, 180, 0.4)",
           "rgba(255, 105, 180, 0.4)",
           "rgba(255, 105, 180, 0.4)",
           "rgba(255, 105, 180, 0.4)",
           "rgba(255, 105, 180, 0.4)",
           "rgba(255, 105, 180, 0.4)",
           "rgba(255, 105, 180, 0.4)",
           "rgba(255, 105, 180, 0.4)",
           "rgba(255, 105, 180, 0.4)",
           "rgba(255, 105, 180, 0.4)",
           "rgba(255, 105, 180, 0.4)",
           "rgba(255, 105, 180, 0.4)",
           "rgba(255, 105, 180, 0.4)",
           "rgba(255, 105, 180, 0.4)",
           "rgba(255, 105, 180, 0.4)",
           "rgba(255, 105, 180, 0.4)",
           "rgba(255, 105, 180, 0.4)",
           "rgba(255, 105, 180, 0.4)",
           "rgba(255, 105, 180, 0.4)",
           "rgba(255, 105, 180, 0.4)",
           "rgba(255, 105, 180, 0.4)",
           "rgba(255, 105, 180, 0.4)",
           "rgba(255, 105, 180, 0.4)",
           "rgba(255, 105, 180, 0.4)",
           "rgba(255, 105, 180, 0.4)",
           "rgba(255, 105, 180, 0.4)",
           "rgba(255, 105, 180, 0.4)",
           "rgba(255, 105, 180, 0.4)",
           "rgba(255, 105, 180, 0.4)",
           "rgba(255, 105, 180, 0.4)",
           "rgba(255, 105, 180, 0.4)",
           "rgba(255, 105, 180, 0.4)",
           "rgba(255, 105, 180, 0.4)",
           "rgba(255, 105, 180, 0.4)",
           "rgba(255, 105, 180, 0.4)",
           "rgba(255, 105, 180, 0.4)",
           "rgba(255, 105, 180, 0.4)",
           "rgba(255, 105, 180, 0.4)",
           "rgba(255, 105, 180, 0.4)",
           "rgba(255, 105, 180, 0.4)",
           "rgba(255, 105, 180, 0.4)",
           "rgba(255, 105, 180, 0.4)",
           "rgba(255, 105, 180, 0.4)",
           "rgba(255, 105, 180, 0.4)",
           "rgba(255, 105, 180, 0.4)",
           "rgba(255, 105, 180, 0.4)",
           "rgba(255, 105, 180, 0.4)",
           "rgba(255, 105, 180, 0.4)",
           "rgba(255, 105, 180, 0.4)",
           "rgba(255, 105, 180, 0.4)",
           "rgba(255, 105, 180, 0.4)",
           "rgba(255, 105, 180, 0.4)",
           "rgba(255, 105, 180, 0.4)",
           "rgba(255, 105, 180, 0.4)",
           "rgba(255, 105, 180, 0.4)",
           "rgba(255, 105, 180, 0.4)",
           "rgba(255, 105, 180, 0.4)",
           "rgba(255, 105, 180, 0.4)",
           "rgba(255, 105, 180, 0.4)",
           "rgba(255, 105, 180, 0.4)",
           "rgba(255, 105, 180, 0.4)",
           "rgba(255, 105, 180, 0.4)",
           "rgba(255, 105, 180, 0.4)",
           "rgba(255, 105, 180, 0.4)",
           "rgba(255, 105, 180, 0.4)",
           "rgba(255, 105, 180, 0.4)",
           "rgba(255, 105, 180, 0.4)",
           "rgba(255, 105, 180, 0.4)",
           "rgba(255, 105, 180, 0.4)",
           "rgba(255, 105, 180, 0.4)",
           "rgba(255, 105, 180, 0.4)",
           "rgba(255, 105, 180, 0.4)",
           "rgba(255, 105, 180, 0.4)",
           "rgba(255, 105, 180, 0.4)",
           "rgba(255, 105, 180, 0.4)",
           "rgba(255, 105, 180, 0.4)",
           "rgba(255, 105, 180, 0.4)",
           "rgba(255, 105, 180, 0.4)",
           "rgba(255, 105, 180, 0.4)",
           "rgba(255, 105, 180, 0.4)",
           "rgba(255, 105, 180, 0.4)",
           "rgba(255, 105, 180, 0.4)",
           "rgba(255, 105, 180, 0.4)",
           "rgba(255, 105, 180, 0.4)",
           "rgba(255, 105, 180, 0.4)",
           "rgba(255, 105, 180, 0.4)",
           "rgba(255, 105, 180, 0.4)",
           "rgba(255, 105, 180, 0.4)",
           "rgba(255, 105, 180, 0.4)",
           "rgba(255, 105, 180, 0.4)",
           "rgba(255, 105, 180, 0.4)",
           "rgba(255, 105, 180, 0.4)",
           "rgba(255, 105, 180, 0.4)",
           "rgba(255, 105, 180, 0.4)",
           "rgba(255, 105, 180, 0.4)",
           "rgba(255, 105, 180, 0.4)",
           "rgba(255, 105, 180, 0.4)",
           "rgba(255, 105, 180, 0.4)",
           "rgba(255, 105, 180, 0.4)",
           "rgba(255, 105, 180, 0.4)",
           "rgba(255, 105, 180, 0.4)",
           "rgba(255, 105, 180, 0.4)",
           "rgba(255, 105, 180, 0.4)",
           "rgba(255, 105, 180, 0.4)",
           "rgba(255, 105, 180, 0.4)",
           "rgba(255, 105, 180, 0.4)",
           "rgba(255, 105, 180, 0.4)",
           "rgba(255, 105, 180, 0.4)",
           "rgba(255, 105, 180, 0.4)",
           "rgba(255, 105, 180, 0.4)",
           "rgba(255, 105, 180, 0.4)",
           "rgba(255, 105, 180, 0.4)",
           "rgba(255, 105, 180, 0.4)",
           "rgba(255, 105, 180, 0.4)",
           "rgba(255, 105, 180, 0.4)",
           "rgba(255, 105, 180, 0.4)",
           "rgba(255, 105, 180, 0.4)",
           "rgba(255, 105, 180, 0.4)",
           "rgba(184, 115, 51, 0.4)",
           "rgba(184, 115, 51, 0.4)",
           "rgba(184, 115, 51, 0.4)",
           "rgba(184, 115, 51, 0.4)",
           "rgba(184, 115, 51, 0.4)",
           "rgba(184, 115, 51, 0.4)",
           "rgba(184, 115, 51, 0.4)",
           "rgba(184, 115, 51, 0.4)",
           "rgba(184, 115, 51, 0.4)",
           "rgba(184, 115, 51, 0.4)",
           "rgba(184, 115, 51, 0.4)",
           "rgba(184, 115, 51, 0.4)",
           "rgba(184, 115, 51, 0.4)",
           "rgba(184, 115, 51, 0.4)",
           "rgba(184, 115, 51, 0.4)",
           "rgba(184, 115, 51, 0.4)",
           "rgba(184, 115, 51, 0.4)",
           "rgba(184, 115, 51, 0.4)",
           "rgba(184, 115, 51, 0.4)",
           "rgba(184, 115, 51, 0.4)",
           "rgba(184, 115, 51, 0.4)",
           "rgba(184, 115, 51, 0.4)",
           "rgba(184, 115, 51, 0.4)",
           "rgba(184, 115, 51, 0.4)",
           "rgba(184, 115, 51, 0.4)",
           "rgba(184, 115, 51, 0.4)",
           "rgba(184, 115, 51, 0.4)",
           "rgba(184, 115, 51, 0.4)",
           "rgba(184, 115, 51, 0.4)",
           "rgba(184, 115, 51, 0.4)",
           "rgba(184, 115, 51, 0.4)",
           "rgba(184, 115, 51, 0.4)",
           "rgba(184, 115, 51, 0.4)",
           "rgba(184, 115, 51, 0.4)",
           "rgba(184, 115, 51, 0.4)",
           "rgba(184, 115, 51, 0.4)",
           "rgba(184, 115, 51, 0.4)",
           "rgba(184, 115, 51, 0.4)",
           "rgba(184, 115, 51, 0.4)",
           "rgba(184, 115, 51, 0.4)",
           "rgba(184, 115, 51, 0.4)",
           "rgba(184, 115, 51, 0.4)",
           "rgba(184, 115, 51, 0.4)",
           "rgba(184, 115, 51, 0.4)",
           "rgba(184, 115, 51, 0.4)",
           "rgba(184, 115, 51, 0.4)",
           "rgba(184, 115, 51, 0.4)",
           "rgba(184, 115, 51, 0.4)",
           "rgba(184, 115, 51, 0.4)",
           "rgba(184, 115, 51, 0.4)",
           "rgba(184, 115, 51, 0.4)",
           "rgba(184, 115, 51, 0.4)",
           "rgba(184, 115, 51, 0.4)",
           "rgba(184, 115, 51, 0.4)",
           "rgba(184, 115, 51, 0.4)",
           "rgba(184, 115, 51, 0.4)",
           "rgba(184, 115, 51, 0.4)",
           "rgba(184, 115, 51, 0.4)",
           "rgba(184, 115, 51, 0.4)",
           "rgba(184, 115, 51, 0.4)",
           "rgba(184, 115, 51, 0.4)",
           "rgba(184, 115, 51, 0.4)",
           "rgba(184, 115, 51, 0.4)",
           "rgba(184, 115, 51, 0.4)",
           "rgba(184, 115, 51, 0.4)",
           "rgba(184, 115, 51, 0.4)",
           "rgba(184, 115, 51, 0.4)",
           "rgba(184, 115, 51, 0.4)",
           "rgba(184, 115, 51, 0.4)",
           "rgba(184, 115, 51, 0.4)",
           "rgba(184, 115, 51, 0.4)",
           "rgba(184, 115, 51, 0.4)",
           "rgba(184, 115, 51, 0.4)",
           "rgba(184, 115, 51, 0.4)",
           "rgba(184, 115, 51, 0.4)",
           "rgba(184, 115, 51, 0.4)",
           "rgba(184, 115, 51, 0.4)",
           "rgba(184, 115, 51, 0.4)",
           "rgba(184, 115, 51, 0.4)",
           "rgba(184, 115, 51, 0.4)",
           "rgba(184, 115, 51, 0.4)",
           "rgba(184, 115, 51, 0.4)",
           "rgba(184, 115, 51, 0.4)",
           "rgba(184, 115, 51, 0.4)",
           "rgba(184, 115, 51, 0.4)",
           "rgba(184, 115, 51, 0.4)",
           "rgba(184, 115, 51, 0.4)",
           "rgba(184, 115, 51, 0.4)",
           "rgba(184, 115, 51, 0.4)",
           "rgba(184, 115, 51, 0.4)",
           "rgba(184, 115, 51, 0.4)",
           "rgba(184, 115, 51, 0.4)",
           "rgba(184, 115, 51, 0.4)",
           "rgba(184, 115, 51, 0.4)",
           "rgba(184, 115, 51, 0.4)",
           "rgba(184, 115, 51, 0.4)",
           "rgba(184, 115, 51, 0.4)",
           "rgba(184, 115, 51, 0.4)",
           "rgba(184, 115, 51, 0.4)",
           "rgba(184, 115, 51, 0.4)",
           "rgba(184, 115, 51, 0.4)",
           "rgba(184, 115, 51, 0.4)",
           "rgba(184, 115, 51, 0.4)",
           "rgba(184, 115, 51, 0.4)",
           "rgba(184, 115, 51, 0.4)",
           "rgba(184, 115, 51, 0.4)",
           "rgba(184, 115, 51, 0.4)",
           "rgba(184, 115, 51, 0.4)",
           "rgba(184, 115, 51, 0.4)",
           "rgba(184, 115, 51, 0.4)",
           "rgba(184, 115, 51, 0.4)",
           "rgba(184, 115, 51, 0.4)",
           "rgba(184, 115, 51, 0.4)",
           "rgba(184, 115, 51, 0.4)",
           "rgba(184, 115, 51, 0.4)",
           "rgba(184, 115, 51, 0.4)",
           "rgba(184, 115, 51, 0.4)",
           "rgba(184, 115, 51, 0.4)",
           "rgba(184, 115, 51, 0.4)",
           "rgba(184, 115, 51, 0.4)",
           "rgba(184, 115, 51, 0.4)",
           "rgba(184, 115, 51, 0.4)",
           "rgba(184, 115, 51, 0.4)",
           "rgba(184, 115, 51, 0.4)",
           "rgba(184, 115, 51, 0.4)",
           "rgba(184, 115, 51, 0.4)",
           "rgba(184, 115, 51, 0.4)",
           "rgba(184, 115, 51, 0.4)",
           "rgba(184, 115, 51, 0.4)",
           "rgba(184, 115, 51, 0.4)",
           "rgba(184, 115, 51, 0.4)",
           "rgba(184, 115, 51, 0.4)",
           "rgba(184, 115, 51, 0.4)",
           "rgba(184, 115, 51, 0.4)",
           "rgba(184, 115, 51, 0.4)",
           "rgba(184, 115, 51, 0.4)",
           "rgba(184, 115, 51, 0.4)",
           "rgba(184, 115, 51, 0.4)",
           "rgba(184, 115, 51, 0.4)",
           "rgba(184, 115, 51, 0.4)",
           "rgba(184, 115, 51, 0.4)",
           "rgba(184, 115, 51, 0.4)",
           "rgba(184, 115, 51, 0.4)",
           "rgba(184, 115, 51, 0.4)",
           "rgba(184, 115, 51, 0.4)",
           "rgba(184, 115, 51, 0.4)",
           "rgba(184, 115, 51, 0.4)",
           "rgba(184, 115, 51, 0.4)",
           "rgba(184, 115, 51, 0.4)",
           "rgba(184, 115, 51, 0.4)",
           "rgba(184, 115, 51, 0.4)",
           "rgba(184, 115, 51, 0.4)",
           "rgba(184, 115, 51, 0.4)",
           "rgba(184, 115, 51, 0.4)",
           "rgba(184, 115, 51, 0.4)",
           "rgba(184, 115, 51, 0.4)",
           "rgba(184, 115, 51, 0.4)",
           "rgba(184, 115, 51, 0.4)"
          ],
          "source": [
           0,
           0,
           1,
           1,
           1,
           1,
           1,
           1,
           1,
           1,
           1,
           1,
           1,
           1,
           1,
           1,
           1,
           1,
           1,
           1,
           1,
           1,
           1,
           1,
           1,
           1,
           1,
           1,
           1,
           1,
           1,
           1,
           1,
           1,
           1,
           1,
           1,
           1,
           1,
           1,
           1,
           1,
           1,
           1,
           1,
           1,
           1,
           1,
           1,
           1,
           1,
           1,
           1,
           1,
           1,
           1,
           1,
           1,
           1,
           1,
           1,
           1,
           1,
           1,
           1,
           1,
           1,
           1,
           1,
           1,
           1,
           1,
           1,
           1,
           1,
           1,
           1,
           1,
           1,
           1,
           1,
           1,
           1,
           1,
           1,
           1,
           1,
           1,
           1,
           1,
           1,
           1,
           1,
           1,
           1,
           1,
           1,
           1,
           1,
           1,
           1,
           1,
           1,
           1,
           1,
           1,
           1,
           1,
           1,
           1,
           1,
           1,
           1,
           1,
           1,
           1,
           1,
           1,
           1,
           1,
           1,
           1,
           1,
           1,
           1,
           1,
           1,
           1,
           1,
           1,
           1,
           1,
           1,
           1,
           1,
           1,
           1,
           1,
           1,
           1,
           1,
           1,
           1,
           1,
           1,
           1,
           1,
           1,
           1,
           1,
           1,
           1,
           1,
           1,
           1,
           1,
           1,
           2,
           2,
           2,
           2,
           2,
           2,
           2,
           2,
           2,
           2,
           2,
           2,
           2,
           2,
           2,
           2,
           2,
           2,
           2,
           2,
           2,
           2,
           2,
           2,
           2,
           2,
           2,
           2,
           2,
           2,
           2,
           2,
           2,
           2,
           2,
           2,
           2,
           2,
           2,
           2,
           2,
           2,
           2,
           2,
           2,
           2,
           2,
           2,
           2,
           2,
           2,
           2,
           2,
           2,
           2,
           2,
           2,
           2,
           2,
           2,
           2,
           2,
           2,
           2,
           2,
           2,
           2,
           2,
           2,
           2,
           2,
           2,
           2,
           2,
           2,
           2,
           2,
           2,
           2,
           2,
           2,
           2,
           2,
           2,
           2,
           2,
           2,
           2,
           2,
           2,
           2,
           2,
           2,
           2,
           2,
           2,
           2,
           2,
           2,
           2,
           2,
           2,
           2,
           2,
           2,
           2,
           2,
           2,
           2,
           2,
           2,
           2,
           2,
           2,
           2,
           2,
           2,
           2,
           2,
           2,
           2,
           2,
           2,
           2,
           2,
           2,
           2,
           2,
           2,
           2,
           2,
           2,
           2,
           2,
           2,
           2,
           2,
           2,
           2,
           2,
           2,
           2,
           2,
           2,
           2,
           2,
           2,
           2,
           2,
           2,
           2,
           2,
           2,
           2,
           2,
           2,
           2,
           2
          ],
          "target": [
           1,
           2,
           3,
           4,
           5,
           6,
           7,
           8,
           9,
           10,
           11,
           12,
           13,
           14,
           15,
           16,
           17,
           18,
           19,
           20,
           21,
           22,
           23,
           24,
           25,
           26,
           27,
           28,
           29,
           30,
           31,
           32,
           33,
           34,
           35,
           36,
           37,
           38,
           39,
           40,
           41,
           42,
           43,
           44,
           45,
           46,
           47,
           48,
           49,
           50,
           51,
           52,
           53,
           54,
           55,
           56,
           57,
           58,
           59,
           60,
           61,
           62,
           63,
           64,
           65,
           66,
           67,
           68,
           69,
           70,
           71,
           72,
           73,
           74,
           75,
           76,
           77,
           78,
           79,
           80,
           81,
           82,
           83,
           84,
           85,
           86,
           87,
           88,
           89,
           90,
           91,
           92,
           93,
           94,
           95,
           96,
           97,
           98,
           99,
           100,
           101,
           102,
           103,
           104,
           105,
           106,
           107,
           108,
           109,
           110,
           111,
           112,
           113,
           114,
           115,
           116,
           117,
           118,
           119,
           120,
           121,
           122,
           123,
           124,
           125,
           126,
           127,
           128,
           129,
           130,
           131,
           132,
           133,
           134,
           135,
           136,
           137,
           138,
           139,
           140,
           141,
           142,
           143,
           144,
           145,
           146,
           147,
           148,
           149,
           150,
           151,
           152,
           153,
           154,
           155,
           156,
           157,
           12,
           3,
           9,
           28,
           45,
           27,
           72,
           23,
           26,
           31,
           51,
           20,
           16,
           49,
           30,
           17,
           21,
           128,
           14,
           7,
           8,
           4,
           5,
           24,
           19,
           25,
           6,
           13,
           11,
           46,
           15,
           59,
           56,
           52,
           36,
           34,
           42,
           41,
           105,
           38,
           35,
           61,
           90,
           120,
           112,
           93,
           22,
           94,
           92,
           29,
           82,
           47,
           80,
           10,
           158,
           71,
           86,
           139,
           62,
           73,
           156,
           77,
           76,
           108,
           136,
           102,
           40,
           54,
           85,
           159,
           110,
           63,
           58,
           100,
           68,
           104,
           79,
           96,
           154,
           55,
           70,
           37,
           115,
           160,
           107,
           161,
           162,
           119,
           33,
           69,
           60,
           143,
           163,
           164,
           32,
           88,
           18,
           67,
           137,
           66,
           57,
           44,
           101,
           91,
           39,
           146,
           132,
           109,
           134,
           165,
           151,
           89,
           166,
           167,
           127,
           106,
           130,
           168,
           50,
           147,
           124,
           133,
           125,
           169,
           170,
           64,
           53,
           149,
           171,
           172,
           138,
           78,
           83,
           155,
           95,
           99,
           121,
           173,
           174,
           123,
           116,
           152,
           75,
           74,
           129,
           43,
           135,
           175,
           65,
           176,
           87,
           114,
           148,
           177,
           178,
           103,
           84,
           81
          ],
          "value": [
           18776.93895,
           736.16121,
           3786.51744,
           2813.6789700000004,
           1324.34693,
           1281.2430200000001,
           1173.20412,
           1159.2726699999998,
           934.7170500000001,
           729.5350999999999,
           714.43379,
           440.8317,
           439.90709000000004,
           432.9276,
           388.95441,
           353.9343,
           339.22661999999997,
           273.06973999999997,
           267.77995,
           204.48832000000002,
           157.52120000000002,
           145.39221,
           101.92858,
           82.59275,
           78.95691000000001,
           76.89141000000001,
           74.03102,
           64.83094,
           59.65044,
           53.631879999999995,
           50.68803,
           50.27282,
           43.55902,
           43.38014,
           42.99536,
           39.0072,
           34.35946,
           29.84096,
           29.51472,
           28.230700000000002,
           25.38472,
           25.300819999999998,
           25.020509999999998,
           22.44611,
           20.88123,
           20.80607,
           17.37777,
           17.12625,
           16.57923,
           12.869159999999999,
           11.666739999999999,
           11.49033,
           10.773969999999998,
           10.497959999999999,
           10.044540000000001,
           9.89346,
           9.71214,
           9.61742,
           9.502600000000001,
           9.32733,
           7.6333400000000005,
           7.28904,
           6.63854,
           6.45483,
           5.90619,
           5.814850000000001,
           5.5036499999999995,
           5.264729999999999,
           5.154100000000001,
           4.6581,
           3.88102,
           3.83627,
           3.70315,
           3.48581,
           3.21245,
           3.18428,
           2.9164499999999998,
           2.50872,
           2.33827,
           2.2726100000000002,
           2.1804,
           2.17508,
           1.84555,
           1.71046,
           1.68598,
           1.6191,
           1.61845,
           1.51254,
           1.4606199999999998,
           1.3901199999999998,
           1.30698,
           1.10295,
           1.05205,
           0.87198,
           0.827,
           0.74,
           0.72,
           0.67134,
           0.6452100000000001,
           0.6367200000000001,
           0.5570499999999999,
           0.512,
           0.48839,
           0.45405,
           0.43859,
           0.43715,
           0.37298000000000003,
           0.35794,
           0.33864999999999995,
           0.30605,
           0.2856,
           0.27574,
           0.27396,
           0.25830000000000003,
           0.25064,
           0.24409,
           0.16394999999999998,
           0.14759999999999998,
           0.14155,
           0.10972,
           0.10698,
           0.10162,
           0.08572,
           0.08526,
           0.08141,
           0.07812000000000001,
           0.06652,
           0.06404,
           0.05983,
           0.0592,
           0.05835,
           0.052719999999999996,
           0.046799999999999994,
           0.04265,
           0.041710000000000004,
           0.040670000000000005,
           0.03545,
           0.03538,
           0.03393,
           0.02952,
           0.029,
           0.02804,
           0.02506,
           0.02115,
           0.019649999999999997,
           0.019600000000000003,
           0.01797,
           0.01625,
           0.012150000000000001,
           0.01134,
           0.01059,
           0.00645,
           0.0028799999999999997,
           0.00282,
           0.00183,
           0.00159,
           0.0008399999999999999,
           64.15182,
           57.46543,
           50.28449,
           49.86754,
           44.377019999999995,
           32.23268,
           29.53096,
           26.037110000000002,
           23.88399,
           22.70517,
           20.61581,
           20.443720000000003,
           18.58719,
           18.10316,
           17.80969,
           17.08535,
           14.557540000000001,
           13.489799999999999,
           13.47599,
           13.45148,
           12.98124,
           12.27348,
           9.46426,
           9.31595,
           8.63378,
           8.440629999999999,
           8.33704,
           7.663609999999999,
           5.01881,
           4.7347,
           4.633859999999999,
           4.14316,
           4.13728,
           4.066949999999999,
           3.98658,
           3.43274,
           3.4027,
           3.1550599999999998,
           3.09954,
           2.8640700000000003,
           2.75632,
           2.71391,
           2.52716,
           2.3098400000000003,
           1.88712,
           1.83957,
           1.5540399999999999,
           1.51978,
           1.4643599999999999,
           1.42565,
           1.4255799999999998,
           1.28585,
           1.2311400000000001,
           1.2243,
           1.1972,
           0.89747,
           0.8811100000000001,
           0.8795700000000001,
           0.68132,
           0.65078,
           0.63142,
           0.59304,
           0.57053,
           0.51128,
           0.49305,
           0.48006,
           0.47456,
           0.4612,
           0.43118,
           0.36556,
           0.36025999999999997,
           0.35073000000000004,
           0.34661000000000003,
           0.34341000000000005,
           0.33438,
           0.30174,
           0.30058999999999997,
           0.29455000000000003,
           0.24397,
           0.24391,
           0.23677,
           0.22766999999999998,
           0.22185,
           0.22169999999999998,
           0.2129,
           0.19956000000000002,
           0.19478,
           0.18184999999999998,
           0.17735,
           0.15862,
           0.15809,
           0.15802000000000002,
           0.15649000000000002,
           0.14627,
           0.14097,
           0.13854,
           0.12742,
           0.12509,
           0.12317,
           0.1197,
           0.11694,
           0.11679,
           0.10507,
           0.10286,
           0.09802,
           0.09356999999999999,
           0.09162999999999999,
           0.09034,
           0.08972,
           0.08947,
           0.08518,
           0.07873999999999999,
           0.07769,
           0.07640000000000001,
           0.07488,
           0.07453,
           0.07363,
           0.06983,
           0.06976,
           0.06336,
           0.05695,
           0.05028,
           0.04813,
           0.0474,
           0.042,
           0.038770000000000006,
           0.037829999999999996,
           0.03338,
           0.02628,
           0.020649999999999998,
           0.02038,
           0.01722,
           0.01679,
           0.015619999999999998,
           0.014410000000000001,
           0.0121,
           0.00842,
           0.00818,
           0.00808,
           0.006889999999999999,
           0.00626,
           0.00613,
           0.00458,
           0.00365,
           0.00359,
           0.00337,
           0.00287,
           0.00215,
           0.00175,
           0.00165,
           0.00134,
           0.00126,
           0.0009699999999999999,
           0.0005600000000000001,
           0.0004,
           0.00011,
           0.00007000000000000001,
           0.00004
          ]
         },
         "node": {
          "color": [
           "red",
           "#FF69B4",
           "#B87333",
           "grey",
           "grey",
           "grey",
           "grey",
           "grey",
           "grey",
           "grey",
           "grey",
           "grey",
           "grey",
           "grey",
           "grey",
           "grey",
           "grey",
           "grey",
           "grey",
           "grey",
           "grey",
           "grey",
           "grey",
           "grey",
           "grey",
           "grey",
           "grey",
           "grey",
           "grey",
           "grey",
           "grey",
           "grey",
           "grey",
           "grey",
           "grey",
           "grey",
           "grey",
           "grey",
           "grey",
           "grey",
           "grey",
           "grey",
           "grey",
           "grey",
           "grey",
           "grey",
           "grey",
           "grey",
           "grey",
           "grey",
           "grey",
           "grey",
           "grey",
           "grey",
           "grey",
           "grey",
           "grey",
           "grey",
           "grey",
           "grey",
           "grey",
           "grey",
           "grey",
           "grey",
           "grey",
           "grey",
           "grey",
           "grey",
           "grey",
           "grey",
           "grey",
           "grey",
           "grey",
           "grey",
           "grey",
           "grey",
           "grey",
           "grey",
           "grey",
           "grey",
           "grey",
           "grey",
           "grey",
           "grey",
           "grey",
           "grey",
           "grey",
           "grey",
           "grey",
           "grey",
           "grey",
           "grey",
           "grey",
           "grey",
           "grey",
           "grey",
           "grey",
           "grey",
           "grey",
           "grey",
           "grey",
           "grey",
           "grey",
           "grey",
           "grey",
           "grey",
           "grey",
           "grey",
           "grey",
           "grey",
           "grey",
           "grey",
           "grey",
           "grey",
           "grey",
           "grey",
           "grey",
           "grey",
           "grey",
           "grey",
           "grey",
           "grey",
           "grey",
           "grey",
           "grey",
           "grey",
           "grey",
           "grey",
           "grey",
           "grey",
           "grey",
           "grey",
           "grey",
           "grey",
           "grey",
           "grey",
           "grey",
           "grey",
           "grey",
           "grey",
           "grey",
           "grey",
           "grey",
           "grey",
           "grey",
           "grey",
           "grey",
           "grey",
           "grey",
           "grey",
           "grey",
           "grey",
           "grey",
           "grey",
           "grey",
           "grey",
           "grey",
           "grey",
           "grey",
           "grey",
           "grey",
           "grey",
           "grey",
           "grey",
           "grey",
           "grey",
           "grey",
           "grey",
           "grey",
           "grey",
           "grey",
           "grey",
           "grey",
           "grey",
           "grey",
           "grey",
           "grey",
           "grey",
           "grey"
          ],
          "label": [
           "China",
           "Electric vehicles",
           "Lithium-ion batteries",
           "United Kingdom",
           "Belgium",
           "Norway",
           "Spain",
           "Australia",
           "United Arab Emirates",
           "Germany",
           "Slovenia",
           "Israel",
           "USA",
           "Thailand",
           "Switzerland",
           "New Zealand",
           "Netherlands",
           "France",
           "Jordan",
           "Japan",
           "Rep. of Korea",
           "Brazil",
           "Uzbekistan",
           "Singapore",
           "Sweden",
           "Türkiye",
           "Canada",
           "Italy",
           "Mexico",
           "Ukraine",
           "Russian Federation",
           "Indonesia",
           "Iceland",
           "Costa Rica",
           "Colombia",
           "Philippines",
           "Bangladesh",
           "Kyrgyzstan",
           "Chile",
           "Belarus",
           "Uruguay",
           "Ireland",
           "Finland",
           "Lao People's Dem. Rep.",
           "Armenia",
           "Malaysia",
           "Denmark",
           "Kazakhstan",
           "Djibouti",
           "India",
           "Nepal",
           "Poland",
           "Austria",
           "Dominican Rep.",
           "Azerbaijan",
           "Luxembourg",
           "Egypt",
           "Cambodia",
           "Saudi Arabia",
           "Czechia",
           "Tajikistan",
           "South Africa",
           "Portugal",
           "Ethiopia",
           "Georgia",
           "Bahamas",
           "Ecuador",
           "Lebanon",
           "Lithuania",
           "Mongolia",
           "Panama",
           "Serbia",
           "Viet Nam",
           "Paraguay",
           "Cuba",
           "French Polynesia",
           "Peru",
           "Morocco",
           "Jamaica",
           "Angola",
           "Greece",
           "Aruba",
           "Hungary",
           "New Caledonia",
           "Bhutan",
           "Guatemala",
           "Romania",
           "Barbados",
           "Kuwait",
           "Maldives",
           "Slovakia",
           "Mauritius",
           "Qatar",
           "Myanmar",
           "Argentina",
           "Albania",
           "Bolivia (Plurinational State of)",
           "State of Palestine",
           "Curaçao",
           "Rep. of Moldova",
           "Croatia",
           "United Rep. of Tanzania",
           "Trinidad and Tobago",
           "Zimbabwe",
           "Bahrain",
           "Pakistan",
           "Ghana",
           "Kenya",
           "Estonia",
           "Venezuela",
           "El Salvador",
           "Solomon Isds",
           "Bulgaria",
           "Timor-Leste",
           "Seychelles",
           "Fiji",
           "Dem. Rep. of the Congo",
           "Cabo Verde",
           "Rwanda",
           "Iraq",
           "Tunisia",
           "Burkina Faso",
           "Antigua and Barbuda",
           "Papua New Guinea",
           "Malta",
           "Bermuda",
           "Sierra Leone",
           "Madagascar",
           "Other Asia, nes",
           "Sudan",
           "Senegal",
           "Belize",
           "Montenegro",
           "Nicaragua",
           "Cyprus",
           "Honduras",
           "Nigeria",
           "Côte d'Ivoire",
           "Sri Lanka",
           "Latvia",
           "Turks and Caicos Isds",
           "Saint Lucia",
           "Brunei Darussalam",
           "North Macedonia",
           "Cayman Isds",
           "Dominica",
           "Uganda",
           "Mozambique",
           "Gambia",
           "Zambia",
           "Grenada",
           "Oman",
           "Botswana",
           "Malawi",
           "Bosnia Herzegovina",
           "Guinea",
           "Togo",
           "Vanuatu",
           "Iran",
           "Namibia",
           "Algeria",
           "Niger",
           "Guyana",
           "Gabon",
           "Burundi",
           "Chad",
           "Yemen",
           "Suriname",
           "Libya",
           "Cameroon",
           "Turkmenistan",
           "Haiti",
           "Benin",
           "Congo",
           "Liberia",
           "Somalia",
           "Andorra",
           "Marshall Isds",
           "Eswatini"
          ],
          "line": {
           "color": "black",
           "width": 0.5
          },
          "pad": 15,
          "thickness": 20
         },
         "type": "sankey",
         "valueformat": ".0f",
         "valuesuffix": " million USD"
        }
       ],
       "layout": {
        "font": {
         "size": 10
        },
        "template": {
         "data": {
          "bar": [
           {
            "error_x": {
             "color": "#2a3f5f"
            },
            "error_y": {
             "color": "#2a3f5f"
            },
            "marker": {
             "line": {
              "color": "#E5ECF6",
              "width": 0.5
             },
             "pattern": {
              "fillmode": "overlay",
              "size": 10,
              "solidity": 0.2
             }
            },
            "type": "bar"
           }
          ],
          "barpolar": [
           {
            "marker": {
             "line": {
              "color": "#E5ECF6",
              "width": 0.5
             },
             "pattern": {
              "fillmode": "overlay",
              "size": 10,
              "solidity": 0.2
             }
            },
            "type": "barpolar"
           }
          ],
          "carpet": [
           {
            "aaxis": {
             "endlinecolor": "#2a3f5f",
             "gridcolor": "white",
             "linecolor": "white",
             "minorgridcolor": "white",
             "startlinecolor": "#2a3f5f"
            },
            "baxis": {
             "endlinecolor": "#2a3f5f",
             "gridcolor": "white",
             "linecolor": "white",
             "minorgridcolor": "white",
             "startlinecolor": "#2a3f5f"
            },
            "type": "carpet"
           }
          ],
          "choropleth": [
           {
            "colorbar": {
             "outlinewidth": 0,
             "ticks": ""
            },
            "type": "choropleth"
           }
          ],
          "contour": [
           {
            "colorbar": {
             "outlinewidth": 0,
             "ticks": ""
            },
            "colorscale": [
             [
              0,
              "#0d0887"
             ],
             [
              0.1111111111111111,
              "#46039f"
             ],
             [
              0.2222222222222222,
              "#7201a8"
             ],
             [
              0.3333333333333333,
              "#9c179e"
             ],
             [
              0.4444444444444444,
              "#bd3786"
             ],
             [
              0.5555555555555556,
              "#d8576b"
             ],
             [
              0.6666666666666666,
              "#ed7953"
             ],
             [
              0.7777777777777778,
              "#fb9f3a"
             ],
             [
              0.8888888888888888,
              "#fdca26"
             ],
             [
              1,
              "#f0f921"
             ]
            ],
            "type": "contour"
           }
          ],
          "contourcarpet": [
           {
            "colorbar": {
             "outlinewidth": 0,
             "ticks": ""
            },
            "type": "contourcarpet"
           }
          ],
          "heatmap": [
           {
            "colorbar": {
             "outlinewidth": 0,
             "ticks": ""
            },
            "colorscale": [
             [
              0,
              "#0d0887"
             ],
             [
              0.1111111111111111,
              "#46039f"
             ],
             [
              0.2222222222222222,
              "#7201a8"
             ],
             [
              0.3333333333333333,
              "#9c179e"
             ],
             [
              0.4444444444444444,
              "#bd3786"
             ],
             [
              0.5555555555555556,
              "#d8576b"
             ],
             [
              0.6666666666666666,
              "#ed7953"
             ],
             [
              0.7777777777777778,
              "#fb9f3a"
             ],
             [
              0.8888888888888888,
              "#fdca26"
             ],
             [
              1,
              "#f0f921"
             ]
            ],
            "type": "heatmap"
           }
          ],
          "heatmapgl": [
           {
            "colorbar": {
             "outlinewidth": 0,
             "ticks": ""
            },
            "colorscale": [
             [
              0,
              "#0d0887"
             ],
             [
              0.1111111111111111,
              "#46039f"
             ],
             [
              0.2222222222222222,
              "#7201a8"
             ],
             [
              0.3333333333333333,
              "#9c179e"
             ],
             [
              0.4444444444444444,
              "#bd3786"
             ],
             [
              0.5555555555555556,
              "#d8576b"
             ],
             [
              0.6666666666666666,
              "#ed7953"
             ],
             [
              0.7777777777777778,
              "#fb9f3a"
             ],
             [
              0.8888888888888888,
              "#fdca26"
             ],
             [
              1,
              "#f0f921"
             ]
            ],
            "type": "heatmapgl"
           }
          ],
          "histogram": [
           {
            "marker": {
             "pattern": {
              "fillmode": "overlay",
              "size": 10,
              "solidity": 0.2
             }
            },
            "type": "histogram"
           }
          ],
          "histogram2d": [
           {
            "colorbar": {
             "outlinewidth": 0,
             "ticks": ""
            },
            "colorscale": [
             [
              0,
              "#0d0887"
             ],
             [
              0.1111111111111111,
              "#46039f"
             ],
             [
              0.2222222222222222,
              "#7201a8"
             ],
             [
              0.3333333333333333,
              "#9c179e"
             ],
             [
              0.4444444444444444,
              "#bd3786"
             ],
             [
              0.5555555555555556,
              "#d8576b"
             ],
             [
              0.6666666666666666,
              "#ed7953"
             ],
             [
              0.7777777777777778,
              "#fb9f3a"
             ],
             [
              0.8888888888888888,
              "#fdca26"
             ],
             [
              1,
              "#f0f921"
             ]
            ],
            "type": "histogram2d"
           }
          ],
          "histogram2dcontour": [
           {
            "colorbar": {
             "outlinewidth": 0,
             "ticks": ""
            },
            "colorscale": [
             [
              0,
              "#0d0887"
             ],
             [
              0.1111111111111111,
              "#46039f"
             ],
             [
              0.2222222222222222,
              "#7201a8"
             ],
             [
              0.3333333333333333,
              "#9c179e"
             ],
             [
              0.4444444444444444,
              "#bd3786"
             ],
             [
              0.5555555555555556,
              "#d8576b"
             ],
             [
              0.6666666666666666,
              "#ed7953"
             ],
             [
              0.7777777777777778,
              "#fb9f3a"
             ],
             [
              0.8888888888888888,
              "#fdca26"
             ],
             [
              1,
              "#f0f921"
             ]
            ],
            "type": "histogram2dcontour"
           }
          ],
          "mesh3d": [
           {
            "colorbar": {
             "outlinewidth": 0,
             "ticks": ""
            },
            "type": "mesh3d"
           }
          ],
          "parcoords": [
           {
            "line": {
             "colorbar": {
              "outlinewidth": 0,
              "ticks": ""
             }
            },
            "type": "parcoords"
           }
          ],
          "pie": [
           {
            "automargin": true,
            "type": "pie"
           }
          ],
          "scatter": [
           {
            "fillpattern": {
             "fillmode": "overlay",
             "size": 10,
             "solidity": 0.2
            },
            "type": "scatter"
           }
          ],
          "scatter3d": [
           {
            "line": {
             "colorbar": {
              "outlinewidth": 0,
              "ticks": ""
             }
            },
            "marker": {
             "colorbar": {
              "outlinewidth": 0,
              "ticks": ""
             }
            },
            "type": "scatter3d"
           }
          ],
          "scattercarpet": [
           {
            "marker": {
             "colorbar": {
              "outlinewidth": 0,
              "ticks": ""
             }
            },
            "type": "scattercarpet"
           }
          ],
          "scattergeo": [
           {
            "marker": {
             "colorbar": {
              "outlinewidth": 0,
              "ticks": ""
             }
            },
            "type": "scattergeo"
           }
          ],
          "scattergl": [
           {
            "marker": {
             "colorbar": {
              "outlinewidth": 0,
              "ticks": ""
             }
            },
            "type": "scattergl"
           }
          ],
          "scattermapbox": [
           {
            "marker": {
             "colorbar": {
              "outlinewidth": 0,
              "ticks": ""
             }
            },
            "type": "scattermapbox"
           }
          ],
          "scatterpolar": [
           {
            "marker": {
             "colorbar": {
              "outlinewidth": 0,
              "ticks": ""
             }
            },
            "type": "scatterpolar"
           }
          ],
          "scatterpolargl": [
           {
            "marker": {
             "colorbar": {
              "outlinewidth": 0,
              "ticks": ""
             }
            },
            "type": "scatterpolargl"
           }
          ],
          "scatterternary": [
           {
            "marker": {
             "colorbar": {
              "outlinewidth": 0,
              "ticks": ""
             }
            },
            "type": "scatterternary"
           }
          ],
          "surface": [
           {
            "colorbar": {
             "outlinewidth": 0,
             "ticks": ""
            },
            "colorscale": [
             [
              0,
              "#0d0887"
             ],
             [
              0.1111111111111111,
              "#46039f"
             ],
             [
              0.2222222222222222,
              "#7201a8"
             ],
             [
              0.3333333333333333,
              "#9c179e"
             ],
             [
              0.4444444444444444,
              "#bd3786"
             ],
             [
              0.5555555555555556,
              "#d8576b"
             ],
             [
              0.6666666666666666,
              "#ed7953"
             ],
             [
              0.7777777777777778,
              "#fb9f3a"
             ],
             [
              0.8888888888888888,
              "#fdca26"
             ],
             [
              1,
              "#f0f921"
             ]
            ],
            "type": "surface"
           }
          ],
          "table": [
           {
            "cells": {
             "fill": {
              "color": "#EBF0F8"
             },
             "line": {
              "color": "white"
             }
            },
            "header": {
             "fill": {
              "color": "#C8D4E3"
             },
             "line": {
              "color": "white"
             }
            },
            "type": "table"
           }
          ]
         },
         "layout": {
          "annotationdefaults": {
           "arrowcolor": "#2a3f5f",
           "arrowhead": 0,
           "arrowwidth": 1
          },
          "autotypenumbers": "strict",
          "coloraxis": {
           "colorbar": {
            "outlinewidth": 0,
            "ticks": ""
           }
          },
          "colorscale": {
           "diverging": [
            [
             0,
             "#8e0152"
            ],
            [
             0.1,
             "#c51b7d"
            ],
            [
             0.2,
             "#de77ae"
            ],
            [
             0.3,
             "#f1b6da"
            ],
            [
             0.4,
             "#fde0ef"
            ],
            [
             0.5,
             "#f7f7f7"
            ],
            [
             0.6,
             "#e6f5d0"
            ],
            [
             0.7,
             "#b8e186"
            ],
            [
             0.8,
             "#7fbc41"
            ],
            [
             0.9,
             "#4d9221"
            ],
            [
             1,
             "#276419"
            ]
           ],
           "sequential": [
            [
             0,
             "#0d0887"
            ],
            [
             0.1111111111111111,
             "#46039f"
            ],
            [
             0.2222222222222222,
             "#7201a8"
            ],
            [
             0.3333333333333333,
             "#9c179e"
            ],
            [
             0.4444444444444444,
             "#bd3786"
            ],
            [
             0.5555555555555556,
             "#d8576b"
            ],
            [
             0.6666666666666666,
             "#ed7953"
            ],
            [
             0.7777777777777778,
             "#fb9f3a"
            ],
            [
             0.8888888888888888,
             "#fdca26"
            ],
            [
             1,
             "#f0f921"
            ]
           ],
           "sequentialminus": [
            [
             0,
             "#0d0887"
            ],
            [
             0.1111111111111111,
             "#46039f"
            ],
            [
             0.2222222222222222,
             "#7201a8"
            ],
            [
             0.3333333333333333,
             "#9c179e"
            ],
            [
             0.4444444444444444,
             "#bd3786"
            ],
            [
             0.5555555555555556,
             "#d8576b"
            ],
            [
             0.6666666666666666,
             "#ed7953"
            ],
            [
             0.7777777777777778,
             "#fb9f3a"
            ],
            [
             0.8888888888888888,
             "#fdca26"
            ],
            [
             1,
             "#f0f921"
            ]
           ]
          },
          "colorway": [
           "#636efa",
           "#EF553B",
           "#00cc96",
           "#ab63fa",
           "#FFA15A",
           "#19d3f3",
           "#FF6692",
           "#B6E880",
           "#FF97FF",
           "#FECB52"
          ],
          "font": {
           "color": "#2a3f5f"
          },
          "geo": {
           "bgcolor": "white",
           "lakecolor": "white",
           "landcolor": "#E5ECF6",
           "showlakes": true,
           "showland": true,
           "subunitcolor": "white"
          },
          "hoverlabel": {
           "align": "left"
          },
          "hovermode": "closest",
          "mapbox": {
           "style": "light"
          },
          "paper_bgcolor": "white",
          "plot_bgcolor": "#E5ECF6",
          "polar": {
           "angularaxis": {
            "gridcolor": "white",
            "linecolor": "white",
            "ticks": ""
           },
           "bgcolor": "#E5ECF6",
           "radialaxis": {
            "gridcolor": "white",
            "linecolor": "white",
            "ticks": ""
           }
          },
          "scene": {
           "xaxis": {
            "backgroundcolor": "#E5ECF6",
            "gridcolor": "white",
            "gridwidth": 2,
            "linecolor": "white",
            "showbackground": true,
            "ticks": "",
            "zerolinecolor": "white"
           },
           "yaxis": {
            "backgroundcolor": "#E5ECF6",
            "gridcolor": "white",
            "gridwidth": 2,
            "linecolor": "white",
            "showbackground": true,
            "ticks": "",
            "zerolinecolor": "white"
           },
           "zaxis": {
            "backgroundcolor": "#E5ECF6",
            "gridcolor": "white",
            "gridwidth": 2,
            "linecolor": "white",
            "showbackground": true,
            "ticks": "",
            "zerolinecolor": "white"
           }
          },
          "shapedefaults": {
           "line": {
            "color": "#2a3f5f"
           }
          },
          "ternary": {
           "aaxis": {
            "gridcolor": "white",
            "linecolor": "white",
            "ticks": ""
           },
           "baxis": {
            "gridcolor": "white",
            "linecolor": "white",
            "ticks": ""
           },
           "bgcolor": "#E5ECF6",
           "caxis": {
            "gridcolor": "white",
            "linecolor": "white",
            "ticks": ""
           }
          },
          "title": {
           "x": 0.05
          },
          "xaxis": {
           "automargin": true,
           "gridcolor": "white",
           "linecolor": "white",
           "ticks": "",
           "title": {
            "standoff": 15
           },
           "zerolinecolor": "white",
           "zerolinewidth": 2
          },
          "yaxis": {
           "automargin": true,
           "gridcolor": "white",
           "linecolor": "white",
           "ticks": "",
           "title": {
            "standoff": 15
           },
           "zerolinecolor": "white",
           "zerolinewidth": 2
          }
         }
        },
        "title": {
         "text": "Sankey Diagram of new trio Exports from China"
        }
       }
      }
     },
     "metadata": {},
     "output_type": "display_data"
    }
   ],
   "source": [
    "export_sankey_diagram(n3s,all_data_code,country_code,product_code,new_trio,target_country_name)\n"
   ]
  },
  {
   "cell_type": "code",
   "execution_count": 86,
   "id": "9e8a88a6",
   "metadata": {},
   "outputs": [
    {
     "name": "stdout",
     "output_type": "stream",
     "text": [
      " Critical materials type: copper \n",
      " Total value of imports: 17611450.199 thousand USD \n",
      " [3918437.22 3624596.86 2094028.49 1127325.59 1004905.17  718762.11\n",
      "  676605.24  483036.06  449045.47  390438.52] \n",
      " ['Canada' 'Chile' 'Mexico' 'China' 'Germany' 'Peru' 'Rep. of Korea'\n",
      " 'Thailand' 'Other Asia, nes' 'India'] \n",
      " percentage: [0.22249373 0.20580911 0.11890154 0.06401095 0.05705976 0.0408122\n",
      " 0.03841849 0.02742739 0.02549736 0.02216958] \n",
      " oveall percentage: 0.8226001019962909\n"
     ]
    },
    {
     "data": {
      "application/vnd.plotly.v1+json": {
       "config": {
        "plotlyServerURL": "https://plot.ly"
       },
       "data": [
        {
         "branchvalues": "total",
         "customdata": [
          [
           0.28,
           "Sri Lanka"
          ],
          [
           0,
           "Georgia"
          ],
          [
           0.23,
           "Spain"
          ],
          [
           0,
           "Namibia"
          ],
          [
           0,
           "Madagascar"
          ],
          [
           0,
           "Kuwait"
          ],
          [
           0,
           "Cameroon"
          ],
          [
           0,
           "Cocos Isds"
          ],
          [
           1.38,
           "Japan"
          ],
          [
           1.4,
           "Brazil"
          ],
          [
           0,
           "Sierra Leone"
          ],
          [
           0.71,
           "Malaysia"
          ],
          [
           0,
           "Nigeria"
          ],
          [
           0.61,
           "Finland"
          ],
          [
           2.55,
           "Other Asia, nes"
          ],
          [
           0,
           "Morocco"
          ],
          [
           0.36,
           "United Arab Emirates"
          ],
          [
           0,
           "Turks and Caicos Isds"
          ],
          [
           0,
           "Tunisia"
          ],
          [
           0,
           "Bangladesh"
          ],
          [
           6.4,
           "China"
          ],
          [
           0.25,
           "Zambia"
          ],
          [
           2.22,
           "India"
          ],
          [
           0.4,
           "Switzerland"
          ],
          [
           0,
           "Afghanistan"
          ],
          [
           0.04,
           "Luxembourg"
          ],
          [
           0.05,
           "Angola"
          ],
          [
           0,
           "Antigua and Barbuda"
          ],
          [
           0,
           "Haiti"
          ],
          [
           0.02,
           "Philippines"
          ],
          [
           0.11,
           "South Africa"
          ],
          [
           0,
           "Gambia"
          ],
          [
           0.83,
           "France"
          ],
          [
           0.09,
           "Russian Federation"
          ],
          [
           0.02,
           "Paraguay"
          ],
          [
           0.02,
           "Honduras"
          ],
          [
           0.02,
           "Cambodia"
          ],
          [
           0,
           "Kyrgyzstan"
          ],
          [
           0.13,
           "Egypt"
          ],
          [
           0,
           "Myanmar"
          ],
          [
           0,
           "Ecuador"
          ],
          [
           0,
           "Guyana"
          ],
          [
           0.02,
           "Portugal"
          ],
          [
           0.59,
           "United Kingdom"
          ],
          [
           0,
           "Slovenia"
          ],
          [
           0.39,
           "Bulgaria"
          ],
          [
           0,
           "Bolivia (Plurinational State of)"
          ],
          [
           0.02,
           "Suriname"
          ],
          [
           2.74,
           "Thailand"
          ],
          [
           0.01,
           "Argentina"
          ],
          [
           0.51,
           "Dem. Rep. of the Congo"
          ],
          [
           0.02,
           "Pakistan"
          ],
          [
           0.01,
           "Kazakhstan"
          ],
          [
           0,
           "Niger"
          ],
          [
           0.04,
           "New Zealand"
          ],
          [
           0,
           "Iceland"
          ],
          [
           0.03,
           "Hungary"
          ],
          [
           0,
           "Venezuela"
          ],
          [
           0.62,
           "Bahrain"
          ],
          [
           0,
           "Br. Virgin Isds"
          ],
          [
           1.13,
           "Italy"
          ],
          [
           0.04,
           "Czechia"
          ],
          [
           0.07,
           "Belgium"
          ],
          [
           0.08,
           "Kenya"
          ],
          [
           0,
           "Barbados"
          ],
          [
           4.08,
           "Peru"
          ],
          [
           0,
           "Latvia"
          ],
          [
           0,
           "Ethiopia"
          ],
          [
           0,
           "Slovakia"
          ],
          [
           0,
           "Saint Maarten"
          ],
          [
           0.32,
           "Netherlands"
          ],
          [
           3.84,
           "Rep. of Korea"
          ],
          [
           22.25,
           "Canada"
          ],
          [
           0,
           "Grenada"
          ],
          [
           0.15,
           "Serbia"
          ],
          [
           0,
           "Botswana"
          ],
          [
           1.04,
           "Türkiye"
          ],
          [
           0,
           "Anguilla"
          ],
          [
           0,
           "Syria"
          ],
          [
           0.05,
           "Norway"
          ],
          [
           0,
           "Uruguay"
          ],
          [
           0,
           "Zimbabwe"
          ],
          [
           0,
           "North Macedonia"
          ],
          [
           0,
           "China, Macao SAR"
          ],
          [
           0.18,
           "Greece"
          ],
          [
           0.41,
           "Lithuania"
          ],
          [
           0.1,
           "Sweden"
          ],
          [
           0,
           "Qatar"
          ],
          [
           0.76,
           "Viet Nam"
          ],
          [
           5.71,
           "Germany"
          ],
          [
           0,
           "Belarus"
          ],
          [
           0.02,
           "Bahamas"
          ],
          [
           0.68,
           "Indonesia"
          ],
          [
           0.02,
           "Guatemala"
          ],
          [
           0.01,
           "Jamaica"
          ],
          [
           0.01,
           "Armenia"
          ],
          [
           0.18,
           "Israel"
          ],
          [
           20.58,
           "Chile"
          ],
          [
           0.02,
           "Ireland"
          ],
          [
           0,
           "Saint Kitts and Nevis"
          ],
          [
           0.44,
           "Australia"
          ],
          [
           0.39,
           "Poland"
          ],
          [
           0,
           "Eswatini"
          ],
          [
           0,
           "San Marino"
          ],
          [
           0,
           "Lebanon"
          ],
          [
           0.01,
           "Saint Lucia"
          ],
          [
           1.33,
           "Oman"
          ],
          [
           0,
           "Trinidad and Tobago"
          ],
          [
           0,
           "Curaçao"
          ],
          [
           0.01,
           "Denmark"
          ],
          [
           0,
           "United Rep. of Tanzania"
          ],
          [
           0.13,
           "Dominican Rep."
          ],
          [
           0.01,
           "Nicaragua"
          ],
          [
           0,
           "Montenegro"
          ],
          [
           0.04,
           "El Salvador"
          ],
          [
           0,
           "Croatia"
          ],
          [
           0.05,
           "Colombia"
          ],
          [
           0,
           "Jordan"
          ],
          [
           0,
           "Estonia"
          ],
          [
           0.01,
           "Cayman Isds"
          ],
          [
           0,
           "Uzbekistan"
          ],
          [
           0.29,
           "Austria"
          ],
          [
           0.14,
           "Singapore"
          ],
          [
           11.89,
           "Mexico"
          ],
          [
           0,
           "Saint Vincent and the Grenadines"
          ],
          [
           0,
           "Bermuda"
          ],
          [
           0.22,
           "Saudi Arabia"
          ],
          [
           0.04,
           "China, Hong Kong SAR"
          ],
          [
           0,
           "Burkina Faso"
          ],
          [
           0.04,
           "Panama"
          ],
          [
           0,
           "Malta"
          ],
          [
           0,
           "Nepal"
          ],
          [
           0,
           "Romania"
          ],
          [
           0,
           "Bosnia Herzegovina"
          ],
          [
           0.06,
           "Costa Rica"
          ],
          [
           0,
           "Ukraine"
          ]
         ],
         "domain": {
          "x": [
           0,
           1
          ],
          "y": [
           0,
           1
          ]
         },
         "hovertemplate": "labels=%{label}<br>import_value=%{value}<br>parent=%{parent}<br>id=%{id}<br>percentage=%{customdata[0]}<br>country=%{customdata[1]}<extra></extra>",
         "ids": [
          "Sri Lanka",
          "Georgia",
          "Spain",
          "Namibia",
          "Madagascar",
          "Kuwait",
          "Cameroon",
          "Cocos Isds",
          "Japan",
          "Brazil",
          "Sierra Leone",
          "Malaysia",
          "Nigeria",
          "Finland",
          "Other Asia, nes",
          "Morocco",
          "United Arab Emirates",
          "Turks and Caicos Isds",
          "Tunisia",
          "Bangladesh",
          "China",
          "Zambia",
          "India",
          "Switzerland",
          "Afghanistan",
          "Luxembourg",
          "Angola",
          "Antigua and Barbuda",
          "Haiti",
          "Philippines",
          "South Africa",
          "Gambia",
          "France",
          "Russian Federation",
          "Paraguay",
          "Honduras",
          "Cambodia",
          "Kyrgyzstan",
          "Egypt",
          "Myanmar",
          "Ecuador",
          "Guyana",
          "Portugal",
          "United Kingdom",
          "Slovenia",
          "Bulgaria",
          "Bolivia (Plurinational State of)",
          "Suriname",
          "Thailand",
          "Argentina",
          "Dem. Rep. of the Congo",
          "Pakistan",
          "Kazakhstan",
          "Niger",
          "New Zealand",
          "Iceland",
          "Hungary",
          "Venezuela",
          "Bahrain",
          "Br. Virgin Isds",
          "Italy",
          "Czechia",
          "Belgium",
          "Kenya",
          "Barbados",
          "Peru",
          "Latvia",
          "Ethiopia",
          "Slovakia",
          "Saint Maarten",
          "Netherlands",
          "Rep. of Korea",
          "Canada",
          "Grenada",
          "Serbia",
          "Botswana",
          "Türkiye",
          "Anguilla",
          "Syria",
          "Norway",
          "Uruguay",
          "Zimbabwe",
          "North Macedonia",
          "China, Macao SAR",
          "Greece",
          "Lithuania",
          "Sweden",
          "Qatar",
          "Viet Nam",
          "Germany",
          "Belarus",
          "Bahamas",
          "Indonesia",
          "Guatemala",
          "Jamaica",
          "Armenia",
          "Israel",
          "Chile",
          "Ireland",
          "Saint Kitts and Nevis",
          "Australia",
          "Poland",
          "Eswatini",
          "San Marino",
          "Lebanon",
          "Saint Lucia",
          "Oman",
          "Trinidad and Tobago",
          "Curaçao",
          "Denmark",
          "United Rep. of Tanzania",
          "Dominican Rep.",
          "Nicaragua",
          "Montenegro",
          "El Salvador",
          "Croatia",
          "Colombia",
          "Jordan",
          "Estonia",
          "Cayman Isds",
          "Uzbekistan",
          "Austria",
          "Singapore",
          "Mexico",
          "Saint Vincent and the Grenadines",
          "Bermuda",
          "Saudi Arabia",
          "China, Hong Kong SAR",
          "Burkina Faso",
          "Panama",
          "Malta",
          "Nepal",
          "Romania",
          "Bosnia Herzegovina",
          "Costa Rica",
          "Ukraine"
         ],
         "labels": [
          "Sri Lanka",
          "Georgia",
          "Spain",
          "Namibia",
          "Madagascar",
          "Kuwait",
          "Cameroon",
          "Cocos Isds",
          "Japan",
          "Brazil",
          "Sierra Leone",
          "Malaysia",
          "Nigeria",
          "Finland",
          "Other Asia, nes",
          "Morocco",
          "United Arab Emirates",
          "Turks and Caicos Isds",
          "Tunisia",
          "Bangladesh",
          "China",
          "Zambia",
          "India",
          "Switzerland",
          "Afghanistan",
          "Luxembourg",
          "Angola",
          "Antigua and Barbuda",
          "Haiti",
          "Philippines",
          "South Africa",
          "Gambia",
          "France",
          "Russian Federation",
          "Paraguay",
          "Honduras",
          "Cambodia",
          "Kyrgyzstan",
          "Egypt",
          "Myanmar",
          "Ecuador",
          "Guyana",
          "Portugal",
          "United Kingdom",
          "Slovenia",
          "Bulgaria",
          "Bolivia (Plurinational State of)",
          "Suriname",
          "Thailand",
          "Argentina",
          "Dem. Rep. of the Congo",
          "Pakistan",
          "Kazakhstan",
          "Niger",
          "New Zealand",
          "Iceland",
          "Hungary",
          "Venezuela",
          "Bahrain",
          "Br. Virgin Isds",
          "Italy",
          "Czechia",
          "Belgium",
          "Kenya",
          "Barbados",
          "Peru",
          "Latvia",
          "Ethiopia",
          "Slovakia",
          "Saint Maarten",
          "Netherlands",
          "Rep. of Korea",
          "Canada",
          "Grenada",
          "Serbia",
          "Botswana",
          "Türkiye",
          "Anguilla",
          "Syria",
          "Norway",
          "Uruguay",
          "Zimbabwe",
          "North Macedonia",
          "China, Macao SAR",
          "Greece",
          "Lithuania",
          "Sweden",
          "Qatar",
          "Viet Nam",
          "Germany",
          "Belarus",
          "Bahamas",
          "Indonesia",
          "Guatemala",
          "Jamaica",
          "Armenia",
          "Israel",
          "Chile",
          "Ireland",
          "Saint Kitts and Nevis",
          "Australia",
          "Poland",
          "Eswatini",
          "San Marino",
          "Lebanon",
          "Saint Lucia",
          "Oman",
          "Trinidad and Tobago",
          "Curaçao",
          "Denmark",
          "United Rep. of Tanzania",
          "Dominican Rep.",
          "Nicaragua",
          "Montenegro",
          "El Salvador",
          "Croatia",
          "Colombia",
          "Jordan",
          "Estonia",
          "Cayman Isds",
          "Uzbekistan",
          "Austria",
          "Singapore",
          "Mexico",
          "Saint Vincent and the Grenadines",
          "Bermuda",
          "Saudi Arabia",
          "China, Hong Kong SAR",
          "Burkina Faso",
          "Panama",
          "Malta",
          "Nepal",
          "Romania",
          "Bosnia Herzegovina",
          "Costa Rica",
          "Ukraine"
         ],
         "marker": {
          "colors": [
           "rgb(103,0,31)",
           "rgb(178,24,43)",
           "rgb(214,96,77)",
           "rgb(244,165,130)",
           "rgb(253,219,199)",
           "rgb(247,247,247)",
           "rgb(209,229,240)",
           "rgb(146,197,222)",
           "rgb(67,147,195)",
           "rgb(33,102,172)",
           "rgb(5,48,97)",
           "rgb(103,0,31)",
           "rgb(178,24,43)",
           "rgb(214,96,77)",
           "rgb(244,165,130)",
           "rgb(253,219,199)",
           "rgb(247,247,247)",
           "rgb(209,229,240)",
           "rgb(146,197,222)",
           "rgb(67,147,195)",
           "rgb(33,102,172)",
           "rgb(5,48,97)",
           "rgb(103,0,31)",
           "rgb(178,24,43)",
           "rgb(214,96,77)",
           "rgb(244,165,130)",
           "rgb(253,219,199)",
           "rgb(247,247,247)",
           "rgb(209,229,240)",
           "rgb(146,197,222)",
           "rgb(67,147,195)",
           "rgb(33,102,172)",
           "rgb(5,48,97)",
           "rgb(103,0,31)",
           "rgb(178,24,43)",
           "rgb(214,96,77)",
           "rgb(244,165,130)",
           "rgb(253,219,199)",
           "rgb(247,247,247)",
           "rgb(209,229,240)",
           "rgb(146,197,222)",
           "rgb(67,147,195)",
           "rgb(33,102,172)",
           "rgb(5,48,97)",
           "rgb(103,0,31)",
           "rgb(178,24,43)",
           "rgb(214,96,77)",
           "rgb(244,165,130)",
           "rgb(253,219,199)",
           "rgb(247,247,247)",
           "rgb(209,229,240)",
           "rgb(146,197,222)",
           "rgb(67,147,195)",
           "rgb(33,102,172)",
           "rgb(5,48,97)",
           "rgb(103,0,31)",
           "rgb(178,24,43)",
           "rgb(214,96,77)",
           "rgb(244,165,130)",
           "rgb(253,219,199)",
           "rgb(247,247,247)",
           "rgb(209,229,240)",
           "rgb(146,197,222)",
           "rgb(67,147,195)",
           "rgb(33,102,172)",
           "rgb(5,48,97)",
           "rgb(103,0,31)",
           "rgb(178,24,43)",
           "rgb(214,96,77)",
           "rgb(244,165,130)",
           "rgb(253,219,199)",
           "rgb(247,247,247)",
           "rgb(209,229,240)",
           "rgb(146,197,222)",
           "rgb(67,147,195)",
           "rgb(33,102,172)",
           "rgb(5,48,97)",
           "rgb(103,0,31)",
           "rgb(178,24,43)",
           "rgb(214,96,77)",
           "rgb(244,165,130)",
           "rgb(253,219,199)",
           "rgb(247,247,247)",
           "rgb(209,229,240)",
           "rgb(146,197,222)",
           "rgb(67,147,195)",
           "rgb(33,102,172)",
           "rgb(5,48,97)",
           "rgb(103,0,31)",
           "rgb(178,24,43)",
           "rgb(214,96,77)",
           "rgb(244,165,130)",
           "rgb(253,219,199)",
           "rgb(247,247,247)",
           "rgb(209,229,240)",
           "rgb(146,197,222)",
           "rgb(67,147,195)",
           "rgb(33,102,172)",
           "rgb(5,48,97)",
           "rgb(103,0,31)",
           "rgb(178,24,43)",
           "rgb(214,96,77)",
           "rgb(244,165,130)",
           "rgb(253,219,199)",
           "rgb(247,247,247)",
           "rgb(209,229,240)",
           "rgb(146,197,222)",
           "rgb(67,147,195)",
           "rgb(33,102,172)",
           "rgb(5,48,97)",
           "rgb(103,0,31)",
           "rgb(178,24,43)",
           "rgb(214,96,77)",
           "rgb(244,165,130)",
           "rgb(253,219,199)",
           "rgb(247,247,247)",
           "rgb(209,229,240)",
           "rgb(146,197,222)",
           "rgb(67,147,195)",
           "rgb(33,102,172)",
           "rgb(5,48,97)",
           "rgb(103,0,31)",
           "rgb(178,24,43)",
           "rgb(214,96,77)",
           "rgb(244,165,130)",
           "rgb(253,219,199)",
           "rgb(247,247,247)",
           "rgb(209,229,240)",
           "rgb(146,197,222)",
           "rgb(67,147,195)",
           "rgb(33,102,172)",
           "rgb(5,48,97)",
           "rgb(103,0,31)",
           "rgb(178,24,43)",
           "rgb(214,96,77)",
           "rgb(244,165,130)"
          ]
         },
         "name": "",
         "parents": [
          "",
          "",
          "",
          "",
          "",
          "",
          "",
          "",
          "",
          "",
          "",
          "",
          "",
          "",
          "",
          "",
          "",
          "",
          "",
          "",
          "",
          "",
          "",
          "",
          "",
          "",
          "",
          "",
          "",
          "",
          "",
          "",
          "",
          "",
          "",
          "",
          "",
          "",
          "",
          "",
          "",
          "",
          "",
          "",
          "",
          "",
          "",
          "",
          "",
          "",
          "",
          "",
          "",
          "",
          "",
          "",
          "",
          "",
          "",
          "",
          "",
          "",
          "",
          "",
          "",
          "",
          "",
          "",
          "",
          "",
          "",
          "",
          "",
          "",
          "",
          "",
          "",
          "",
          "",
          "",
          "",
          "",
          "",
          "",
          "",
          "",
          "",
          "",
          "",
          "",
          "",
          "",
          "",
          "",
          "",
          "",
          "",
          "",
          "",
          "",
          "",
          "",
          "",
          "",
          "",
          "",
          "",
          "",
          "",
          "",
          "",
          "",
          "",
          "",
          "",
          "",
          "",
          "",
          "",
          "",
          "",
          "",
          "",
          "",
          "",
          "",
          "",
          "",
          "",
          "",
          "",
          "",
          "",
          "",
          "",
          ""
         ],
         "root": {
          "color": "lightgrey"
         },
         "textfont": {
          "color": "white",
          "size": 15
         },
         "texttemplate": "%{label}<br>%{value} thousand USD<br>%{customdata[0]}%",
         "type": "treemap",
         "values": [
          48983.73,
          7.05,
          39859.05,
          0.06,
          42.9,
          21.24,
          8.06,
          18.77,
          243684.93,
          246727.6,
          2.81,
          125755,
          126.14,
          106754.34,
          449045.47,
          294.92,
          63685.36,
          52.74,
          769.01,
          25.62,
          1127325.59,
          44733.03,
          390438.52,
          71171.96,
          12.69,
          7652.61,
          8802.75,
          592.87,
          500.17,
          3781.64,
          18566.6,
          12.26,
          146890.82,
          16184.2,
          3074.83,
          4025.36,
          3999.47,
          67.83,
          23608.55,
          2.58,
          662.35,
          313.55,
          3886.52,
          104579.01,
          718.38,
          67944.77,
          666.64,
          2900.64,
          483036.06,
          965.49,
          89566.27,
          3994.6,
          1743.9,
          9.74,
          7867.36,
          1.54,
          4536.97,
          95.26,
          109142.97,
          5.06,
          198169.34,
          6534.96,
          12669.99,
          13285.81,
          790.2,
          718762.11,
          504.98,
          19.46,
          380.86,
          69.84,
          56980.2,
          676605.24,
          3918437.22,
          261.59,
          27095.34,
          4.74,
          184001.98,
          15.85,
          2.16,
          8446.65,
          771.73,
          4.35,
          0.35,
          186.98,
          31678.65,
          71596.24,
          17176.92,
          77.43,
          133776.81,
          1004905.17,
          311.5,
          3048.84,
          119118.68,
          2897.47,
          2517.01,
          2340.64,
          32300.8,
          3624596.86,
          3695.91,
          48.27,
          76757.74,
          68618.38,
          3.02,
          5.57,
          97.1,
          1611.81,
          234543.61,
          21.57,
          233.81,
          2079.71,
          255.8,
          22255.06,
          1297.13,
          7.62,
          7391.14,
          87.54,
          8880.44,
          218.95,
          127.98,
          1001.51,
          546.5,
          50196.87,
          23943.86,
          2094028.49,
          279.43,
          262.07,
          37902.12,
          7051.46,
          0.06,
          7514.42,
          4.57,
          308.09,
          144.52,
          3.63,
          9687.02,
          46.26
         ]
        }
       ],
       "layout": {
        "legend": {
         "tracegroupgap": 0
        },
        "margin": {
         "b": 25,
         "l": 25,
         "r": 25,
         "t": 50
        },
        "template": {
         "data": {
          "bar": [
           {
            "error_x": {
             "color": "#2a3f5f"
            },
            "error_y": {
             "color": "#2a3f5f"
            },
            "marker": {
             "line": {
              "color": "#E5ECF6",
              "width": 0.5
             },
             "pattern": {
              "fillmode": "overlay",
              "size": 10,
              "solidity": 0.2
             }
            },
            "type": "bar"
           }
          ],
          "barpolar": [
           {
            "marker": {
             "line": {
              "color": "#E5ECF6",
              "width": 0.5
             },
             "pattern": {
              "fillmode": "overlay",
              "size": 10,
              "solidity": 0.2
             }
            },
            "type": "barpolar"
           }
          ],
          "carpet": [
           {
            "aaxis": {
             "endlinecolor": "#2a3f5f",
             "gridcolor": "white",
             "linecolor": "white",
             "minorgridcolor": "white",
             "startlinecolor": "#2a3f5f"
            },
            "baxis": {
             "endlinecolor": "#2a3f5f",
             "gridcolor": "white",
             "linecolor": "white",
             "minorgridcolor": "white",
             "startlinecolor": "#2a3f5f"
            },
            "type": "carpet"
           }
          ],
          "choropleth": [
           {
            "colorbar": {
             "outlinewidth": 0,
             "ticks": ""
            },
            "type": "choropleth"
           }
          ],
          "contour": [
           {
            "colorbar": {
             "outlinewidth": 0,
             "ticks": ""
            },
            "colorscale": [
             [
              0,
              "#0d0887"
             ],
             [
              0.1111111111111111,
              "#46039f"
             ],
             [
              0.2222222222222222,
              "#7201a8"
             ],
             [
              0.3333333333333333,
              "#9c179e"
             ],
             [
              0.4444444444444444,
              "#bd3786"
             ],
             [
              0.5555555555555556,
              "#d8576b"
             ],
             [
              0.6666666666666666,
              "#ed7953"
             ],
             [
              0.7777777777777778,
              "#fb9f3a"
             ],
             [
              0.8888888888888888,
              "#fdca26"
             ],
             [
              1,
              "#f0f921"
             ]
            ],
            "type": "contour"
           }
          ],
          "contourcarpet": [
           {
            "colorbar": {
             "outlinewidth": 0,
             "ticks": ""
            },
            "type": "contourcarpet"
           }
          ],
          "heatmap": [
           {
            "colorbar": {
             "outlinewidth": 0,
             "ticks": ""
            },
            "colorscale": [
             [
              0,
              "#0d0887"
             ],
             [
              0.1111111111111111,
              "#46039f"
             ],
             [
              0.2222222222222222,
              "#7201a8"
             ],
             [
              0.3333333333333333,
              "#9c179e"
             ],
             [
              0.4444444444444444,
              "#bd3786"
             ],
             [
              0.5555555555555556,
              "#d8576b"
             ],
             [
              0.6666666666666666,
              "#ed7953"
             ],
             [
              0.7777777777777778,
              "#fb9f3a"
             ],
             [
              0.8888888888888888,
              "#fdca26"
             ],
             [
              1,
              "#f0f921"
             ]
            ],
            "type": "heatmap"
           }
          ],
          "heatmapgl": [
           {
            "colorbar": {
             "outlinewidth": 0,
             "ticks": ""
            },
            "colorscale": [
             [
              0,
              "#0d0887"
             ],
             [
              0.1111111111111111,
              "#46039f"
             ],
             [
              0.2222222222222222,
              "#7201a8"
             ],
             [
              0.3333333333333333,
              "#9c179e"
             ],
             [
              0.4444444444444444,
              "#bd3786"
             ],
             [
              0.5555555555555556,
              "#d8576b"
             ],
             [
              0.6666666666666666,
              "#ed7953"
             ],
             [
              0.7777777777777778,
              "#fb9f3a"
             ],
             [
              0.8888888888888888,
              "#fdca26"
             ],
             [
              1,
              "#f0f921"
             ]
            ],
            "type": "heatmapgl"
           }
          ],
          "histogram": [
           {
            "marker": {
             "pattern": {
              "fillmode": "overlay",
              "size": 10,
              "solidity": 0.2
             }
            },
            "type": "histogram"
           }
          ],
          "histogram2d": [
           {
            "colorbar": {
             "outlinewidth": 0,
             "ticks": ""
            },
            "colorscale": [
             [
              0,
              "#0d0887"
             ],
             [
              0.1111111111111111,
              "#46039f"
             ],
             [
              0.2222222222222222,
              "#7201a8"
             ],
             [
              0.3333333333333333,
              "#9c179e"
             ],
             [
              0.4444444444444444,
              "#bd3786"
             ],
             [
              0.5555555555555556,
              "#d8576b"
             ],
             [
              0.6666666666666666,
              "#ed7953"
             ],
             [
              0.7777777777777778,
              "#fb9f3a"
             ],
             [
              0.8888888888888888,
              "#fdca26"
             ],
             [
              1,
              "#f0f921"
             ]
            ],
            "type": "histogram2d"
           }
          ],
          "histogram2dcontour": [
           {
            "colorbar": {
             "outlinewidth": 0,
             "ticks": ""
            },
            "colorscale": [
             [
              0,
              "#0d0887"
             ],
             [
              0.1111111111111111,
              "#46039f"
             ],
             [
              0.2222222222222222,
              "#7201a8"
             ],
             [
              0.3333333333333333,
              "#9c179e"
             ],
             [
              0.4444444444444444,
              "#bd3786"
             ],
             [
              0.5555555555555556,
              "#d8576b"
             ],
             [
              0.6666666666666666,
              "#ed7953"
             ],
             [
              0.7777777777777778,
              "#fb9f3a"
             ],
             [
              0.8888888888888888,
              "#fdca26"
             ],
             [
              1,
              "#f0f921"
             ]
            ],
            "type": "histogram2dcontour"
           }
          ],
          "mesh3d": [
           {
            "colorbar": {
             "outlinewidth": 0,
             "ticks": ""
            },
            "type": "mesh3d"
           }
          ],
          "parcoords": [
           {
            "line": {
             "colorbar": {
              "outlinewidth": 0,
              "ticks": ""
             }
            },
            "type": "parcoords"
           }
          ],
          "pie": [
           {
            "automargin": true,
            "type": "pie"
           }
          ],
          "scatter": [
           {
            "fillpattern": {
             "fillmode": "overlay",
             "size": 10,
             "solidity": 0.2
            },
            "type": "scatter"
           }
          ],
          "scatter3d": [
           {
            "line": {
             "colorbar": {
              "outlinewidth": 0,
              "ticks": ""
             }
            },
            "marker": {
             "colorbar": {
              "outlinewidth": 0,
              "ticks": ""
             }
            },
            "type": "scatter3d"
           }
          ],
          "scattercarpet": [
           {
            "marker": {
             "colorbar": {
              "outlinewidth": 0,
              "ticks": ""
             }
            },
            "type": "scattercarpet"
           }
          ],
          "scattergeo": [
           {
            "marker": {
             "colorbar": {
              "outlinewidth": 0,
              "ticks": ""
             }
            },
            "type": "scattergeo"
           }
          ],
          "scattergl": [
           {
            "marker": {
             "colorbar": {
              "outlinewidth": 0,
              "ticks": ""
             }
            },
            "type": "scattergl"
           }
          ],
          "scattermapbox": [
           {
            "marker": {
             "colorbar": {
              "outlinewidth": 0,
              "ticks": ""
             }
            },
            "type": "scattermapbox"
           }
          ],
          "scatterpolar": [
           {
            "marker": {
             "colorbar": {
              "outlinewidth": 0,
              "ticks": ""
             }
            },
            "type": "scatterpolar"
           }
          ],
          "scatterpolargl": [
           {
            "marker": {
             "colorbar": {
              "outlinewidth": 0,
              "ticks": ""
             }
            },
            "type": "scatterpolargl"
           }
          ],
          "scatterternary": [
           {
            "marker": {
             "colorbar": {
              "outlinewidth": 0,
              "ticks": ""
             }
            },
            "type": "scatterternary"
           }
          ],
          "surface": [
           {
            "colorbar": {
             "outlinewidth": 0,
             "ticks": ""
            },
            "colorscale": [
             [
              0,
              "#0d0887"
             ],
             [
              0.1111111111111111,
              "#46039f"
             ],
             [
              0.2222222222222222,
              "#7201a8"
             ],
             [
              0.3333333333333333,
              "#9c179e"
             ],
             [
              0.4444444444444444,
              "#bd3786"
             ],
             [
              0.5555555555555556,
              "#d8576b"
             ],
             [
              0.6666666666666666,
              "#ed7953"
             ],
             [
              0.7777777777777778,
              "#fb9f3a"
             ],
             [
              0.8888888888888888,
              "#fdca26"
             ],
             [
              1,
              "#f0f921"
             ]
            ],
            "type": "surface"
           }
          ],
          "table": [
           {
            "cells": {
             "fill": {
              "color": "#EBF0F8"
             },
             "line": {
              "color": "white"
             }
            },
            "header": {
             "fill": {
              "color": "#C8D4E3"
             },
             "line": {
              "color": "white"
             }
            },
            "type": "table"
           }
          ]
         },
         "layout": {
          "annotationdefaults": {
           "arrowcolor": "#2a3f5f",
           "arrowhead": 0,
           "arrowwidth": 1
          },
          "autotypenumbers": "strict",
          "coloraxis": {
           "colorbar": {
            "outlinewidth": 0,
            "ticks": ""
           }
          },
          "colorscale": {
           "diverging": [
            [
             0,
             "#8e0152"
            ],
            [
             0.1,
             "#c51b7d"
            ],
            [
             0.2,
             "#de77ae"
            ],
            [
             0.3,
             "#f1b6da"
            ],
            [
             0.4,
             "#fde0ef"
            ],
            [
             0.5,
             "#f7f7f7"
            ],
            [
             0.6,
             "#e6f5d0"
            ],
            [
             0.7,
             "#b8e186"
            ],
            [
             0.8,
             "#7fbc41"
            ],
            [
             0.9,
             "#4d9221"
            ],
            [
             1,
             "#276419"
            ]
           ],
           "sequential": [
            [
             0,
             "#0d0887"
            ],
            [
             0.1111111111111111,
             "#46039f"
            ],
            [
             0.2222222222222222,
             "#7201a8"
            ],
            [
             0.3333333333333333,
             "#9c179e"
            ],
            [
             0.4444444444444444,
             "#bd3786"
            ],
            [
             0.5555555555555556,
             "#d8576b"
            ],
            [
             0.6666666666666666,
             "#ed7953"
            ],
            [
             0.7777777777777778,
             "#fb9f3a"
            ],
            [
             0.8888888888888888,
             "#fdca26"
            ],
            [
             1,
             "#f0f921"
            ]
           ],
           "sequentialminus": [
            [
             0,
             "#0d0887"
            ],
            [
             0.1111111111111111,
             "#46039f"
            ],
            [
             0.2222222222222222,
             "#7201a8"
            ],
            [
             0.3333333333333333,
             "#9c179e"
            ],
            [
             0.4444444444444444,
             "#bd3786"
            ],
            [
             0.5555555555555556,
             "#d8576b"
            ],
            [
             0.6666666666666666,
             "#ed7953"
            ],
            [
             0.7777777777777778,
             "#fb9f3a"
            ],
            [
             0.8888888888888888,
             "#fdca26"
            ],
            [
             1,
             "#f0f921"
            ]
           ]
          },
          "colorway": [
           "#636efa",
           "#EF553B",
           "#00cc96",
           "#ab63fa",
           "#FFA15A",
           "#19d3f3",
           "#FF6692",
           "#B6E880",
           "#FF97FF",
           "#FECB52"
          ],
          "font": {
           "color": "#2a3f5f"
          },
          "geo": {
           "bgcolor": "white",
           "lakecolor": "white",
           "landcolor": "#E5ECF6",
           "showlakes": true,
           "showland": true,
           "subunitcolor": "white"
          },
          "hoverlabel": {
           "align": "left"
          },
          "hovermode": "closest",
          "mapbox": {
           "style": "light"
          },
          "paper_bgcolor": "white",
          "plot_bgcolor": "#E5ECF6",
          "polar": {
           "angularaxis": {
            "gridcolor": "white",
            "linecolor": "white",
            "ticks": ""
           },
           "bgcolor": "#E5ECF6",
           "radialaxis": {
            "gridcolor": "white",
            "linecolor": "white",
            "ticks": ""
           }
          },
          "scene": {
           "xaxis": {
            "backgroundcolor": "#E5ECF6",
            "gridcolor": "white",
            "gridwidth": 2,
            "linecolor": "white",
            "showbackground": true,
            "ticks": "",
            "zerolinecolor": "white"
           },
           "yaxis": {
            "backgroundcolor": "#E5ECF6",
            "gridcolor": "white",
            "gridwidth": 2,
            "linecolor": "white",
            "showbackground": true,
            "ticks": "",
            "zerolinecolor": "white"
           },
           "zaxis": {
            "backgroundcolor": "#E5ECF6",
            "gridcolor": "white",
            "gridwidth": 2,
            "linecolor": "white",
            "showbackground": true,
            "ticks": "",
            "zerolinecolor": "white"
           }
          },
          "shapedefaults": {
           "line": {
            "color": "#2a3f5f"
           }
          },
          "ternary": {
           "aaxis": {
            "gridcolor": "white",
            "linecolor": "white",
            "ticks": ""
           },
           "baxis": {
            "gridcolor": "white",
            "linecolor": "white",
            "ticks": ""
           },
           "bgcolor": "#E5ECF6",
           "caxis": {
            "gridcolor": "white",
            "linecolor": "white",
            "ticks": ""
           }
          },
          "title": {
           "x": 0.05
          },
          "xaxis": {
           "automargin": true,
           "gridcolor": "white",
           "linecolor": "white",
           "ticks": "",
           "title": {
            "standoff": 15
           },
           "zerolinecolor": "white",
           "zerolinewidth": 2
          },
          "yaxis": {
           "automargin": true,
           "gridcolor": "white",
           "linecolor": "white",
           "ticks": "",
           "title": {
            "standoff": 15
           },
           "zerolinecolor": "white",
           "zerolinewidth": 2
          }
         }
        },
        "title": {
         "text": "The Proportion of Copper Related Materials Imports from Countries to China."
        },
        "treemapcolorway": [
         "rgb(103,0,31)",
         "rgb(178,24,43)",
         "rgb(214,96,77)",
         "rgb(244,165,130)",
         "rgb(253,219,199)",
         "rgb(247,247,247)",
         "rgb(209,229,240)",
         "rgb(146,197,222)",
         "rgb(67,147,195)",
         "rgb(33,102,172)",
         "rgb(5,48,97)"
        ]
       }
      }
     },
     "metadata": {},
     "output_type": "display_data"
    },
    {
     "name": "stdout",
     "output_type": "stream",
     "text": [
      " Critical materials type: lithium \n",
      " Total value of imports: 18533498.281000003 thousand USD \n",
      " [9661750.83 3498234.42 1402928.56 1236912.47  421925.79  406948.73\n",
      "  302717.98  216805.23  212644.51  198691.62] \n",
      " ['China' 'Rep. of Korea' 'Germany' 'Japan' 'Poland' 'Hungary' 'Viet Nam'\n",
      " 'Malaysia' 'Mexico' 'Singapore'] \n",
      " percentage: [0.52131285 0.18875198 0.07569691 0.06673929 0.02276558 0.02195747\n",
      " 0.01633356 0.01169802 0.01147352 0.01072068] \n",
      " oveall percentage: 0.9474498485804778\n"
     ]
    },
    {
     "data": {
      "application/vnd.plotly.v1+json": {
       "config": {
        "plotlyServerURL": "https://plot.ly"
       },
       "data": [
        {
         "branchvalues": "total",
         "customdata": [
          [
           0.81,
           "Canada"
          ],
          [
           0.96,
           "Chile"
          ],
          [
           0,
           "Croatia"
          ],
          [
           0,
           "South Africa"
          ],
          [
           0,
           "Panama"
          ],
          [
           0.05,
           "Switzerland"
          ],
          [
           18.88,
           "Rep. of Korea"
          ],
          [
           0,
           "Mali"
          ],
          [
           0,
           "Guatemala"
          ],
          [
           0.02,
           "Slovakia"
          ],
          [
           0,
           "United Arab Emirates"
          ],
          [
           0,
           "United Rep. of Tanzania"
          ],
          [
           0,
           "Sri Lanka"
          ],
          [
           0.01,
           "Greece"
          ],
          [
           0,
           "Lithuania"
          ],
          [
           0.02,
           "Romania"
          ],
          [
           0,
           "Botswana"
          ],
          [
           0.02,
           "Spain"
          ],
          [
           0,
           "Bolivia (Plurinational State of)"
          ],
          [
           0.29,
           "Argentina"
          ],
          [
           0,
           "Colombia"
          ],
          [
           0.01,
           "Ireland"
          ],
          [
           0,
           "Jordan"
          ],
          [
           0,
           "Latvia"
          ],
          [
           0,
           "Oman"
          ],
          [
           2.2,
           "Hungary"
          ],
          [
           0,
           "Ecuador"
          ],
          [
           0.02,
           "Portugal"
          ],
          [
           0,
           "Peru"
          ],
          [
           0,
           "Türkiye"
          ],
          [
           0,
           "Kazakhstan"
          ],
          [
           0.4,
           "United Kingdom"
          ],
          [
           0.09,
           "China, Hong Kong SAR"
          ],
          [
           0,
           "Cameroon"
          ],
          [
           0.06,
           "Austria"
          ],
          [
           0.03,
           "India"
          ],
          [
           1.15,
           "Mexico"
          ],
          [
           0,
           "Bahrain"
          ],
          [
           0.32,
           "Israel"
          ],
          [
           0,
           "El Salvador"
          ],
          [
           0,
           "Cayman Isds"
          ],
          [
           1.07,
           "Singapore"
          ],
          [
           0,
           "Iceland"
          ],
          [
           0,
           "Bulgaria"
          ],
          [
           0,
           "Cyprus"
          ],
          [
           0.05,
           "Sweden"
          ],
          [
           0,
           "Azerbaijan"
          ],
          [
           0.06,
           "Netherlands"
          ],
          [
           0.02,
           "Thailand"
          ],
          [
           0.05,
           "Norway"
          ],
          [
           0,
           "Kenya"
          ],
          [
           0,
           "Malta"
          ],
          [
           0,
           "Luxembourg"
          ],
          [
           1.17,
           "Malaysia"
          ],
          [
           0,
           "Belarus"
          ],
          [
           0.85,
           "Other Asia, nes"
          ],
          [
           0,
           "Montenegro"
          ],
          [
           0.01,
           "Belgium"
          ],
          [
           0,
           "Slovenia"
          ],
          [
           1.63,
           "Viet Nam"
          ],
          [
           0,
           "Costa Rica"
          ],
          [
           0,
           "Iraq"
          ],
          [
           0,
           "Dominican Rep."
          ],
          [
           0.01,
           "Russian Federation"
          ],
          [
           0,
           "Bosnia Herzegovina"
          ],
          [
           0.01,
           "New Zealand"
          ],
          [
           0.15,
           "Philippines"
          ],
          [
           0,
           "Uruguay"
          ],
          [
           0,
           "Namibia"
          ],
          [
           52.13,
           "China"
          ],
          [
           0,
           "Bahamas"
          ],
          [
           0,
           "Estonia"
          ],
          [
           0.17,
           "Australia"
          ],
          [
           0.3,
           "France"
          ],
          [
           0.19,
           "Indonesia"
          ],
          [
           0,
           "Pakistan"
          ],
          [
           0,
           "Bermuda"
          ],
          [
           7.57,
           "Germany"
          ],
          [
           0.06,
           "Italy"
          ],
          [
           0,
           "Kuwait"
          ],
          [
           0,
           "Ethiopia"
          ],
          [
           0,
           "Serbia"
          ],
          [
           0.03,
           "Denmark"
          ],
          [
           0.01,
           "Czechia"
          ],
          [
           0.15,
           "Finland"
          ],
          [
           6.67,
           "Japan"
          ],
          [
           2.28,
           "Poland"
          ],
          [
           0,
           "Jamaica"
          ],
          [
           0.01,
           "Brazil"
          ],
          [
           0,
           "Ukraine"
          ],
          [
           0,
           "Paraguay"
          ],
          [
           0,
           "Barbados"
          ]
         ],
         "domain": {
          "x": [
           0,
           1
          ],
          "y": [
           0,
           1
          ]
         },
         "hovertemplate": "labels=%{label}<br>import_value=%{value}<br>parent=%{parent}<br>id=%{id}<br>percentage=%{customdata[0]}<br>country=%{customdata[1]}<extra></extra>",
         "ids": [
          "Canada",
          "Chile",
          "Croatia",
          "South Africa",
          "Panama",
          "Switzerland",
          "Rep. of Korea",
          "Mali",
          "Guatemala",
          "Slovakia",
          "United Arab Emirates",
          "United Rep. of Tanzania",
          "Sri Lanka",
          "Greece",
          "Lithuania",
          "Romania",
          "Botswana",
          "Spain",
          "Bolivia (Plurinational State of)",
          "Argentina",
          "Colombia",
          "Ireland",
          "Jordan",
          "Latvia",
          "Oman",
          "Hungary",
          "Ecuador",
          "Portugal",
          "Peru",
          "Türkiye",
          "Kazakhstan",
          "United Kingdom",
          "China, Hong Kong SAR",
          "Cameroon",
          "Austria",
          "India",
          "Mexico",
          "Bahrain",
          "Israel",
          "El Salvador",
          "Cayman Isds",
          "Singapore",
          "Iceland",
          "Bulgaria",
          "Cyprus",
          "Sweden",
          "Azerbaijan",
          "Netherlands",
          "Thailand",
          "Norway",
          "Kenya",
          "Malta",
          "Luxembourg",
          "Malaysia",
          "Belarus",
          "Other Asia, nes",
          "Montenegro",
          "Belgium",
          "Slovenia",
          "Viet Nam",
          "Costa Rica",
          "Iraq",
          "Dominican Rep.",
          "Russian Federation",
          "Bosnia Herzegovina",
          "New Zealand",
          "Philippines",
          "Uruguay",
          "Namibia",
          "China",
          "Bahamas",
          "Estonia",
          "Australia",
          "France",
          "Indonesia",
          "Pakistan",
          "Bermuda",
          "Germany",
          "Italy",
          "Kuwait",
          "Ethiopia",
          "Serbia",
          "Denmark",
          "Czechia",
          "Finland",
          "Japan",
          "Poland",
          "Jamaica",
          "Brazil",
          "Ukraine",
          "Paraguay",
          "Barbados"
         ],
         "labels": [
          "Canada",
          "Chile",
          "Croatia",
          "South Africa",
          "Panama",
          "Switzerland",
          "Rep. of Korea",
          "Mali",
          "Guatemala",
          "Slovakia",
          "United Arab Emirates",
          "United Rep. of Tanzania",
          "Sri Lanka",
          "Greece",
          "Lithuania",
          "Romania",
          "Botswana",
          "Spain",
          "Bolivia (Plurinational State of)",
          "Argentina",
          "Colombia",
          "Ireland",
          "Jordan",
          "Latvia",
          "Oman",
          "Hungary",
          "Ecuador",
          "Portugal",
          "Peru",
          "Türkiye",
          "Kazakhstan",
          "United Kingdom",
          "China, Hong Kong SAR",
          "Cameroon",
          "Austria",
          "India",
          "Mexico",
          "Bahrain",
          "Israel",
          "El Salvador",
          "Cayman Isds",
          "Singapore",
          "Iceland",
          "Bulgaria",
          "Cyprus",
          "Sweden",
          "Azerbaijan",
          "Netherlands",
          "Thailand",
          "Norway",
          "Kenya",
          "Malta",
          "Luxembourg",
          "Malaysia",
          "Belarus",
          "Other Asia, nes",
          "Montenegro",
          "Belgium",
          "Slovenia",
          "Viet Nam",
          "Costa Rica",
          "Iraq",
          "Dominican Rep.",
          "Russian Federation",
          "Bosnia Herzegovina",
          "New Zealand",
          "Philippines",
          "Uruguay",
          "Namibia",
          "China",
          "Bahamas",
          "Estonia",
          "Australia",
          "France",
          "Indonesia",
          "Pakistan",
          "Bermuda",
          "Germany",
          "Italy",
          "Kuwait",
          "Ethiopia",
          "Serbia",
          "Denmark",
          "Czechia",
          "Finland",
          "Japan",
          "Poland",
          "Jamaica",
          "Brazil",
          "Ukraine",
          "Paraguay",
          "Barbados"
         ],
         "marker": {
          "colors": [
           "rgb(103,0,31)",
           "rgb(178,24,43)",
           "rgb(214,96,77)",
           "rgb(244,165,130)",
           "rgb(253,219,199)",
           "rgb(247,247,247)",
           "rgb(209,229,240)",
           "rgb(146,197,222)",
           "rgb(67,147,195)",
           "rgb(33,102,172)",
           "rgb(5,48,97)",
           "rgb(103,0,31)",
           "rgb(178,24,43)",
           "rgb(214,96,77)",
           "rgb(244,165,130)",
           "rgb(253,219,199)",
           "rgb(247,247,247)",
           "rgb(209,229,240)",
           "rgb(146,197,222)",
           "rgb(67,147,195)",
           "rgb(33,102,172)",
           "rgb(5,48,97)",
           "rgb(103,0,31)",
           "rgb(178,24,43)",
           "rgb(214,96,77)",
           "rgb(244,165,130)",
           "rgb(253,219,199)",
           "rgb(247,247,247)",
           "rgb(209,229,240)",
           "rgb(146,197,222)",
           "rgb(67,147,195)",
           "rgb(33,102,172)",
           "rgb(5,48,97)",
           "rgb(103,0,31)",
           "rgb(178,24,43)",
           "rgb(214,96,77)",
           "rgb(244,165,130)",
           "rgb(253,219,199)",
           "rgb(247,247,247)",
           "rgb(209,229,240)",
           "rgb(146,197,222)",
           "rgb(67,147,195)",
           "rgb(33,102,172)",
           "rgb(5,48,97)",
           "rgb(103,0,31)",
           "rgb(178,24,43)",
           "rgb(214,96,77)",
           "rgb(244,165,130)",
           "rgb(253,219,199)",
           "rgb(247,247,247)",
           "rgb(209,229,240)",
           "rgb(146,197,222)",
           "rgb(67,147,195)",
           "rgb(33,102,172)",
           "rgb(5,48,97)",
           "rgb(103,0,31)",
           "rgb(178,24,43)",
           "rgb(214,96,77)",
           "rgb(244,165,130)",
           "rgb(253,219,199)",
           "rgb(247,247,247)",
           "rgb(209,229,240)",
           "rgb(146,197,222)",
           "rgb(67,147,195)",
           "rgb(33,102,172)",
           "rgb(5,48,97)",
           "rgb(103,0,31)",
           "rgb(178,24,43)",
           "rgb(214,96,77)",
           "rgb(244,165,130)",
           "rgb(253,219,199)",
           "rgb(247,247,247)",
           "rgb(209,229,240)",
           "rgb(146,197,222)",
           "rgb(67,147,195)",
           "rgb(33,102,172)",
           "rgb(5,48,97)",
           "rgb(103,0,31)",
           "rgb(178,24,43)",
           "rgb(214,96,77)",
           "rgb(244,165,130)",
           "rgb(253,219,199)",
           "rgb(247,247,247)",
           "rgb(209,229,240)",
           "rgb(146,197,222)",
           "rgb(67,147,195)",
           "rgb(33,102,172)",
           "rgb(5,48,97)",
           "rgb(103,0,31)",
           "rgb(178,24,43)",
           "rgb(214,96,77)",
           "rgb(244,165,130)"
          ]
         },
         "name": "",
         "parents": [
          "",
          "",
          "",
          "",
          "",
          "",
          "",
          "",
          "",
          "",
          "",
          "",
          "",
          "",
          "",
          "",
          "",
          "",
          "",
          "",
          "",
          "",
          "",
          "",
          "",
          "",
          "",
          "",
          "",
          "",
          "",
          "",
          "",
          "",
          "",
          "",
          "",
          "",
          "",
          "",
          "",
          "",
          "",
          "",
          "",
          "",
          "",
          "",
          "",
          "",
          "",
          "",
          "",
          "",
          "",
          "",
          "",
          "",
          "",
          "",
          "",
          "",
          "",
          "",
          "",
          "",
          "",
          "",
          "",
          "",
          "",
          "",
          "",
          "",
          "",
          "",
          "",
          "",
          "",
          "",
          "",
          "",
          "",
          "",
          "",
          "",
          "",
          "",
          "",
          "",
          "",
          ""
         ],
         "root": {
          "color": "lightgrey"
         },
         "textfont": {
          "color": "white",
          "size": 15
         },
         "texttemplate": "%{label}<br>%{value} thousand USD<br>%{customdata[0]}%",
         "type": "treemap",
         "values": [
          149512.07,
          178116.15,
          353.22,
          354.81,
          25.24,
          8696.01,
          3498234.42,
          34.72,
          165.05,
          2865.24,
          530.8,
          0.64,
          5.16,
          1612.95,
          347.54,
          2959.14,
          2.72,
          3391.05,
          0.61,
          54568.68,
          640.31,
          1896.21,
          96.35,
          211.59,
          8.92,
          406948.73,
          27.89,
          4587.12,
          126.36,
          527.12,
          1.6,
          74855.38,
          16600.71,
          11.72,
          10668.16,
          5259.99,
          212644.51,
          2.13,
          58862.08,
          1.33,
          3.37,
          198691.62,
          571.62,
          352.82,
          52.65,
          8442.87,
          3.38,
          11624.29,
          3390.64,
          8442.4,
          59.68,
          153.21,
          280.96,
          216805.23,
          254.59,
          158199.01,
          3.39,
          2294.08,
          540.1,
          302717.98,
          389.97,
          5.05,
          23.84,
          1077.38,
          0.05,
          1025.62,
          28434.24,
          28.32,
          0.01,
          9661750.83,
          31.71,
          388.34,
          31255.03,
          54905.93,
          35432.36,
          72.07,
          4.29,
          1402928.56,
          10298.42,
          367.91,
          0.31,
          33.55,
          5302.09,
          2247.5,
          27446.39,
          1236912.47,
          421925.79,
          2.67,
          2533.1,
          24.05,
          0.02,
          12.06
         ]
        }
       ],
       "layout": {
        "legend": {
         "tracegroupgap": 0
        },
        "margin": {
         "b": 25,
         "l": 25,
         "r": 25,
         "t": 50
        },
        "template": {
         "data": {
          "bar": [
           {
            "error_x": {
             "color": "#2a3f5f"
            },
            "error_y": {
             "color": "#2a3f5f"
            },
            "marker": {
             "line": {
              "color": "#E5ECF6",
              "width": 0.5
             },
             "pattern": {
              "fillmode": "overlay",
              "size": 10,
              "solidity": 0.2
             }
            },
            "type": "bar"
           }
          ],
          "barpolar": [
           {
            "marker": {
             "line": {
              "color": "#E5ECF6",
              "width": 0.5
             },
             "pattern": {
              "fillmode": "overlay",
              "size": 10,
              "solidity": 0.2
             }
            },
            "type": "barpolar"
           }
          ],
          "carpet": [
           {
            "aaxis": {
             "endlinecolor": "#2a3f5f",
             "gridcolor": "white",
             "linecolor": "white",
             "minorgridcolor": "white",
             "startlinecolor": "#2a3f5f"
            },
            "baxis": {
             "endlinecolor": "#2a3f5f",
             "gridcolor": "white",
             "linecolor": "white",
             "minorgridcolor": "white",
             "startlinecolor": "#2a3f5f"
            },
            "type": "carpet"
           }
          ],
          "choropleth": [
           {
            "colorbar": {
             "outlinewidth": 0,
             "ticks": ""
            },
            "type": "choropleth"
           }
          ],
          "contour": [
           {
            "colorbar": {
             "outlinewidth": 0,
             "ticks": ""
            },
            "colorscale": [
             [
              0,
              "#0d0887"
             ],
             [
              0.1111111111111111,
              "#46039f"
             ],
             [
              0.2222222222222222,
              "#7201a8"
             ],
             [
              0.3333333333333333,
              "#9c179e"
             ],
             [
              0.4444444444444444,
              "#bd3786"
             ],
             [
              0.5555555555555556,
              "#d8576b"
             ],
             [
              0.6666666666666666,
              "#ed7953"
             ],
             [
              0.7777777777777778,
              "#fb9f3a"
             ],
             [
              0.8888888888888888,
              "#fdca26"
             ],
             [
              1,
              "#f0f921"
             ]
            ],
            "type": "contour"
           }
          ],
          "contourcarpet": [
           {
            "colorbar": {
             "outlinewidth": 0,
             "ticks": ""
            },
            "type": "contourcarpet"
           }
          ],
          "heatmap": [
           {
            "colorbar": {
             "outlinewidth": 0,
             "ticks": ""
            },
            "colorscale": [
             [
              0,
              "#0d0887"
             ],
             [
              0.1111111111111111,
              "#46039f"
             ],
             [
              0.2222222222222222,
              "#7201a8"
             ],
             [
              0.3333333333333333,
              "#9c179e"
             ],
             [
              0.4444444444444444,
              "#bd3786"
             ],
             [
              0.5555555555555556,
              "#d8576b"
             ],
             [
              0.6666666666666666,
              "#ed7953"
             ],
             [
              0.7777777777777778,
              "#fb9f3a"
             ],
             [
              0.8888888888888888,
              "#fdca26"
             ],
             [
              1,
              "#f0f921"
             ]
            ],
            "type": "heatmap"
           }
          ],
          "heatmapgl": [
           {
            "colorbar": {
             "outlinewidth": 0,
             "ticks": ""
            },
            "colorscale": [
             [
              0,
              "#0d0887"
             ],
             [
              0.1111111111111111,
              "#46039f"
             ],
             [
              0.2222222222222222,
              "#7201a8"
             ],
             [
              0.3333333333333333,
              "#9c179e"
             ],
             [
              0.4444444444444444,
              "#bd3786"
             ],
             [
              0.5555555555555556,
              "#d8576b"
             ],
             [
              0.6666666666666666,
              "#ed7953"
             ],
             [
              0.7777777777777778,
              "#fb9f3a"
             ],
             [
              0.8888888888888888,
              "#fdca26"
             ],
             [
              1,
              "#f0f921"
             ]
            ],
            "type": "heatmapgl"
           }
          ],
          "histogram": [
           {
            "marker": {
             "pattern": {
              "fillmode": "overlay",
              "size": 10,
              "solidity": 0.2
             }
            },
            "type": "histogram"
           }
          ],
          "histogram2d": [
           {
            "colorbar": {
             "outlinewidth": 0,
             "ticks": ""
            },
            "colorscale": [
             [
              0,
              "#0d0887"
             ],
             [
              0.1111111111111111,
              "#46039f"
             ],
             [
              0.2222222222222222,
              "#7201a8"
             ],
             [
              0.3333333333333333,
              "#9c179e"
             ],
             [
              0.4444444444444444,
              "#bd3786"
             ],
             [
              0.5555555555555556,
              "#d8576b"
             ],
             [
              0.6666666666666666,
              "#ed7953"
             ],
             [
              0.7777777777777778,
              "#fb9f3a"
             ],
             [
              0.8888888888888888,
              "#fdca26"
             ],
             [
              1,
              "#f0f921"
             ]
            ],
            "type": "histogram2d"
           }
          ],
          "histogram2dcontour": [
           {
            "colorbar": {
             "outlinewidth": 0,
             "ticks": ""
            },
            "colorscale": [
             [
              0,
              "#0d0887"
             ],
             [
              0.1111111111111111,
              "#46039f"
             ],
             [
              0.2222222222222222,
              "#7201a8"
             ],
             [
              0.3333333333333333,
              "#9c179e"
             ],
             [
              0.4444444444444444,
              "#bd3786"
             ],
             [
              0.5555555555555556,
              "#d8576b"
             ],
             [
              0.6666666666666666,
              "#ed7953"
             ],
             [
              0.7777777777777778,
              "#fb9f3a"
             ],
             [
              0.8888888888888888,
              "#fdca26"
             ],
             [
              1,
              "#f0f921"
             ]
            ],
            "type": "histogram2dcontour"
           }
          ],
          "mesh3d": [
           {
            "colorbar": {
             "outlinewidth": 0,
             "ticks": ""
            },
            "type": "mesh3d"
           }
          ],
          "parcoords": [
           {
            "line": {
             "colorbar": {
              "outlinewidth": 0,
              "ticks": ""
             }
            },
            "type": "parcoords"
           }
          ],
          "pie": [
           {
            "automargin": true,
            "type": "pie"
           }
          ],
          "scatter": [
           {
            "fillpattern": {
             "fillmode": "overlay",
             "size": 10,
             "solidity": 0.2
            },
            "type": "scatter"
           }
          ],
          "scatter3d": [
           {
            "line": {
             "colorbar": {
              "outlinewidth": 0,
              "ticks": ""
             }
            },
            "marker": {
             "colorbar": {
              "outlinewidth": 0,
              "ticks": ""
             }
            },
            "type": "scatter3d"
           }
          ],
          "scattercarpet": [
           {
            "marker": {
             "colorbar": {
              "outlinewidth": 0,
              "ticks": ""
             }
            },
            "type": "scattercarpet"
           }
          ],
          "scattergeo": [
           {
            "marker": {
             "colorbar": {
              "outlinewidth": 0,
              "ticks": ""
             }
            },
            "type": "scattergeo"
           }
          ],
          "scattergl": [
           {
            "marker": {
             "colorbar": {
              "outlinewidth": 0,
              "ticks": ""
             }
            },
            "type": "scattergl"
           }
          ],
          "scattermapbox": [
           {
            "marker": {
             "colorbar": {
              "outlinewidth": 0,
              "ticks": ""
             }
            },
            "type": "scattermapbox"
           }
          ],
          "scatterpolar": [
           {
            "marker": {
             "colorbar": {
              "outlinewidth": 0,
              "ticks": ""
             }
            },
            "type": "scatterpolar"
           }
          ],
          "scatterpolargl": [
           {
            "marker": {
             "colorbar": {
              "outlinewidth": 0,
              "ticks": ""
             }
            },
            "type": "scatterpolargl"
           }
          ],
          "scatterternary": [
           {
            "marker": {
             "colorbar": {
              "outlinewidth": 0,
              "ticks": ""
             }
            },
            "type": "scatterternary"
           }
          ],
          "surface": [
           {
            "colorbar": {
             "outlinewidth": 0,
             "ticks": ""
            },
            "colorscale": [
             [
              0,
              "#0d0887"
             ],
             [
              0.1111111111111111,
              "#46039f"
             ],
             [
              0.2222222222222222,
              "#7201a8"
             ],
             [
              0.3333333333333333,
              "#9c179e"
             ],
             [
              0.4444444444444444,
              "#bd3786"
             ],
             [
              0.5555555555555556,
              "#d8576b"
             ],
             [
              0.6666666666666666,
              "#ed7953"
             ],
             [
              0.7777777777777778,
              "#fb9f3a"
             ],
             [
              0.8888888888888888,
              "#fdca26"
             ],
             [
              1,
              "#f0f921"
             ]
            ],
            "type": "surface"
           }
          ],
          "table": [
           {
            "cells": {
             "fill": {
              "color": "#EBF0F8"
             },
             "line": {
              "color": "white"
             }
            },
            "header": {
             "fill": {
              "color": "#C8D4E3"
             },
             "line": {
              "color": "white"
             }
            },
            "type": "table"
           }
          ]
         },
         "layout": {
          "annotationdefaults": {
           "arrowcolor": "#2a3f5f",
           "arrowhead": 0,
           "arrowwidth": 1
          },
          "autotypenumbers": "strict",
          "coloraxis": {
           "colorbar": {
            "outlinewidth": 0,
            "ticks": ""
           }
          },
          "colorscale": {
           "diverging": [
            [
             0,
             "#8e0152"
            ],
            [
             0.1,
             "#c51b7d"
            ],
            [
             0.2,
             "#de77ae"
            ],
            [
             0.3,
             "#f1b6da"
            ],
            [
             0.4,
             "#fde0ef"
            ],
            [
             0.5,
             "#f7f7f7"
            ],
            [
             0.6,
             "#e6f5d0"
            ],
            [
             0.7,
             "#b8e186"
            ],
            [
             0.8,
             "#7fbc41"
            ],
            [
             0.9,
             "#4d9221"
            ],
            [
             1,
             "#276419"
            ]
           ],
           "sequential": [
            [
             0,
             "#0d0887"
            ],
            [
             0.1111111111111111,
             "#46039f"
            ],
            [
             0.2222222222222222,
             "#7201a8"
            ],
            [
             0.3333333333333333,
             "#9c179e"
            ],
            [
             0.4444444444444444,
             "#bd3786"
            ],
            [
             0.5555555555555556,
             "#d8576b"
            ],
            [
             0.6666666666666666,
             "#ed7953"
            ],
            [
             0.7777777777777778,
             "#fb9f3a"
            ],
            [
             0.8888888888888888,
             "#fdca26"
            ],
            [
             1,
             "#f0f921"
            ]
           ],
           "sequentialminus": [
            [
             0,
             "#0d0887"
            ],
            [
             0.1111111111111111,
             "#46039f"
            ],
            [
             0.2222222222222222,
             "#7201a8"
            ],
            [
             0.3333333333333333,
             "#9c179e"
            ],
            [
             0.4444444444444444,
             "#bd3786"
            ],
            [
             0.5555555555555556,
             "#d8576b"
            ],
            [
             0.6666666666666666,
             "#ed7953"
            ],
            [
             0.7777777777777778,
             "#fb9f3a"
            ],
            [
             0.8888888888888888,
             "#fdca26"
            ],
            [
             1,
             "#f0f921"
            ]
           ]
          },
          "colorway": [
           "#636efa",
           "#EF553B",
           "#00cc96",
           "#ab63fa",
           "#FFA15A",
           "#19d3f3",
           "#FF6692",
           "#B6E880",
           "#FF97FF",
           "#FECB52"
          ],
          "font": {
           "color": "#2a3f5f"
          },
          "geo": {
           "bgcolor": "white",
           "lakecolor": "white",
           "landcolor": "#E5ECF6",
           "showlakes": true,
           "showland": true,
           "subunitcolor": "white"
          },
          "hoverlabel": {
           "align": "left"
          },
          "hovermode": "closest",
          "mapbox": {
           "style": "light"
          },
          "paper_bgcolor": "white",
          "plot_bgcolor": "#E5ECF6",
          "polar": {
           "angularaxis": {
            "gridcolor": "white",
            "linecolor": "white",
            "ticks": ""
           },
           "bgcolor": "#E5ECF6",
           "radialaxis": {
            "gridcolor": "white",
            "linecolor": "white",
            "ticks": ""
           }
          },
          "scene": {
           "xaxis": {
            "backgroundcolor": "#E5ECF6",
            "gridcolor": "white",
            "gridwidth": 2,
            "linecolor": "white",
            "showbackground": true,
            "ticks": "",
            "zerolinecolor": "white"
           },
           "yaxis": {
            "backgroundcolor": "#E5ECF6",
            "gridcolor": "white",
            "gridwidth": 2,
            "linecolor": "white",
            "showbackground": true,
            "ticks": "",
            "zerolinecolor": "white"
           },
           "zaxis": {
            "backgroundcolor": "#E5ECF6",
            "gridcolor": "white",
            "gridwidth": 2,
            "linecolor": "white",
            "showbackground": true,
            "ticks": "",
            "zerolinecolor": "white"
           }
          },
          "shapedefaults": {
           "line": {
            "color": "#2a3f5f"
           }
          },
          "ternary": {
           "aaxis": {
            "gridcolor": "white",
            "linecolor": "white",
            "ticks": ""
           },
           "baxis": {
            "gridcolor": "white",
            "linecolor": "white",
            "ticks": ""
           },
           "bgcolor": "#E5ECF6",
           "caxis": {
            "gridcolor": "white",
            "linecolor": "white",
            "ticks": ""
           }
          },
          "title": {
           "x": 0.05
          },
          "xaxis": {
           "automargin": true,
           "gridcolor": "white",
           "linecolor": "white",
           "ticks": "",
           "title": {
            "standoff": 15
           },
           "zerolinecolor": "white",
           "zerolinewidth": 2
          },
          "yaxis": {
           "automargin": true,
           "gridcolor": "white",
           "linecolor": "white",
           "ticks": "",
           "title": {
            "standoff": 15
           },
           "zerolinecolor": "white",
           "zerolinewidth": 2
          }
         }
        },
        "title": {
         "text": "The Proportion of Lithium Related Materials Imports from Countries to China."
        },
        "treemapcolorway": [
         "rgb(103,0,31)",
         "rgb(178,24,43)",
         "rgb(214,96,77)",
         "rgb(244,165,130)",
         "rgb(253,219,199)",
         "rgb(247,247,247)",
         "rgb(209,229,240)",
         "rgb(146,197,222)",
         "rgb(67,147,195)",
         "rgb(33,102,172)",
         "rgb(5,48,97)"
        ]
       }
      }
     },
     "metadata": {},
     "output_type": "display_data"
    },
    {
     "name": "stdout",
     "output_type": "stream",
     "text": [
      " Critical materials type: nickel \n",
      " Total value of imports: 6642088.52 thousand USD \n",
      " [1482781.52  637633.09  549870.25  360523.12  342633.69  331515.12\n",
      "  321508.42  315637.1   280595.9   215371.62] \n",
      " ['Canada' 'Japan' 'Germany' 'United Kingdom' 'Russian Federation' 'Norway'\n",
      " 'Australia' 'China' 'France' 'Finland'] \n",
      " percentage: [0.22324025 0.09599888 0.08278575 0.05427858 0.05158523 0.04991128\n",
      " 0.04840472 0.04752076 0.04224513 0.03242529] \n",
      " oveall percentage: 0.7283958675696781\n"
     ]
    },
    {
     "data": {
      "application/vnd.plotly.v1+json": {
       "config": {
        "plotlyServerURL": "https://plot.ly"
       },
       "data": [
        {
         "branchvalues": "total",
         "customdata": [
          [
           0.71,
           "Singapore"
          ],
          [
           0,
           "Iraq"
          ],
          [
           0,
           "Belarus"
          ],
          [
           0.25,
           "Costa Rica"
          ],
          [
           0.05,
           "Slovakia"
          ],
          [
           0,
           "Slovenia"
          ],
          [
           0,
           "Suriname"
          ],
          [
           0.52,
           "Colombia"
          ],
          [
           0,
           "Malta"
          ],
          [
           5.43,
           "United Kingdom"
          ],
          [
           22.32,
           "Canada"
          ],
          [
           0.01,
           "Jordan"
          ],
          [
           0.34,
           "Spain"
          ],
          [
           0,
           "Afghanistan"
          ],
          [
           0.02,
           "Tunisia"
          ],
          [
           0.01,
           "Nigeria"
          ],
          [
           1.27,
           "Belgium"
          ],
          [
           0,
           "Kazakhstan"
          ],
          [
           0.49,
           "Dominican Rep."
          ],
          [
           0.46,
           "Guatemala"
          ],
          [
           0.01,
           "Pakistan"
          ],
          [
           0,
           "Sri Lanka"
          ],
          [
           0.02,
           "Hungary"
          ],
          [
           0.01,
           "El Salvador"
          ],
          [
           0,
           "Ecuador"
          ],
          [
           0,
           "Trinidad and Tobago"
          ],
          [
           0.02,
           "Romania"
          ],
          [
           0.63,
           "New Caledonia"
          ],
          [
           0.16,
           "Indonesia"
          ],
          [
           0.23,
           "Türkiye"
          ],
          [
           0,
           "Br. Virgin Isds"
          ],
          [
           0.01,
           "Bolivia (Plurinational State of)"
          ],
          [
           4.84,
           "Australia"
          ],
          [
           0,
           "Portugal"
          ],
          [
           0,
           "Egypt"
          ],
          [
           1.37,
           "Rep. of Korea"
          ],
          [
           0.33,
           "Poland"
          ],
          [
           0.56,
           "Madagascar"
          ],
          [
           0,
           "Paraguay"
          ],
          [
           4.75,
           "China"
          ],
          [
           1.32,
           "India"
          ],
          [
           2.22,
           "Sweden"
          ],
          [
           0.27,
           "Malaysia"
          ],
          [
           0.02,
           "Ireland"
          ],
          [
           0,
           "Cambodia"
          ],
          [
           0,
           "Panama"
          ],
          [
           0.13,
           "Argentina"
          ],
          [
           0,
           "Namibia"
          ],
          [
           0.24,
           "Switzerland"
          ],
          [
           2.41,
           "Italy"
          ],
          [
           0,
           "Nicaragua"
          ],
          [
           0,
           "New Zealand"
          ],
          [
           0.41,
           "North Macedonia"
          ],
          [
           0.44,
           "Denmark"
          ],
          [
           0,
           "Greece"
          ],
          [
           5.16,
           "Russian Federation"
          ],
          [
           2.32,
           "Brazil"
          ],
          [
           1.29,
           "Netherlands"
          ],
          [
           0.17,
           "Viet Nam"
          ],
          [
           0.05,
           "China, Hong Kong SAR"
          ],
          [
           0.18,
           "Czechia"
          ],
          [
           0,
           "Serbia"
          ],
          [
           0,
           "Zambia"
          ],
          [
           0.05,
           "United Arab Emirates"
          ],
          [
           0.01,
           "Morocco"
          ],
          [
           0.13,
           "Estonia"
          ],
          [
           0,
           "Bahamas"
          ],
          [
           0,
           "Luxembourg"
          ],
          [
           0,
           "Croatia"
          ],
          [
           2.79,
           "Mexico"
          ],
          [
           0.4,
           "Thailand"
          ],
          [
           2.63,
           "South Africa"
          ],
          [
           8.28,
           "Germany"
          ],
          [
           0.11,
           "Israel"
          ],
          [
           4.22,
           "France"
          ],
          [
           0.03,
           "Saudi Arabia"
          ],
          [
           0,
           "Chile"
          ],
          [
           0,
           "Latvia"
          ],
          [
           0,
           "Azerbaijan"
          ],
          [
           0.09,
           "Kuwait"
          ],
          [
           0.1,
           "Philippines"
          ],
          [
           0,
           "Curaçao"
          ],
          [
           9.6,
           "Japan"
          ],
          [
           0.29,
           "Peru"
          ],
          [
           0.05,
           "Bulgaria"
          ],
          [
           3.24,
           "Finland"
          ],
          [
           0.02,
           "Oman"
          ],
          [
           0.73,
           "Other Asia, nes"
          ],
          [
           0,
           "Cayman Isds"
          ],
          [
           0,
           "Guinea"
          ],
          [
           0,
           "Ethiopia"
          ],
          [
           0,
           "Niger"
          ],
          [
           0,
           "Lithuania"
          ],
          [
           0,
           "Guyana"
          ],
          [
           0,
           "Jamaica"
          ],
          [
           0.77,
           "Austria"
          ],
          [
           4.99,
           "Norway"
          ],
          [
           0,
           "Iceland"
          ],
          [
           0,
           "Uruguay"
          ]
         ],
         "domain": {
          "x": [
           0,
           1
          ],
          "y": [
           0,
           1
          ]
         },
         "hovertemplate": "labels=%{label}<br>import_value=%{value}<br>parent=%{parent}<br>id=%{id}<br>percentage=%{customdata[0]}<br>country=%{customdata[1]}<extra></extra>",
         "ids": [
          "Singapore",
          "Iraq",
          "Belarus",
          "Costa Rica",
          "Slovakia",
          "Slovenia",
          "Suriname",
          "Colombia",
          "Malta",
          "United Kingdom",
          "Canada",
          "Jordan",
          "Spain",
          "Afghanistan",
          "Tunisia",
          "Nigeria",
          "Belgium",
          "Kazakhstan",
          "Dominican Rep.",
          "Guatemala",
          "Pakistan",
          "Sri Lanka",
          "Hungary",
          "El Salvador",
          "Ecuador",
          "Trinidad and Tobago",
          "Romania",
          "New Caledonia",
          "Indonesia",
          "Türkiye",
          "Br. Virgin Isds",
          "Bolivia (Plurinational State of)",
          "Australia",
          "Portugal",
          "Egypt",
          "Rep. of Korea",
          "Poland",
          "Madagascar",
          "Paraguay",
          "China",
          "India",
          "Sweden",
          "Malaysia",
          "Ireland",
          "Cambodia",
          "Panama",
          "Argentina",
          "Namibia",
          "Switzerland",
          "Italy",
          "Nicaragua",
          "New Zealand",
          "North Macedonia",
          "Denmark",
          "Greece",
          "Russian Federation",
          "Brazil",
          "Netherlands",
          "Viet Nam",
          "China, Hong Kong SAR",
          "Czechia",
          "Serbia",
          "Zambia",
          "United Arab Emirates",
          "Morocco",
          "Estonia",
          "Bahamas",
          "Luxembourg",
          "Croatia",
          "Mexico",
          "Thailand",
          "South Africa",
          "Germany",
          "Israel",
          "France",
          "Saudi Arabia",
          "Chile",
          "Latvia",
          "Azerbaijan",
          "Kuwait",
          "Philippines",
          "Curaçao",
          "Japan",
          "Peru",
          "Bulgaria",
          "Finland",
          "Oman",
          "Other Asia, nes",
          "Cayman Isds",
          "Guinea",
          "Ethiopia",
          "Niger",
          "Lithuania",
          "Guyana",
          "Jamaica",
          "Austria",
          "Norway",
          "Iceland",
          "Uruguay"
         ],
         "labels": [
          "Singapore",
          "Iraq",
          "Belarus",
          "Costa Rica",
          "Slovakia",
          "Slovenia",
          "Suriname",
          "Colombia",
          "Malta",
          "United Kingdom",
          "Canada",
          "Jordan",
          "Spain",
          "Afghanistan",
          "Tunisia",
          "Nigeria",
          "Belgium",
          "Kazakhstan",
          "Dominican Rep.",
          "Guatemala",
          "Pakistan",
          "Sri Lanka",
          "Hungary",
          "El Salvador",
          "Ecuador",
          "Trinidad and Tobago",
          "Romania",
          "New Caledonia",
          "Indonesia",
          "Türkiye",
          "Br. Virgin Isds",
          "Bolivia (Plurinational State of)",
          "Australia",
          "Portugal",
          "Egypt",
          "Rep. of Korea",
          "Poland",
          "Madagascar",
          "Paraguay",
          "China",
          "India",
          "Sweden",
          "Malaysia",
          "Ireland",
          "Cambodia",
          "Panama",
          "Argentina",
          "Namibia",
          "Switzerland",
          "Italy",
          "Nicaragua",
          "New Zealand",
          "North Macedonia",
          "Denmark",
          "Greece",
          "Russian Federation",
          "Brazil",
          "Netherlands",
          "Viet Nam",
          "China, Hong Kong SAR",
          "Czechia",
          "Serbia",
          "Zambia",
          "United Arab Emirates",
          "Morocco",
          "Estonia",
          "Bahamas",
          "Luxembourg",
          "Croatia",
          "Mexico",
          "Thailand",
          "South Africa",
          "Germany",
          "Israel",
          "France",
          "Saudi Arabia",
          "Chile",
          "Latvia",
          "Azerbaijan",
          "Kuwait",
          "Philippines",
          "Curaçao",
          "Japan",
          "Peru",
          "Bulgaria",
          "Finland",
          "Oman",
          "Other Asia, nes",
          "Cayman Isds",
          "Guinea",
          "Ethiopia",
          "Niger",
          "Lithuania",
          "Guyana",
          "Jamaica",
          "Austria",
          "Norway",
          "Iceland",
          "Uruguay"
         ],
         "marker": {
          "colors": [
           "rgb(103,0,31)",
           "rgb(178,24,43)",
           "rgb(214,96,77)",
           "rgb(244,165,130)",
           "rgb(253,219,199)",
           "rgb(247,247,247)",
           "rgb(209,229,240)",
           "rgb(146,197,222)",
           "rgb(67,147,195)",
           "rgb(33,102,172)",
           "rgb(5,48,97)",
           "rgb(103,0,31)",
           "rgb(178,24,43)",
           "rgb(214,96,77)",
           "rgb(244,165,130)",
           "rgb(253,219,199)",
           "rgb(247,247,247)",
           "rgb(209,229,240)",
           "rgb(146,197,222)",
           "rgb(67,147,195)",
           "rgb(33,102,172)",
           "rgb(5,48,97)",
           "rgb(103,0,31)",
           "rgb(178,24,43)",
           "rgb(214,96,77)",
           "rgb(244,165,130)",
           "rgb(253,219,199)",
           "rgb(247,247,247)",
           "rgb(209,229,240)",
           "rgb(146,197,222)",
           "rgb(67,147,195)",
           "rgb(33,102,172)",
           "rgb(5,48,97)",
           "rgb(103,0,31)",
           "rgb(178,24,43)",
           "rgb(214,96,77)",
           "rgb(244,165,130)",
           "rgb(253,219,199)",
           "rgb(247,247,247)",
           "rgb(209,229,240)",
           "rgb(146,197,222)",
           "rgb(67,147,195)",
           "rgb(33,102,172)",
           "rgb(5,48,97)",
           "rgb(103,0,31)",
           "rgb(178,24,43)",
           "rgb(214,96,77)",
           "rgb(244,165,130)",
           "rgb(253,219,199)",
           "rgb(247,247,247)",
           "rgb(209,229,240)",
           "rgb(146,197,222)",
           "rgb(67,147,195)",
           "rgb(33,102,172)",
           "rgb(5,48,97)",
           "rgb(103,0,31)",
           "rgb(178,24,43)",
           "rgb(214,96,77)",
           "rgb(244,165,130)",
           "rgb(253,219,199)",
           "rgb(247,247,247)",
           "rgb(209,229,240)",
           "rgb(146,197,222)",
           "rgb(67,147,195)",
           "rgb(33,102,172)",
           "rgb(5,48,97)",
           "rgb(103,0,31)",
           "rgb(178,24,43)",
           "rgb(214,96,77)",
           "rgb(244,165,130)",
           "rgb(253,219,199)",
           "rgb(247,247,247)",
           "rgb(209,229,240)",
           "rgb(146,197,222)",
           "rgb(67,147,195)",
           "rgb(33,102,172)",
           "rgb(5,48,97)",
           "rgb(103,0,31)",
           "rgb(178,24,43)",
           "rgb(214,96,77)",
           "rgb(244,165,130)",
           "rgb(253,219,199)",
           "rgb(247,247,247)",
           "rgb(209,229,240)",
           "rgb(146,197,222)",
           "rgb(67,147,195)",
           "rgb(33,102,172)",
           "rgb(5,48,97)",
           "rgb(103,0,31)",
           "rgb(178,24,43)",
           "rgb(214,96,77)",
           "rgb(244,165,130)",
           "rgb(253,219,199)",
           "rgb(247,247,247)",
           "rgb(209,229,240)",
           "rgb(146,197,222)",
           "rgb(67,147,195)",
           "rgb(33,102,172)",
           "rgb(5,48,97)"
          ]
         },
         "name": "",
         "parents": [
          "",
          "",
          "",
          "",
          "",
          "",
          "",
          "",
          "",
          "",
          "",
          "",
          "",
          "",
          "",
          "",
          "",
          "",
          "",
          "",
          "",
          "",
          "",
          "",
          "",
          "",
          "",
          "",
          "",
          "",
          "",
          "",
          "",
          "",
          "",
          "",
          "",
          "",
          "",
          "",
          "",
          "",
          "",
          "",
          "",
          "",
          "",
          "",
          "",
          "",
          "",
          "",
          "",
          "",
          "",
          "",
          "",
          "",
          "",
          "",
          "",
          "",
          "",
          "",
          "",
          "",
          "",
          "",
          "",
          "",
          "",
          "",
          "",
          "",
          "",
          "",
          "",
          "",
          "",
          "",
          "",
          "",
          "",
          "",
          "",
          "",
          "",
          "",
          "",
          "",
          "",
          "",
          "",
          "",
          "",
          "",
          "",
          "",
          ""
         ],
         "root": {
          "color": "lightgrey"
         },
         "textfont": {
          "color": "white",
          "size": 15
         },
         "texttemplate": "%{label}<br>%{value} thousand USD<br>%{customdata[0]}%",
         "type": "treemap",
         "values": [
          47453.87,
          5.05,
          5.3,
          16738.78,
          3319.74,
          39.38,
          71.84,
          34299.45,
          21.36,
          360523.12,
          1482781.52,
          448.4,
          22599.92,
          12.69,
          1430.02,
          519.33,
          84370.94,
          5.01,
          32540.96,
          30360.29,
          787.08,
          79.94,
          1127.54,
          350.47,
          3.72,
          142.58,
          1513.43,
          41948.73,
          10389.86,
          15156.27,
          2.5,
          929.33,
          321508.42,
          17.69,
          24.81,
          91286.33,
          21741.49,
          36993.68,
          8.87,
          315637.1,
          87508.31,
          147199.72,
          17919.68,
          1111.88,
          6.29,
          3.96,
          8465.04,
          0.01,
          15954.68,
          160142.67,
          0,
          14.61,
          27331.97,
          29426.93,
          30.43,
          342633.69,
          154414.23,
          85607.56,
          11511.86,
          3241.19,
          12129.37,
          37.72,
          0.03,
          3603.4,
          352.22,
          8616.16,
          11.26,
          100.53,
          58.61,
          185138.22,
          26890.66,
          174840.98,
          549870.25,
          6995.95,
          280595.9,
          1837.85,
          106.43,
          145.22,
          11.57,
          6029.3,
          6333.82,
          6.22,
          637633.09,
          19396.47,
          3247.01,
          215371.62,
          1284.1,
          48580.33,
          3.37,
          28.36,
          3.21,
          3.08,
          261.46,
          33.42,
          47.35,
          51115.41,
          331515.12,
          39.98,
          91.95
         ]
        }
       ],
       "layout": {
        "legend": {
         "tracegroupgap": 0
        },
        "margin": {
         "b": 25,
         "l": 25,
         "r": 25,
         "t": 50
        },
        "template": {
         "data": {
          "bar": [
           {
            "error_x": {
             "color": "#2a3f5f"
            },
            "error_y": {
             "color": "#2a3f5f"
            },
            "marker": {
             "line": {
              "color": "#E5ECF6",
              "width": 0.5
             },
             "pattern": {
              "fillmode": "overlay",
              "size": 10,
              "solidity": 0.2
             }
            },
            "type": "bar"
           }
          ],
          "barpolar": [
           {
            "marker": {
             "line": {
              "color": "#E5ECF6",
              "width": 0.5
             },
             "pattern": {
              "fillmode": "overlay",
              "size": 10,
              "solidity": 0.2
             }
            },
            "type": "barpolar"
           }
          ],
          "carpet": [
           {
            "aaxis": {
             "endlinecolor": "#2a3f5f",
             "gridcolor": "white",
             "linecolor": "white",
             "minorgridcolor": "white",
             "startlinecolor": "#2a3f5f"
            },
            "baxis": {
             "endlinecolor": "#2a3f5f",
             "gridcolor": "white",
             "linecolor": "white",
             "minorgridcolor": "white",
             "startlinecolor": "#2a3f5f"
            },
            "type": "carpet"
           }
          ],
          "choropleth": [
           {
            "colorbar": {
             "outlinewidth": 0,
             "ticks": ""
            },
            "type": "choropleth"
           }
          ],
          "contour": [
           {
            "colorbar": {
             "outlinewidth": 0,
             "ticks": ""
            },
            "colorscale": [
             [
              0,
              "#0d0887"
             ],
             [
              0.1111111111111111,
              "#46039f"
             ],
             [
              0.2222222222222222,
              "#7201a8"
             ],
             [
              0.3333333333333333,
              "#9c179e"
             ],
             [
              0.4444444444444444,
              "#bd3786"
             ],
             [
              0.5555555555555556,
              "#d8576b"
             ],
             [
              0.6666666666666666,
              "#ed7953"
             ],
             [
              0.7777777777777778,
              "#fb9f3a"
             ],
             [
              0.8888888888888888,
              "#fdca26"
             ],
             [
              1,
              "#f0f921"
             ]
            ],
            "type": "contour"
           }
          ],
          "contourcarpet": [
           {
            "colorbar": {
             "outlinewidth": 0,
             "ticks": ""
            },
            "type": "contourcarpet"
           }
          ],
          "heatmap": [
           {
            "colorbar": {
             "outlinewidth": 0,
             "ticks": ""
            },
            "colorscale": [
             [
              0,
              "#0d0887"
             ],
             [
              0.1111111111111111,
              "#46039f"
             ],
             [
              0.2222222222222222,
              "#7201a8"
             ],
             [
              0.3333333333333333,
              "#9c179e"
             ],
             [
              0.4444444444444444,
              "#bd3786"
             ],
             [
              0.5555555555555556,
              "#d8576b"
             ],
             [
              0.6666666666666666,
              "#ed7953"
             ],
             [
              0.7777777777777778,
              "#fb9f3a"
             ],
             [
              0.8888888888888888,
              "#fdca26"
             ],
             [
              1,
              "#f0f921"
             ]
            ],
            "type": "heatmap"
           }
          ],
          "heatmapgl": [
           {
            "colorbar": {
             "outlinewidth": 0,
             "ticks": ""
            },
            "colorscale": [
             [
              0,
              "#0d0887"
             ],
             [
              0.1111111111111111,
              "#46039f"
             ],
             [
              0.2222222222222222,
              "#7201a8"
             ],
             [
              0.3333333333333333,
              "#9c179e"
             ],
             [
              0.4444444444444444,
              "#bd3786"
             ],
             [
              0.5555555555555556,
              "#d8576b"
             ],
             [
              0.6666666666666666,
              "#ed7953"
             ],
             [
              0.7777777777777778,
              "#fb9f3a"
             ],
             [
              0.8888888888888888,
              "#fdca26"
             ],
             [
              1,
              "#f0f921"
             ]
            ],
            "type": "heatmapgl"
           }
          ],
          "histogram": [
           {
            "marker": {
             "pattern": {
              "fillmode": "overlay",
              "size": 10,
              "solidity": 0.2
             }
            },
            "type": "histogram"
           }
          ],
          "histogram2d": [
           {
            "colorbar": {
             "outlinewidth": 0,
             "ticks": ""
            },
            "colorscale": [
             [
              0,
              "#0d0887"
             ],
             [
              0.1111111111111111,
              "#46039f"
             ],
             [
              0.2222222222222222,
              "#7201a8"
             ],
             [
              0.3333333333333333,
              "#9c179e"
             ],
             [
              0.4444444444444444,
              "#bd3786"
             ],
             [
              0.5555555555555556,
              "#d8576b"
             ],
             [
              0.6666666666666666,
              "#ed7953"
             ],
             [
              0.7777777777777778,
              "#fb9f3a"
             ],
             [
              0.8888888888888888,
              "#fdca26"
             ],
             [
              1,
              "#f0f921"
             ]
            ],
            "type": "histogram2d"
           }
          ],
          "histogram2dcontour": [
           {
            "colorbar": {
             "outlinewidth": 0,
             "ticks": ""
            },
            "colorscale": [
             [
              0,
              "#0d0887"
             ],
             [
              0.1111111111111111,
              "#46039f"
             ],
             [
              0.2222222222222222,
              "#7201a8"
             ],
             [
              0.3333333333333333,
              "#9c179e"
             ],
             [
              0.4444444444444444,
              "#bd3786"
             ],
             [
              0.5555555555555556,
              "#d8576b"
             ],
             [
              0.6666666666666666,
              "#ed7953"
             ],
             [
              0.7777777777777778,
              "#fb9f3a"
             ],
             [
              0.8888888888888888,
              "#fdca26"
             ],
             [
              1,
              "#f0f921"
             ]
            ],
            "type": "histogram2dcontour"
           }
          ],
          "mesh3d": [
           {
            "colorbar": {
             "outlinewidth": 0,
             "ticks": ""
            },
            "type": "mesh3d"
           }
          ],
          "parcoords": [
           {
            "line": {
             "colorbar": {
              "outlinewidth": 0,
              "ticks": ""
             }
            },
            "type": "parcoords"
           }
          ],
          "pie": [
           {
            "automargin": true,
            "type": "pie"
           }
          ],
          "scatter": [
           {
            "fillpattern": {
             "fillmode": "overlay",
             "size": 10,
             "solidity": 0.2
            },
            "type": "scatter"
           }
          ],
          "scatter3d": [
           {
            "line": {
             "colorbar": {
              "outlinewidth": 0,
              "ticks": ""
             }
            },
            "marker": {
             "colorbar": {
              "outlinewidth": 0,
              "ticks": ""
             }
            },
            "type": "scatter3d"
           }
          ],
          "scattercarpet": [
           {
            "marker": {
             "colorbar": {
              "outlinewidth": 0,
              "ticks": ""
             }
            },
            "type": "scattercarpet"
           }
          ],
          "scattergeo": [
           {
            "marker": {
             "colorbar": {
              "outlinewidth": 0,
              "ticks": ""
             }
            },
            "type": "scattergeo"
           }
          ],
          "scattergl": [
           {
            "marker": {
             "colorbar": {
              "outlinewidth": 0,
              "ticks": ""
             }
            },
            "type": "scattergl"
           }
          ],
          "scattermapbox": [
           {
            "marker": {
             "colorbar": {
              "outlinewidth": 0,
              "ticks": ""
             }
            },
            "type": "scattermapbox"
           }
          ],
          "scatterpolar": [
           {
            "marker": {
             "colorbar": {
              "outlinewidth": 0,
              "ticks": ""
             }
            },
            "type": "scatterpolar"
           }
          ],
          "scatterpolargl": [
           {
            "marker": {
             "colorbar": {
              "outlinewidth": 0,
              "ticks": ""
             }
            },
            "type": "scatterpolargl"
           }
          ],
          "scatterternary": [
           {
            "marker": {
             "colorbar": {
              "outlinewidth": 0,
              "ticks": ""
             }
            },
            "type": "scatterternary"
           }
          ],
          "surface": [
           {
            "colorbar": {
             "outlinewidth": 0,
             "ticks": ""
            },
            "colorscale": [
             [
              0,
              "#0d0887"
             ],
             [
              0.1111111111111111,
              "#46039f"
             ],
             [
              0.2222222222222222,
              "#7201a8"
             ],
             [
              0.3333333333333333,
              "#9c179e"
             ],
             [
              0.4444444444444444,
              "#bd3786"
             ],
             [
              0.5555555555555556,
              "#d8576b"
             ],
             [
              0.6666666666666666,
              "#ed7953"
             ],
             [
              0.7777777777777778,
              "#fb9f3a"
             ],
             [
              0.8888888888888888,
              "#fdca26"
             ],
             [
              1,
              "#f0f921"
             ]
            ],
            "type": "surface"
           }
          ],
          "table": [
           {
            "cells": {
             "fill": {
              "color": "#EBF0F8"
             },
             "line": {
              "color": "white"
             }
            },
            "header": {
             "fill": {
              "color": "#C8D4E3"
             },
             "line": {
              "color": "white"
             }
            },
            "type": "table"
           }
          ]
         },
         "layout": {
          "annotationdefaults": {
           "arrowcolor": "#2a3f5f",
           "arrowhead": 0,
           "arrowwidth": 1
          },
          "autotypenumbers": "strict",
          "coloraxis": {
           "colorbar": {
            "outlinewidth": 0,
            "ticks": ""
           }
          },
          "colorscale": {
           "diverging": [
            [
             0,
             "#8e0152"
            ],
            [
             0.1,
             "#c51b7d"
            ],
            [
             0.2,
             "#de77ae"
            ],
            [
             0.3,
             "#f1b6da"
            ],
            [
             0.4,
             "#fde0ef"
            ],
            [
             0.5,
             "#f7f7f7"
            ],
            [
             0.6,
             "#e6f5d0"
            ],
            [
             0.7,
             "#b8e186"
            ],
            [
             0.8,
             "#7fbc41"
            ],
            [
             0.9,
             "#4d9221"
            ],
            [
             1,
             "#276419"
            ]
           ],
           "sequential": [
            [
             0,
             "#0d0887"
            ],
            [
             0.1111111111111111,
             "#46039f"
            ],
            [
             0.2222222222222222,
             "#7201a8"
            ],
            [
             0.3333333333333333,
             "#9c179e"
            ],
            [
             0.4444444444444444,
             "#bd3786"
            ],
            [
             0.5555555555555556,
             "#d8576b"
            ],
            [
             0.6666666666666666,
             "#ed7953"
            ],
            [
             0.7777777777777778,
             "#fb9f3a"
            ],
            [
             0.8888888888888888,
             "#fdca26"
            ],
            [
             1,
             "#f0f921"
            ]
           ],
           "sequentialminus": [
            [
             0,
             "#0d0887"
            ],
            [
             0.1111111111111111,
             "#46039f"
            ],
            [
             0.2222222222222222,
             "#7201a8"
            ],
            [
             0.3333333333333333,
             "#9c179e"
            ],
            [
             0.4444444444444444,
             "#bd3786"
            ],
            [
             0.5555555555555556,
             "#d8576b"
            ],
            [
             0.6666666666666666,
             "#ed7953"
            ],
            [
             0.7777777777777778,
             "#fb9f3a"
            ],
            [
             0.8888888888888888,
             "#fdca26"
            ],
            [
             1,
             "#f0f921"
            ]
           ]
          },
          "colorway": [
           "#636efa",
           "#EF553B",
           "#00cc96",
           "#ab63fa",
           "#FFA15A",
           "#19d3f3",
           "#FF6692",
           "#B6E880",
           "#FF97FF",
           "#FECB52"
          ],
          "font": {
           "color": "#2a3f5f"
          },
          "geo": {
           "bgcolor": "white",
           "lakecolor": "white",
           "landcolor": "#E5ECF6",
           "showlakes": true,
           "showland": true,
           "subunitcolor": "white"
          },
          "hoverlabel": {
           "align": "left"
          },
          "hovermode": "closest",
          "mapbox": {
           "style": "light"
          },
          "paper_bgcolor": "white",
          "plot_bgcolor": "#E5ECF6",
          "polar": {
           "angularaxis": {
            "gridcolor": "white",
            "linecolor": "white",
            "ticks": ""
           },
           "bgcolor": "#E5ECF6",
           "radialaxis": {
            "gridcolor": "white",
            "linecolor": "white",
            "ticks": ""
           }
          },
          "scene": {
           "xaxis": {
            "backgroundcolor": "#E5ECF6",
            "gridcolor": "white",
            "gridwidth": 2,
            "linecolor": "white",
            "showbackground": true,
            "ticks": "",
            "zerolinecolor": "white"
           },
           "yaxis": {
            "backgroundcolor": "#E5ECF6",
            "gridcolor": "white",
            "gridwidth": 2,
            "linecolor": "white",
            "showbackground": true,
            "ticks": "",
            "zerolinecolor": "white"
           },
           "zaxis": {
            "backgroundcolor": "#E5ECF6",
            "gridcolor": "white",
            "gridwidth": 2,
            "linecolor": "white",
            "showbackground": true,
            "ticks": "",
            "zerolinecolor": "white"
           }
          },
          "shapedefaults": {
           "line": {
            "color": "#2a3f5f"
           }
          },
          "ternary": {
           "aaxis": {
            "gridcolor": "white",
            "linecolor": "white",
            "ticks": ""
           },
           "baxis": {
            "gridcolor": "white",
            "linecolor": "white",
            "ticks": ""
           },
           "bgcolor": "#E5ECF6",
           "caxis": {
            "gridcolor": "white",
            "linecolor": "white",
            "ticks": ""
           }
          },
          "title": {
           "x": 0.05
          },
          "xaxis": {
           "automargin": true,
           "gridcolor": "white",
           "linecolor": "white",
           "ticks": "",
           "title": {
            "standoff": 15
           },
           "zerolinecolor": "white",
           "zerolinewidth": 2
          },
          "yaxis": {
           "automargin": true,
           "gridcolor": "white",
           "linecolor": "white",
           "ticks": "",
           "title": {
            "standoff": 15
           },
           "zerolinecolor": "white",
           "zerolinewidth": 2
          }
         }
        },
        "title": {
         "text": "The Proportion of Nickel Related Materials Imports from Countries to China."
        },
        "treemapcolorway": [
         "rgb(103,0,31)",
         "rgb(178,24,43)",
         "rgb(214,96,77)",
         "rgb(244,165,130)",
         "rgb(253,219,199)",
         "rgb(247,247,247)",
         "rgb(209,229,240)",
         "rgb(146,197,222)",
         "rgb(67,147,195)",
         "rgb(33,102,172)",
         "rgb(5,48,97)"
        ]
       }
      }
     },
     "metadata": {},
     "output_type": "display_data"
    },
    {
     "name": "stdout",
     "output_type": "stream",
     "text": [
      " Critical materials type: cobalt \n",
      " Total value of imports: 627212.484 thousand USD \n",
      " [170807.74  77039.19  73181.97  68966.38  66441.27  26809.32  20793.23\n",
      "  20332.54  19591.74  14994.76] \n",
      " ['Norway' 'United Kingdom' 'Japan' 'Finland' 'Canada' 'Belgium'\n",
      " 'Russian Federation' 'Germany' 'Madagascar' 'China'] \n",
      " percentage: [0.27232835 0.1228279  0.11667811 0.10995696 0.10593104 0.0427436\n",
      " 0.03315181 0.03241731 0.03123621 0.02390699] \n",
      " oveall percentage: 0.8911782757181216\n"
     ]
    },
    {
     "data": {
      "application/vnd.plotly.v1+json": {
       "config": {
        "plotlyServerURL": "https://plot.ly"
       },
       "data": [
        {
         "branchvalues": "total",
         "customdata": [
          [
           0,
           "Hungary"
          ],
          [
           1.97,
           "Morocco"
          ],
          [
           2.39,
           "China"
          ],
          [
           0.05,
           "Mexico"
          ],
          [
           10.59,
           "Canada"
          ],
          [
           0,
           "Denmark"
          ],
          [
           0.67,
           "Zambia"
          ],
          [
           0,
           "Slovakia"
          ],
          [
           0.33,
           "South Africa"
          ],
          [
           0.03,
           "Viet Nam"
          ],
          [
           0.11,
           "Brazil"
          ],
          [
           3.24,
           "Germany"
          ],
          [
           0.02,
           "Costa Rica"
          ],
          [
           0.17,
           "Türkiye"
          ],
          [
           0.04,
           "Malaysia"
          ],
          [
           0,
           "Israel"
          ],
          [
           0.01,
           "United Arab Emirates"
          ],
          [
           0.11,
           "Rep. of Korea"
          ],
          [
           4.27,
           "Belgium"
          ],
          [
           0.02,
           "Czechia"
          ],
          [
           3.32,
           "Russian Federation"
          ],
          [
           0.1,
           "Romania"
          ],
          [
           1.46,
           "France"
          ],
          [
           11,
           "Finland"
          ],
          [
           0.08,
           "Spain"
          ],
          [
           1.34,
           "Australia"
          ],
          [
           0.13,
           "India"
          ],
          [
           0.18,
           "Tunisia"
          ],
          [
           2.26,
           "Netherlands"
          ],
          [
           0.01,
           "New Caledonia"
          ],
          [
           0,
           "Colombia"
          ],
          [
           0,
           "Poland"
          ],
          [
           12.28,
           "United Kingdom"
          ],
          [
           0.05,
           "Italy"
          ],
          [
           27.23,
           "Norway"
          ],
          [
           0.06,
           "Switzerland"
          ],
          [
           1.08,
           "Other Asia, nes"
          ],
          [
           11.67,
           "Japan"
          ],
          [
           3.12,
           "Madagascar"
          ],
          [
           0.01,
           "Sweden"
          ],
          [
           0.11,
           "Austria"
          ],
          [
           0.06,
           "Singapore"
          ],
          [
           0.41,
           "Ireland"
          ]
         ],
         "domain": {
          "x": [
           0,
           1
          ],
          "y": [
           0,
           1
          ]
         },
         "hovertemplate": "labels=%{label}<br>import_value=%{value}<br>parent=%{parent}<br>id=%{id}<br>percentage=%{customdata[0]}<br>country=%{customdata[1]}<extra></extra>",
         "ids": [
          "Hungary",
          "Morocco",
          "China",
          "Mexico",
          "Canada",
          "Denmark",
          "Zambia",
          "Slovakia",
          "South Africa",
          "Viet Nam",
          "Brazil",
          "Germany",
          "Costa Rica",
          "Türkiye",
          "Malaysia",
          "Israel",
          "United Arab Emirates",
          "Rep. of Korea",
          "Belgium",
          "Czechia",
          "Russian Federation",
          "Romania",
          "France",
          "Finland",
          "Spain",
          "Australia",
          "India",
          "Tunisia",
          "Netherlands",
          "New Caledonia",
          "Colombia",
          "Poland",
          "United Kingdom",
          "Italy",
          "Norway",
          "Switzerland",
          "Other Asia, nes",
          "Japan",
          "Madagascar",
          "Sweden",
          "Austria",
          "Singapore",
          "Ireland"
         ],
         "labels": [
          "Hungary",
          "Morocco",
          "China",
          "Mexico",
          "Canada",
          "Denmark",
          "Zambia",
          "Slovakia",
          "South Africa",
          "Viet Nam",
          "Brazil",
          "Germany",
          "Costa Rica",
          "Türkiye",
          "Malaysia",
          "Israel",
          "United Arab Emirates",
          "Rep. of Korea",
          "Belgium",
          "Czechia",
          "Russian Federation",
          "Romania",
          "France",
          "Finland",
          "Spain",
          "Australia",
          "India",
          "Tunisia",
          "Netherlands",
          "New Caledonia",
          "Colombia",
          "Poland",
          "United Kingdom",
          "Italy",
          "Norway",
          "Switzerland",
          "Other Asia, nes",
          "Japan",
          "Madagascar",
          "Sweden",
          "Austria",
          "Singapore",
          "Ireland"
         ],
         "marker": {
          "colors": [
           "rgb(103,0,31)",
           "rgb(178,24,43)",
           "rgb(214,96,77)",
           "rgb(244,165,130)",
           "rgb(253,219,199)",
           "rgb(247,247,247)",
           "rgb(209,229,240)",
           "rgb(146,197,222)",
           "rgb(67,147,195)",
           "rgb(33,102,172)",
           "rgb(5,48,97)",
           "rgb(103,0,31)",
           "rgb(178,24,43)",
           "rgb(214,96,77)",
           "rgb(244,165,130)",
           "rgb(253,219,199)",
           "rgb(247,247,247)",
           "rgb(209,229,240)",
           "rgb(146,197,222)",
           "rgb(67,147,195)",
           "rgb(33,102,172)",
           "rgb(5,48,97)",
           "rgb(103,0,31)",
           "rgb(178,24,43)",
           "rgb(214,96,77)",
           "rgb(244,165,130)",
           "rgb(253,219,199)",
           "rgb(247,247,247)",
           "rgb(209,229,240)",
           "rgb(146,197,222)",
           "rgb(67,147,195)",
           "rgb(33,102,172)",
           "rgb(5,48,97)",
           "rgb(103,0,31)",
           "rgb(178,24,43)",
           "rgb(214,96,77)",
           "rgb(244,165,130)",
           "rgb(253,219,199)",
           "rgb(247,247,247)",
           "rgb(209,229,240)",
           "rgb(146,197,222)",
           "rgb(67,147,195)",
           "rgb(33,102,172)"
          ]
         },
         "name": "",
         "parents": [
          "",
          "",
          "",
          "",
          "",
          "",
          "",
          "",
          "",
          "",
          "",
          "",
          "",
          "",
          "",
          "",
          "",
          "",
          "",
          "",
          "",
          "",
          "",
          "",
          "",
          "",
          "",
          "",
          "",
          "",
          "",
          "",
          "",
          "",
          "",
          "",
          "",
          "",
          "",
          "",
          "",
          "",
          ""
         ],
         "root": {
          "color": "lightgrey"
         },
         "textfont": {
          "color": "white",
          "size": 15
         },
         "texttemplate": "%{label}<br>%{value} thousand USD<br>%{customdata[0]}%",
         "type": "treemap",
         "values": [
          5.46,
          12385.4,
          14994.76,
          282.66,
          66441.27,
          1.11,
          4207.27,
          3.75,
          2050,
          158.99,
          719.07,
          20332.54,
          134.72,
          1063,
          244.17,
          3.75,
          77.46,
          664.81,
          26809.32,
          119.12,
          20793.23,
          643.81,
          9188.08,
          68966.38,
          503,
          8429.69,
          809.09,
          1135.53,
          14148.29,
          92.31,
          0.16,
          10.3,
          77039.19,
          332.22,
          170807.74,
          406.09,
          6758.32,
          73181.97,
          19591.74,
          51.71,
          685.61,
          373.45,
          2565.94
         ]
        }
       ],
       "layout": {
        "legend": {
         "tracegroupgap": 0
        },
        "margin": {
         "b": 25,
         "l": 25,
         "r": 25,
         "t": 50
        },
        "template": {
         "data": {
          "bar": [
           {
            "error_x": {
             "color": "#2a3f5f"
            },
            "error_y": {
             "color": "#2a3f5f"
            },
            "marker": {
             "line": {
              "color": "#E5ECF6",
              "width": 0.5
             },
             "pattern": {
              "fillmode": "overlay",
              "size": 10,
              "solidity": 0.2
             }
            },
            "type": "bar"
           }
          ],
          "barpolar": [
           {
            "marker": {
             "line": {
              "color": "#E5ECF6",
              "width": 0.5
             },
             "pattern": {
              "fillmode": "overlay",
              "size": 10,
              "solidity": 0.2
             }
            },
            "type": "barpolar"
           }
          ],
          "carpet": [
           {
            "aaxis": {
             "endlinecolor": "#2a3f5f",
             "gridcolor": "white",
             "linecolor": "white",
             "minorgridcolor": "white",
             "startlinecolor": "#2a3f5f"
            },
            "baxis": {
             "endlinecolor": "#2a3f5f",
             "gridcolor": "white",
             "linecolor": "white",
             "minorgridcolor": "white",
             "startlinecolor": "#2a3f5f"
            },
            "type": "carpet"
           }
          ],
          "choropleth": [
           {
            "colorbar": {
             "outlinewidth": 0,
             "ticks": ""
            },
            "type": "choropleth"
           }
          ],
          "contour": [
           {
            "colorbar": {
             "outlinewidth": 0,
             "ticks": ""
            },
            "colorscale": [
             [
              0,
              "#0d0887"
             ],
             [
              0.1111111111111111,
              "#46039f"
             ],
             [
              0.2222222222222222,
              "#7201a8"
             ],
             [
              0.3333333333333333,
              "#9c179e"
             ],
             [
              0.4444444444444444,
              "#bd3786"
             ],
             [
              0.5555555555555556,
              "#d8576b"
             ],
             [
              0.6666666666666666,
              "#ed7953"
             ],
             [
              0.7777777777777778,
              "#fb9f3a"
             ],
             [
              0.8888888888888888,
              "#fdca26"
             ],
             [
              1,
              "#f0f921"
             ]
            ],
            "type": "contour"
           }
          ],
          "contourcarpet": [
           {
            "colorbar": {
             "outlinewidth": 0,
             "ticks": ""
            },
            "type": "contourcarpet"
           }
          ],
          "heatmap": [
           {
            "colorbar": {
             "outlinewidth": 0,
             "ticks": ""
            },
            "colorscale": [
             [
              0,
              "#0d0887"
             ],
             [
              0.1111111111111111,
              "#46039f"
             ],
             [
              0.2222222222222222,
              "#7201a8"
             ],
             [
              0.3333333333333333,
              "#9c179e"
             ],
             [
              0.4444444444444444,
              "#bd3786"
             ],
             [
              0.5555555555555556,
              "#d8576b"
             ],
             [
              0.6666666666666666,
              "#ed7953"
             ],
             [
              0.7777777777777778,
              "#fb9f3a"
             ],
             [
              0.8888888888888888,
              "#fdca26"
             ],
             [
              1,
              "#f0f921"
             ]
            ],
            "type": "heatmap"
           }
          ],
          "heatmapgl": [
           {
            "colorbar": {
             "outlinewidth": 0,
             "ticks": ""
            },
            "colorscale": [
             [
              0,
              "#0d0887"
             ],
             [
              0.1111111111111111,
              "#46039f"
             ],
             [
              0.2222222222222222,
              "#7201a8"
             ],
             [
              0.3333333333333333,
              "#9c179e"
             ],
             [
              0.4444444444444444,
              "#bd3786"
             ],
             [
              0.5555555555555556,
              "#d8576b"
             ],
             [
              0.6666666666666666,
              "#ed7953"
             ],
             [
              0.7777777777777778,
              "#fb9f3a"
             ],
             [
              0.8888888888888888,
              "#fdca26"
             ],
             [
              1,
              "#f0f921"
             ]
            ],
            "type": "heatmapgl"
           }
          ],
          "histogram": [
           {
            "marker": {
             "pattern": {
              "fillmode": "overlay",
              "size": 10,
              "solidity": 0.2
             }
            },
            "type": "histogram"
           }
          ],
          "histogram2d": [
           {
            "colorbar": {
             "outlinewidth": 0,
             "ticks": ""
            },
            "colorscale": [
             [
              0,
              "#0d0887"
             ],
             [
              0.1111111111111111,
              "#46039f"
             ],
             [
              0.2222222222222222,
              "#7201a8"
             ],
             [
              0.3333333333333333,
              "#9c179e"
             ],
             [
              0.4444444444444444,
              "#bd3786"
             ],
             [
              0.5555555555555556,
              "#d8576b"
             ],
             [
              0.6666666666666666,
              "#ed7953"
             ],
             [
              0.7777777777777778,
              "#fb9f3a"
             ],
             [
              0.8888888888888888,
              "#fdca26"
             ],
             [
              1,
              "#f0f921"
             ]
            ],
            "type": "histogram2d"
           }
          ],
          "histogram2dcontour": [
           {
            "colorbar": {
             "outlinewidth": 0,
             "ticks": ""
            },
            "colorscale": [
             [
              0,
              "#0d0887"
             ],
             [
              0.1111111111111111,
              "#46039f"
             ],
             [
              0.2222222222222222,
              "#7201a8"
             ],
             [
              0.3333333333333333,
              "#9c179e"
             ],
             [
              0.4444444444444444,
              "#bd3786"
             ],
             [
              0.5555555555555556,
              "#d8576b"
             ],
             [
              0.6666666666666666,
              "#ed7953"
             ],
             [
              0.7777777777777778,
              "#fb9f3a"
             ],
             [
              0.8888888888888888,
              "#fdca26"
             ],
             [
              1,
              "#f0f921"
             ]
            ],
            "type": "histogram2dcontour"
           }
          ],
          "mesh3d": [
           {
            "colorbar": {
             "outlinewidth": 0,
             "ticks": ""
            },
            "type": "mesh3d"
           }
          ],
          "parcoords": [
           {
            "line": {
             "colorbar": {
              "outlinewidth": 0,
              "ticks": ""
             }
            },
            "type": "parcoords"
           }
          ],
          "pie": [
           {
            "automargin": true,
            "type": "pie"
           }
          ],
          "scatter": [
           {
            "fillpattern": {
             "fillmode": "overlay",
             "size": 10,
             "solidity": 0.2
            },
            "type": "scatter"
           }
          ],
          "scatter3d": [
           {
            "line": {
             "colorbar": {
              "outlinewidth": 0,
              "ticks": ""
             }
            },
            "marker": {
             "colorbar": {
              "outlinewidth": 0,
              "ticks": ""
             }
            },
            "type": "scatter3d"
           }
          ],
          "scattercarpet": [
           {
            "marker": {
             "colorbar": {
              "outlinewidth": 0,
              "ticks": ""
             }
            },
            "type": "scattercarpet"
           }
          ],
          "scattergeo": [
           {
            "marker": {
             "colorbar": {
              "outlinewidth": 0,
              "ticks": ""
             }
            },
            "type": "scattergeo"
           }
          ],
          "scattergl": [
           {
            "marker": {
             "colorbar": {
              "outlinewidth": 0,
              "ticks": ""
             }
            },
            "type": "scattergl"
           }
          ],
          "scattermapbox": [
           {
            "marker": {
             "colorbar": {
              "outlinewidth": 0,
              "ticks": ""
             }
            },
            "type": "scattermapbox"
           }
          ],
          "scatterpolar": [
           {
            "marker": {
             "colorbar": {
              "outlinewidth": 0,
              "ticks": ""
             }
            },
            "type": "scatterpolar"
           }
          ],
          "scatterpolargl": [
           {
            "marker": {
             "colorbar": {
              "outlinewidth": 0,
              "ticks": ""
             }
            },
            "type": "scatterpolargl"
           }
          ],
          "scatterternary": [
           {
            "marker": {
             "colorbar": {
              "outlinewidth": 0,
              "ticks": ""
             }
            },
            "type": "scatterternary"
           }
          ],
          "surface": [
           {
            "colorbar": {
             "outlinewidth": 0,
             "ticks": ""
            },
            "colorscale": [
             [
              0,
              "#0d0887"
             ],
             [
              0.1111111111111111,
              "#46039f"
             ],
             [
              0.2222222222222222,
              "#7201a8"
             ],
             [
              0.3333333333333333,
              "#9c179e"
             ],
             [
              0.4444444444444444,
              "#bd3786"
             ],
             [
              0.5555555555555556,
              "#d8576b"
             ],
             [
              0.6666666666666666,
              "#ed7953"
             ],
             [
              0.7777777777777778,
              "#fb9f3a"
             ],
             [
              0.8888888888888888,
              "#fdca26"
             ],
             [
              1,
              "#f0f921"
             ]
            ],
            "type": "surface"
           }
          ],
          "table": [
           {
            "cells": {
             "fill": {
              "color": "#EBF0F8"
             },
             "line": {
              "color": "white"
             }
            },
            "header": {
             "fill": {
              "color": "#C8D4E3"
             },
             "line": {
              "color": "white"
             }
            },
            "type": "table"
           }
          ]
         },
         "layout": {
          "annotationdefaults": {
           "arrowcolor": "#2a3f5f",
           "arrowhead": 0,
           "arrowwidth": 1
          },
          "autotypenumbers": "strict",
          "coloraxis": {
           "colorbar": {
            "outlinewidth": 0,
            "ticks": ""
           }
          },
          "colorscale": {
           "diverging": [
            [
             0,
             "#8e0152"
            ],
            [
             0.1,
             "#c51b7d"
            ],
            [
             0.2,
             "#de77ae"
            ],
            [
             0.3,
             "#f1b6da"
            ],
            [
             0.4,
             "#fde0ef"
            ],
            [
             0.5,
             "#f7f7f7"
            ],
            [
             0.6,
             "#e6f5d0"
            ],
            [
             0.7,
             "#b8e186"
            ],
            [
             0.8,
             "#7fbc41"
            ],
            [
             0.9,
             "#4d9221"
            ],
            [
             1,
             "#276419"
            ]
           ],
           "sequential": [
            [
             0,
             "#0d0887"
            ],
            [
             0.1111111111111111,
             "#46039f"
            ],
            [
             0.2222222222222222,
             "#7201a8"
            ],
            [
             0.3333333333333333,
             "#9c179e"
            ],
            [
             0.4444444444444444,
             "#bd3786"
            ],
            [
             0.5555555555555556,
             "#d8576b"
            ],
            [
             0.6666666666666666,
             "#ed7953"
            ],
            [
             0.7777777777777778,
             "#fb9f3a"
            ],
            [
             0.8888888888888888,
             "#fdca26"
            ],
            [
             1,
             "#f0f921"
            ]
           ],
           "sequentialminus": [
            [
             0,
             "#0d0887"
            ],
            [
             0.1111111111111111,
             "#46039f"
            ],
            [
             0.2222222222222222,
             "#7201a8"
            ],
            [
             0.3333333333333333,
             "#9c179e"
            ],
            [
             0.4444444444444444,
             "#bd3786"
            ],
            [
             0.5555555555555556,
             "#d8576b"
            ],
            [
             0.6666666666666666,
             "#ed7953"
            ],
            [
             0.7777777777777778,
             "#fb9f3a"
            ],
            [
             0.8888888888888888,
             "#fdca26"
            ],
            [
             1,
             "#f0f921"
            ]
           ]
          },
          "colorway": [
           "#636efa",
           "#EF553B",
           "#00cc96",
           "#ab63fa",
           "#FFA15A",
           "#19d3f3",
           "#FF6692",
           "#B6E880",
           "#FF97FF",
           "#FECB52"
          ],
          "font": {
           "color": "#2a3f5f"
          },
          "geo": {
           "bgcolor": "white",
           "lakecolor": "white",
           "landcolor": "#E5ECF6",
           "showlakes": true,
           "showland": true,
           "subunitcolor": "white"
          },
          "hoverlabel": {
           "align": "left"
          },
          "hovermode": "closest",
          "mapbox": {
           "style": "light"
          },
          "paper_bgcolor": "white",
          "plot_bgcolor": "#E5ECF6",
          "polar": {
           "angularaxis": {
            "gridcolor": "white",
            "linecolor": "white",
            "ticks": ""
           },
           "bgcolor": "#E5ECF6",
           "radialaxis": {
            "gridcolor": "white",
            "linecolor": "white",
            "ticks": ""
           }
          },
          "scene": {
           "xaxis": {
            "backgroundcolor": "#E5ECF6",
            "gridcolor": "white",
            "gridwidth": 2,
            "linecolor": "white",
            "showbackground": true,
            "ticks": "",
            "zerolinecolor": "white"
           },
           "yaxis": {
            "backgroundcolor": "#E5ECF6",
            "gridcolor": "white",
            "gridwidth": 2,
            "linecolor": "white",
            "showbackground": true,
            "ticks": "",
            "zerolinecolor": "white"
           },
           "zaxis": {
            "backgroundcolor": "#E5ECF6",
            "gridcolor": "white",
            "gridwidth": 2,
            "linecolor": "white",
            "showbackground": true,
            "ticks": "",
            "zerolinecolor": "white"
           }
          },
          "shapedefaults": {
           "line": {
            "color": "#2a3f5f"
           }
          },
          "ternary": {
           "aaxis": {
            "gridcolor": "white",
            "linecolor": "white",
            "ticks": ""
           },
           "baxis": {
            "gridcolor": "white",
            "linecolor": "white",
            "ticks": ""
           },
           "bgcolor": "#E5ECF6",
           "caxis": {
            "gridcolor": "white",
            "linecolor": "white",
            "ticks": ""
           }
          },
          "title": {
           "x": 0.05
          },
          "xaxis": {
           "automargin": true,
           "gridcolor": "white",
           "linecolor": "white",
           "ticks": "",
           "title": {
            "standoff": 15
           },
           "zerolinecolor": "white",
           "zerolinewidth": 2
          },
          "yaxis": {
           "automargin": true,
           "gridcolor": "white",
           "linecolor": "white",
           "ticks": "",
           "title": {
            "standoff": 15
           },
           "zerolinecolor": "white",
           "zerolinewidth": 2
          }
         }
        },
        "title": {
         "text": "The Proportion of Cobalt Related Materials Imports from Countries to China."
        },
        "treemapcolorway": [
         "rgb(103,0,31)",
         "rgb(178,24,43)",
         "rgb(214,96,77)",
         "rgb(244,165,130)",
         "rgb(253,219,199)",
         "rgb(247,247,247)",
         "rgb(209,229,240)",
         "rgb(146,197,222)",
         "rgb(67,147,195)",
         "rgb(33,102,172)",
         "rgb(5,48,97)"
        ]
       }
      }
     },
     "metadata": {},
     "output_type": "display_data"
    }
   ],
   "source": [
    "import_tree_diagram(CriticalMaterials,all_data_code,country_code,product_code,target_country_name)"
   ]
  },
  {
   "cell_type": "code",
   "execution_count": 88,
   "id": "755f5a33",
   "metadata": {},
   "outputs": [
    {
     "data": {
      "application/vnd.plotly.v1+json": {
       "config": {
        "plotlyServerURL": "https://plot.ly"
       },
       "data": [
        {
         "link": {
          "color": [
           "rgba(255, 105, 180, 0.4)",
           "rgba(255, 105, 180, 0.4)",
           "rgba(255, 105, 180, 0.4)",
           "rgba(255, 105, 180, 0.4)",
           "rgba(255, 105, 180, 0.4)",
           "rgba(255, 105, 180, 0.4)",
           "rgba(255, 105, 180, 0.4)",
           "rgba(255, 105, 180, 0.4)",
           "rgba(255, 105, 180, 0.4)",
           "rgba(255, 105, 180, 0.4)",
           "rgba(255, 105, 180, 0.4)",
           "rgba(255, 105, 180, 0.4)",
           "rgba(255, 105, 180, 0.4)",
           "rgba(255, 105, 180, 0.4)",
           "rgba(255, 105, 180, 0.4)",
           "rgba(255, 105, 180, 0.4)",
           "rgba(255, 105, 180, 0.4)",
           "rgba(255, 105, 180, 0.4)",
           "rgba(255, 105, 180, 0.4)",
           "rgba(255, 105, 180, 0.4)",
           "rgba(255, 105, 180, 0.4)",
           "rgba(255, 105, 180, 0.4)",
           "rgba(255, 105, 180, 0.4)",
           "rgba(255, 105, 180, 0.4)",
           "rgba(255, 105, 180, 0.4)",
           "rgba(255, 105, 180, 0.4)",
           "rgba(255, 105, 180, 0.4)",
           "rgba(255, 105, 180, 0.4)",
           "rgba(255, 105, 180, 0.4)",
           "rgba(255, 105, 180, 0.4)",
           "rgba(255, 105, 180, 0.4)",
           "rgba(255, 105, 180, 0.4)",
           "rgba(255, 105, 180, 0.4)",
           "rgba(255, 105, 180, 0.4)",
           "rgba(255, 105, 180, 0.4)",
           "rgba(255, 105, 180, 0.4)",
           "rgba(255, 105, 180, 0.4)",
           "rgba(255, 105, 180, 0.4)",
           "rgba(255, 105, 180, 0.4)",
           "rgba(255, 105, 180, 0.4)",
           "rgba(255, 105, 180, 0.4)",
           "rgba(255, 105, 180, 0.4)",
           "rgba(255, 105, 180, 0.4)",
           "rgba(255, 105, 180, 0.4)",
           "rgba(255, 105, 180, 0.4)",
           "rgba(255, 105, 180, 0.4)",
           "rgba(255, 105, 180, 0.4)",
           "rgba(255, 105, 180, 0.4)",
           "rgba(255, 105, 180, 0.4)",
           "rgba(255, 105, 180, 0.4)",
           "rgba(255, 105, 180, 0.4)",
           "rgba(255, 105, 180, 0.4)",
           "rgba(255, 105, 180, 0.4)",
           "rgba(255, 105, 180, 0.4)",
           "rgba(255, 105, 180, 0.4)",
           "rgba(255, 105, 180, 0.4)",
           "rgba(255, 105, 180, 0.4)",
           "rgba(255, 105, 180, 0.4)",
           "rgba(255, 105, 180, 0.4)",
           "rgba(255, 105, 180, 0.4)",
           "rgba(255, 105, 180, 0.4)",
           "rgba(255, 105, 180, 0.4)",
           "rgba(255, 105, 180, 0.4)",
           "rgba(255, 105, 180, 0.4)",
           "rgba(255, 105, 180, 0.4)",
           "rgba(255, 105, 180, 0.4)",
           "rgba(255, 105, 180, 0.4)",
           "rgba(255, 105, 180, 0.4)",
           "rgba(255, 105, 180, 0.4)",
           "rgba(255, 105, 180, 0.4)",
           "rgba(255, 105, 180, 0.4)",
           "rgba(255, 105, 180, 0.4)",
           "rgba(255, 105, 180, 0.4)",
           "rgba(255, 105, 180, 0.4)",
           "rgba(255, 105, 180, 0.4)",
           "rgba(255, 105, 180, 0.4)",
           "rgba(255, 105, 180, 0.4)",
           "rgba(255, 105, 180, 0.4)",
           "rgba(255, 105, 180, 0.4)",
           "rgba(255, 105, 180, 0.4)",
           "rgba(255, 105, 180, 0.4)",
           "rgba(255, 105, 180, 0.4)",
           "rgba(255, 105, 180, 0.4)",
           "rgba(255, 105, 180, 0.4)",
           "rgba(255, 105, 180, 0.4)",
           "rgba(255, 105, 180, 0.4)",
           "rgba(255, 105, 180, 0.4)",
           "rgba(255, 105, 180, 0.4)",
           "rgba(255, 105, 180, 0.4)",
           "rgba(255, 105, 180, 0.4)",
           "rgba(255, 105, 180, 0.4)",
           "rgba(255, 105, 180, 0.4)",
           "rgba(255, 105, 180, 0.4)",
           "rgba(255, 105, 180, 0.4)",
           "rgba(255, 105, 180, 0.4)",
           "rgba(255, 105, 180, 0.4)",
           "rgba(255, 105, 180, 0.4)",
           "rgba(255, 105, 180, 0.4)",
           "rgba(255, 105, 180, 0.4)",
           "rgba(255, 105, 180, 0.4)",
           "rgba(255, 105, 180, 0.4)",
           "rgba(255, 105, 180, 0.4)",
           "rgba(255, 105, 180, 0.4)",
           "rgba(255, 105, 180, 0.4)",
           "rgba(255, 105, 180, 0.4)",
           "rgba(255, 105, 180, 0.4)",
           "rgba(255, 105, 180, 0.4)",
           "rgba(255, 105, 180, 0.4)",
           "rgba(255, 105, 180, 0.4)",
           "rgba(255, 105, 180, 0.4)",
           "rgba(255, 105, 180, 0.4)",
           "rgba(255, 105, 180, 0.4)",
           "rgba(255, 105, 180, 0.4)",
           "rgba(255, 105, 180, 0.4)",
           "rgba(255, 105, 180, 0.4)",
           "rgba(255, 105, 180, 0.4)",
           "rgba(255, 105, 180, 0.4)",
           "rgba(255, 105, 180, 0.4)",
           "rgba(255, 105, 180, 0.4)",
           "rgba(255, 105, 180, 0.4)",
           "rgba(255, 105, 180, 0.4)",
           "rgba(255, 105, 180, 0.4)",
           "rgba(255, 105, 180, 0.4)",
           "rgba(255, 105, 180, 0.4)",
           "rgba(255, 105, 180, 0.4)",
           "rgba(255, 105, 180, 0.4)",
           "rgba(255, 105, 180, 0.4)",
           "rgba(255, 105, 180, 0.4)",
           "rgba(255, 105, 180, 0.4)",
           "rgba(255, 105, 180, 0.4)",
           "rgba(255, 105, 180, 0.4)",
           "rgba(255, 105, 180, 0.4)",
           "rgba(255, 105, 180, 0.4)",
           "rgba(255, 105, 180, 0.4)",
           "rgba(255, 105, 180, 0.4)",
           "rgba(255, 105, 180, 0.4)",
           "rgba(255, 105, 180, 0.4)",
           "rgba(255, 105, 180, 0.4)",
           "rgba(255, 105, 180, 0.4)",
           "rgba(255, 105, 180, 0.4)",
           "rgba(255, 105, 180, 0.4)",
           "rgba(255, 105, 180, 0.4)",
           "rgba(255, 105, 180, 0.4)",
           "rgba(255, 105, 180, 0.4)",
           "rgba(255, 105, 180, 0.4)",
           "rgba(255, 105, 180, 0.4)",
           "rgba(255, 105, 180, 0.4)",
           "rgba(255, 105, 180, 0.4)",
           "rgba(255, 105, 180, 0.4)",
           "rgba(184, 115, 51, 0.4)",
           "rgba(184, 115, 51, 0.4)",
           "rgba(184, 115, 51, 0.4)",
           "rgba(184, 115, 51, 0.4)",
           "rgba(184, 115, 51, 0.4)",
           "rgba(184, 115, 51, 0.4)",
           "rgba(184, 115, 51, 0.4)",
           "rgba(184, 115, 51, 0.4)",
           "rgba(184, 115, 51, 0.4)",
           "rgba(184, 115, 51, 0.4)",
           "rgba(184, 115, 51, 0.4)",
           "rgba(184, 115, 51, 0.4)",
           "rgba(184, 115, 51, 0.4)",
           "rgba(184, 115, 51, 0.4)",
           "rgba(184, 115, 51, 0.4)",
           "rgba(184, 115, 51, 0.4)",
           "rgba(184, 115, 51, 0.4)",
           "rgba(184, 115, 51, 0.4)",
           "rgba(184, 115, 51, 0.4)",
           "rgba(184, 115, 51, 0.4)",
           "rgba(184, 115, 51, 0.4)",
           "rgba(184, 115, 51, 0.4)",
           "rgba(184, 115, 51, 0.4)",
           "rgba(184, 115, 51, 0.4)",
           "rgba(184, 115, 51, 0.4)",
           "rgba(184, 115, 51, 0.4)",
           "rgba(184, 115, 51, 0.4)",
           "rgba(184, 115, 51, 0.4)",
           "rgba(184, 115, 51, 0.4)",
           "rgba(184, 115, 51, 0.4)",
           "rgba(184, 115, 51, 0.4)",
           "rgba(184, 115, 51, 0.4)",
           "rgba(184, 115, 51, 0.4)",
           "rgba(184, 115, 51, 0.4)",
           "rgba(184, 115, 51, 0.4)",
           "rgba(184, 115, 51, 0.4)",
           "rgba(184, 115, 51, 0.4)",
           "rgba(184, 115, 51, 0.4)",
           "rgba(184, 115, 51, 0.4)",
           "rgba(184, 115, 51, 0.4)",
           "rgba(184, 115, 51, 0.4)",
           "rgba(184, 115, 51, 0.4)",
           "rgba(184, 115, 51, 0.4)",
           "rgba(184, 115, 51, 0.4)",
           "rgba(184, 115, 51, 0.4)",
           "rgba(184, 115, 51, 0.4)",
           "rgba(184, 115, 51, 0.4)",
           "rgba(184, 115, 51, 0.4)",
           "rgba(184, 115, 51, 0.4)",
           "rgba(184, 115, 51, 0.4)",
           "rgba(184, 115, 51, 0.4)",
           "rgba(184, 115, 51, 0.4)",
           "rgba(184, 115, 51, 0.4)",
           "rgba(184, 115, 51, 0.4)",
           "rgba(184, 115, 51, 0.4)",
           "rgba(184, 115, 51, 0.4)",
           "rgba(184, 115, 51, 0.4)",
           "rgba(184, 115, 51, 0.4)",
           "rgba(184, 115, 51, 0.4)",
           "rgba(184, 115, 51, 0.4)",
           "rgba(184, 115, 51, 0.4)",
           "rgba(184, 115, 51, 0.4)",
           "rgba(184, 115, 51, 0.4)",
           "rgba(184, 115, 51, 0.4)",
           "rgba(184, 115, 51, 0.4)",
           "rgba(184, 115, 51, 0.4)",
           "rgba(184, 115, 51, 0.4)",
           "rgba(184, 115, 51, 0.4)",
           "rgba(184, 115, 51, 0.4)",
           "rgba(184, 115, 51, 0.4)",
           "rgba(255, 105, 180, 0.4)",
           "rgba(184, 115, 51, 0.4)",
           "rgba(0, 71, 171, 0.4)",
           "rgba(176, 176, 176, 0.4)"
          ],
          "source": [
           0,
           1,
           2,
           3,
           4,
           5,
           6,
           7,
           8,
           9,
           10,
           11,
           12,
           13,
           14,
           15,
           16,
           17,
           18,
           19,
           20,
           21,
           22,
           23,
           24,
           25,
           26,
           27,
           28,
           29,
           30,
           31,
           32,
           33,
           34,
           35,
           36,
           37,
           38,
           39,
           40,
           41,
           42,
           43,
           44,
           45,
           46,
           47,
           48,
           49,
           50,
           51,
           52,
           53,
           54,
           55,
           56,
           57,
           58,
           59,
           60,
           61,
           62,
           63,
           64,
           65,
           66,
           67,
           68,
           69,
           70,
           71,
           72,
           73,
           74,
           75,
           76,
           77,
           78,
           79,
           80,
           81,
           82,
           83,
           84,
           85,
           86,
           87,
           88,
           89,
           90,
           91,
           92,
           93,
           94,
           95,
           96,
           97,
           98,
           99,
           100,
           101,
           102,
           103,
           104,
           105,
           106,
           107,
           108,
           109,
           110,
           111,
           112,
           113,
           114,
           115,
           116,
           117,
           118,
           119,
           120,
           121,
           122,
           123,
           124,
           125,
           126,
           127,
           128,
           129,
           130,
           131,
           132,
           133,
           134,
           135,
           136,
           137,
           138,
           139,
           140,
           141,
           142,
           143,
           144,
           145,
           146,
           147,
           148,
           0,
           3,
           8,
           24,
           38,
           4,
           28,
           108,
           35,
           6,
           9,
           13,
           46,
           29,
           18,
           73,
           40,
           70,
           53,
           61,
           31,
           15,
           67,
           7,
           26,
           44,
           30,
           74,
           51,
           17,
           16,
           32,
           14,
           93,
           11,
           59,
           19,
           72,
           37,
           94,
           36,
           54,
           115,
           66,
           20,
           114,
           109,
           23,
           65,
           97,
           48,
           88,
           111,
           131,
           63,
           128,
           117,
           133,
           138,
           58,
           91,
           96,
           105,
           125,
           50,
           12,
           1,
           39,
           84,
           101,
           149,
           150
          ],
          "target": [
           149,
           149,
           149,
           149,
           149,
           149,
           149,
           149,
           149,
           149,
           149,
           149,
           149,
           149,
           149,
           149,
           149,
           149,
           149,
           149,
           149,
           149,
           149,
           149,
           149,
           149,
           149,
           149,
           149,
           149,
           149,
           149,
           149,
           149,
           149,
           149,
           149,
           149,
           149,
           149,
           149,
           149,
           149,
           149,
           149,
           149,
           149,
           149,
           149,
           149,
           149,
           149,
           149,
           149,
           149,
           149,
           149,
           149,
           149,
           149,
           149,
           149,
           149,
           149,
           149,
           149,
           149,
           149,
           149,
           149,
           149,
           149,
           149,
           149,
           149,
           149,
           149,
           149,
           149,
           149,
           149,
           149,
           149,
           149,
           149,
           149,
           149,
           149,
           149,
           149,
           149,
           149,
           149,
           149,
           149,
           149,
           149,
           149,
           149,
           149,
           149,
           149,
           149,
           149,
           149,
           149,
           149,
           149,
           149,
           149,
           149,
           149,
           149,
           149,
           149,
           149,
           149,
           149,
           149,
           149,
           149,
           149,
           149,
           149,
           149,
           149,
           149,
           149,
           149,
           149,
           149,
           149,
           149,
           149,
           149,
           149,
           149,
           149,
           149,
           149,
           149,
           149,
           149,
           149,
           149,
           149,
           149,
           149,
           149,
           150,
           150,
           150,
           150,
           150,
           150,
           150,
           150,
           150,
           150,
           150,
           150,
           150,
           150,
           150,
           150,
           150,
           150,
           150,
           150,
           150,
           150,
           150,
           150,
           150,
           150,
           150,
           150,
           150,
           150,
           150,
           150,
           150,
           150,
           150,
           150,
           150,
           150,
           150,
           150,
           150,
           150,
           150,
           150,
           150,
           150,
           150,
           150,
           150,
           150,
           150,
           150,
           150,
           150,
           150,
           150,
           150,
           150,
           150,
           150,
           150,
           150,
           150,
           150,
           150,
           150,
           150,
           150,
           150,
           150,
           151,
           151
          ],
          "value": [
           24833.58241,
           11687.46468,
           8556.5113,
           5740.855320000001,
           5244.530309999999,
           4389.81166,
           3646.1013399999997,
           3424.5826,
           3154.19886,
           2861.85951,
           2823.7026499999997,
           2820.89065,
           2793.33888,
           2570.0605499999997,
           1685.99542,
           1522.3746,
           1500.42801,
           1388.16274,
           1267.32694,
           1195.43336,
           1047.87154,
           1043.8014699999999,
           1035.0943,
           938.65,
           867.99489,
           697.5629200000001,
           692.05249,
           669.21929,
           593.4451899999999,
           536.7674599999999,
           491.19982,
           436.15751,
           387.42933,
           387.24739,
           375.42524,
           333.71085,
           320.35254,
           317.56875,
           316.65802,
           295.53408,
           289.92791,
           281.72335,
           257.60822,
           198.66355,
           186.46498,
           175.49566000000002,
           172.78162,
           137.99314999999999,
           121.84914,
           121.1622,
           118.59437,
           118.14882,
           117.40974,
           105.32579,
           104.79692999999999,
           94.54406,
           70.28178,
           70.2718,
           63.95578,
           61.10967,
           60.118,
           55.98369,
           46.16052,
           46.03962,
           43.76817,
           41.5676,
           38.891529999999996,
           38.368050000000004,
           30.915650000000003,
           30.02241,
           29.06598,
           28.19351,
           27.815189999999998,
           26.1674,
           24.27853,
           20.99939,
           16.88769,
           16.640759999999997,
           16.08591,
           13.442290000000002,
           13.27727,
           12.020370000000002,
           11.20796,
           11.169649999999999,
           10.95226,
           10.55804,
           10.274479999999999,
           9.772219999999999,
           9.726659999999999,
           8.420549999999999,
           8.33867,
           8.01642,
           7.7314300000000005,
           7.60888,
           5.64386,
           5.3848400000000005,
           5.12856,
           4.9075,
           4.8746,
           4.864739999999999,
           4.63504,
           4.60951,
           4.31161,
           3.67665,
           3.5686,
           3.1233400000000002,
           3.09884,
           3.03478,
           2.6999899999999997,
           2.22452,
           1.9563,
           1.91714,
           1.8921700000000001,
           1.5993499999999998,
           0.9747100000000001,
           0.95668,
           0.91055,
           0.8563200000000001,
           0.82556,
           0.79298,
           0.7192000000000001,
           0.58374,
           0.55838,
           0.39794,
           0.38399,
           0.30101999999999995,
           0.28557,
           0.27097000000000004,
           0.22488,
           0.22028,
           0.21450999999999998,
           0.20364,
           0.20178000000000001,
           0.20042,
           0.16522,
           0.16274,
           0.12190000000000001,
           0.08795,
           0.02649,
           0.013519999999999999,
           0.007,
           0.00216,
           0.00035999999999999997,
           0.00028000000000000003,
           0.0002,
           0.00011999999999999999,
           0.000059999999999999995,
           0.00005,
           0.000029999999999999997,
           5806.14645,
           720.90516,
           531.46075,
           516.4846699999999,
           495.00611,
           362.31253000000004,
           290.9529,
           249.45653,
           120.81053,
           103.76366,
           89.60221,
           86.06927999999999,
           53.42101,
           52.757349999999995,
           17.20352,
           16.38703,
           11.67823,
           10.443670000000001,
           9.44685,
           7.664899999999999,
           6.5947700000000005,
           5.5069799999999995,
           5.23687,
           5.1698699999999995,
           4.508439999999999,
           4.310689999999999,
           4.162,
           3.7457399999999996,
           3.63086,
           3.50371,
           3.22342,
           3.0881999999999996,
           1.59802,
           1.33482,
           1.2704900000000001,
           1.14702,
           1.06702,
           0.95836,
           0.55562,
           0.37733999999999995,
           0.29335,
           0.28808999999999996,
           0.27194999999999997,
           0.26000999999999996,
           0.20673,
           0.11009999999999999,
           0.10656,
           0.07909999999999999,
           0.05588,
           0.05107,
           0.04315,
           0.03203,
           0.02125,
           0.01992,
           0.01157,
           0.0076,
           0.005719999999999999,
           0.0054800000000000005,
           0.00445,
           0.00333,
           0.00317,
           0.00285,
           0.00198,
           0.0016,
           0.00094,
           0.00045,
           0.0003,
           0.00007000000000000001,
           0.000059999999999999995,
           0.00005,
           108633.37328,
           9614.85239
          ]
         },
         "node": {
          "color": [
           "#D3D3D3",
           "#D3D3D3",
           "#D3D3D3",
           "#D3D3D3",
           "#D3D3D3",
           "#D3D3D3",
           "#D3D3D3",
           "#D3D3D3",
           "#D3D3D3",
           "#D3D3D3",
           "#D3D3D3",
           "#D3D3D3",
           "#D3D3D3",
           "#D3D3D3",
           "#D3D3D3",
           "#D3D3D3",
           "#D3D3D3",
           "#D3D3D3",
           "#D3D3D3",
           "#D3D3D3",
           "#D3D3D3",
           "#D3D3D3",
           "#D3D3D3",
           "#D3D3D3",
           "#D3D3D3",
           "#D3D3D3",
           "#D3D3D3",
           "#D3D3D3",
           "#D3D3D3",
           "#D3D3D3",
           "#D3D3D3",
           "#D3D3D3",
           "#D3D3D3",
           "#D3D3D3",
           "#D3D3D3",
           "#D3D3D3",
           "#D3D3D3",
           "#D3D3D3",
           "#D3D3D3",
           "#D3D3D3",
           "#D3D3D3",
           "#D3D3D3",
           "#D3D3D3",
           "#D3D3D3",
           "#D3D3D3",
           "#D3D3D3",
           "#D3D3D3",
           "#D3D3D3",
           "#D3D3D3",
           "#D3D3D3",
           "#D3D3D3",
           "#D3D3D3",
           "#D3D3D3",
           "#D3D3D3",
           "#D3D3D3",
           "#D3D3D3",
           "#D3D3D3",
           "#D3D3D3",
           "#D3D3D3",
           "#D3D3D3",
           "#D3D3D3",
           "#D3D3D3",
           "#D3D3D3",
           "#D3D3D3",
           "#D3D3D3",
           "#D3D3D3",
           "#D3D3D3",
           "#D3D3D3",
           "#D3D3D3",
           "#D3D3D3",
           "#D3D3D3",
           "#D3D3D3",
           "#D3D3D3",
           "#D3D3D3",
           "#D3D3D3",
           "#D3D3D3",
           "#D3D3D3",
           "#D3D3D3",
           "#D3D3D3",
           "#D3D3D3",
           "#D3D3D3",
           "#D3D3D3",
           "#D3D3D3",
           "#D3D3D3",
           "#D3D3D3",
           "#D3D3D3",
           "#D3D3D3",
           "#D3D3D3",
           "#D3D3D3",
           "#D3D3D3",
           "#D3D3D3",
           "#D3D3D3",
           "#D3D3D3",
           "#D3D3D3",
           "#D3D3D3",
           "#D3D3D3",
           "#D3D3D3",
           "#D3D3D3",
           "#D3D3D3",
           "#D3D3D3",
           "#D3D3D3",
           "#D3D3D3",
           "#D3D3D3",
           "#D3D3D3",
           "#D3D3D3",
           "#D3D3D3",
           "#D3D3D3",
           "#D3D3D3",
           "#D3D3D3",
           "#D3D3D3",
           "#D3D3D3",
           "#D3D3D3",
           "#D3D3D3",
           "#D3D3D3",
           "#D3D3D3",
           "#D3D3D3",
           "#D3D3D3",
           "#D3D3D3",
           "#D3D3D3",
           "#D3D3D3",
           "#D3D3D3",
           "#D3D3D3",
           "#D3D3D3",
           "#D3D3D3",
           "#D3D3D3",
           "#D3D3D3",
           "#D3D3D3",
           "#D3D3D3",
           "#D3D3D3",
           "#D3D3D3",
           "#D3D3D3",
           "#D3D3D3",
           "#D3D3D3",
           "#D3D3D3",
           "#D3D3D3",
           "#D3D3D3",
           "#D3D3D3",
           "#D3D3D3",
           "#D3D3D3",
           "#D3D3D3",
           "#D3D3D3",
           "#D3D3D3",
           "#D3D3D3",
           "#D3D3D3",
           "#D3D3D3",
           "#D3D3D3",
           "#D3D3D3",
           "#D3D3D3",
           "#D3D3D3",
           "#FF69B4",
           "#B87333",
           "#0047AB",
           "#B0B0B0",
           "#d62728"
          ],
          "label": [
           "Chile",
           "Peru",
           "Dem. Rep. of the Congo",
           "Rep. of Korea",
           "Japan",
           "Kazakhstan",
           "USA",
           "Russian Federation",
           "Malaysia",
           "Other Asia, nes",
           "Mongolia",
           "Mexico",
           "Zambia",
           "Indonesia",
           "Australia",
           "Thailand",
           "Spain",
           "Canada",
           "Philippines",
           "Pakistan",
           "Serbia",
           "Panama",
           "Ecuador",
           "South Africa",
           "Germany",
           "Iran",
           "India",
           "Saudi Arabia",
           "Poland",
           "United Kingdom",
           "Brazil",
           "United Arab Emirates",
           "Italy",
           "Lao People's Dem. Rep.",
           "Uzbekistan",
           "Viet Nam",
           "Bulgaria",
           "Türkiye",
           "Singapore",
           "Armenia",
           "Netherlands",
           "Botswana",
           "Colombia",
           "Congo",
           "Belgium",
           "Eritrea",
           "France",
           "Morocco",
           "United Rep. of Tanzania",
           "Qatar",
           "Portugal",
           "Nigeria",
           "Mauritania",
           "Finland",
           "Romania",
           "Venezuela",
           "Namibia",
           "Cambodia",
           "Luxembourg",
           "Sweden",
           "Myanmar",
           "Norway",
           "Dominican Rep.",
           "Latvia",
           "Georgia",
           "Lithuania",
           "New Zealand",
           "Switzerland",
           "Egypt",
           "Lebanon",
           "Israel",
           "Ukraine",
           "Czechia",
           "Hungary",
           "Bolivia (Plurinational State of)",
           "Angola",
           "Mauritius",
           "Albania",
           "Cameroon",
           "Yemen",
           "Algeria",
           "Ghana",
           "Belarus",
           "Bangladesh",
           "Jordan",
           "Gabon",
           "Honduras",
           "Mozambique",
           "Slovakia",
           "Tunisia",
           "Kenya",
           "Costa Rica",
           "Paraguay",
           "Austria",
           "Denmark",
           "Trinidad and Tobago",
           "Bahrain",
           "Greece",
           "Madagascar",
           "Kuwait",
           "Nicaragua",
           "Oman",
           "Cuba",
           "Guatemala",
           "Togo",
           "Kyrgyzstan",
           "Uruguay",
           "Côte d'Ivoire",
           "Argentina",
           "Estonia",
           "Ethiopia",
           "Guinea",
           "Sri Lanka",
           "El Salvador",
           "Jamaica",
           "Ireland",
           "Sudan",
           "Slovenia",
           "Senegal",
           "Azerbaijan",
           "Rwanda",
           "Haiti",
           "Sierra Leone",
           "Benin",
           "Nepal",
           "Niger",
           "Aruba",
           "Guyana",
           "Croatia",
           "Liberia",
           "Solomon Isds",
           "Zimbabwe",
           "Somalia",
           "Cyprus",
           "Brunei Darussalam",
           "Papua New Guinea",
           "Dominica",
           "Antigua and Barbuda",
           "Malta",
           "North Macedonia",
           "Burundi",
           "Afghanistan",
           "Gambia",
           "Montenegro",
           "Syria",
           "Fiji",
           "Iceland",
           "Samoa",
           "Djibouti",
           "Copper Related Materials",
           "Lithium Related Materials",
           "China"
          ],
          "line": {
           "color": "black",
           "width": 0.5
          },
          "pad": 10,
          "thickness": 20
         },
         "type": "sankey",
         "valueformat": ".0f",
         "valuesuffix": " million USD"
        }
       ],
       "layout": {
        "font": {
         "size": 10
        },
        "template": {
         "data": {
          "bar": [
           {
            "error_x": {
             "color": "#2a3f5f"
            },
            "error_y": {
             "color": "#2a3f5f"
            },
            "marker": {
             "line": {
              "color": "#E5ECF6",
              "width": 0.5
             },
             "pattern": {
              "fillmode": "overlay",
              "size": 10,
              "solidity": 0.2
             }
            },
            "type": "bar"
           }
          ],
          "barpolar": [
           {
            "marker": {
             "line": {
              "color": "#E5ECF6",
              "width": 0.5
             },
             "pattern": {
              "fillmode": "overlay",
              "size": 10,
              "solidity": 0.2
             }
            },
            "type": "barpolar"
           }
          ],
          "carpet": [
           {
            "aaxis": {
             "endlinecolor": "#2a3f5f",
             "gridcolor": "white",
             "linecolor": "white",
             "minorgridcolor": "white",
             "startlinecolor": "#2a3f5f"
            },
            "baxis": {
             "endlinecolor": "#2a3f5f",
             "gridcolor": "white",
             "linecolor": "white",
             "minorgridcolor": "white",
             "startlinecolor": "#2a3f5f"
            },
            "type": "carpet"
           }
          ],
          "choropleth": [
           {
            "colorbar": {
             "outlinewidth": 0,
             "ticks": ""
            },
            "type": "choropleth"
           }
          ],
          "contour": [
           {
            "colorbar": {
             "outlinewidth": 0,
             "ticks": ""
            },
            "colorscale": [
             [
              0,
              "#0d0887"
             ],
             [
              0.1111111111111111,
              "#46039f"
             ],
             [
              0.2222222222222222,
              "#7201a8"
             ],
             [
              0.3333333333333333,
              "#9c179e"
             ],
             [
              0.4444444444444444,
              "#bd3786"
             ],
             [
              0.5555555555555556,
              "#d8576b"
             ],
             [
              0.6666666666666666,
              "#ed7953"
             ],
             [
              0.7777777777777778,
              "#fb9f3a"
             ],
             [
              0.8888888888888888,
              "#fdca26"
             ],
             [
              1,
              "#f0f921"
             ]
            ],
            "type": "contour"
           }
          ],
          "contourcarpet": [
           {
            "colorbar": {
             "outlinewidth": 0,
             "ticks": ""
            },
            "type": "contourcarpet"
           }
          ],
          "heatmap": [
           {
            "colorbar": {
             "outlinewidth": 0,
             "ticks": ""
            },
            "colorscale": [
             [
              0,
              "#0d0887"
             ],
             [
              0.1111111111111111,
              "#46039f"
             ],
             [
              0.2222222222222222,
              "#7201a8"
             ],
             [
              0.3333333333333333,
              "#9c179e"
             ],
             [
              0.4444444444444444,
              "#bd3786"
             ],
             [
              0.5555555555555556,
              "#d8576b"
             ],
             [
              0.6666666666666666,
              "#ed7953"
             ],
             [
              0.7777777777777778,
              "#fb9f3a"
             ],
             [
              0.8888888888888888,
              "#fdca26"
             ],
             [
              1,
              "#f0f921"
             ]
            ],
            "type": "heatmap"
           }
          ],
          "heatmapgl": [
           {
            "colorbar": {
             "outlinewidth": 0,
             "ticks": ""
            },
            "colorscale": [
             [
              0,
              "#0d0887"
             ],
             [
              0.1111111111111111,
              "#46039f"
             ],
             [
              0.2222222222222222,
              "#7201a8"
             ],
             [
              0.3333333333333333,
              "#9c179e"
             ],
             [
              0.4444444444444444,
              "#bd3786"
             ],
             [
              0.5555555555555556,
              "#d8576b"
             ],
             [
              0.6666666666666666,
              "#ed7953"
             ],
             [
              0.7777777777777778,
              "#fb9f3a"
             ],
             [
              0.8888888888888888,
              "#fdca26"
             ],
             [
              1,
              "#f0f921"
             ]
            ],
            "type": "heatmapgl"
           }
          ],
          "histogram": [
           {
            "marker": {
             "pattern": {
              "fillmode": "overlay",
              "size": 10,
              "solidity": 0.2
             }
            },
            "type": "histogram"
           }
          ],
          "histogram2d": [
           {
            "colorbar": {
             "outlinewidth": 0,
             "ticks": ""
            },
            "colorscale": [
             [
              0,
              "#0d0887"
             ],
             [
              0.1111111111111111,
              "#46039f"
             ],
             [
              0.2222222222222222,
              "#7201a8"
             ],
             [
              0.3333333333333333,
              "#9c179e"
             ],
             [
              0.4444444444444444,
              "#bd3786"
             ],
             [
              0.5555555555555556,
              "#d8576b"
             ],
             [
              0.6666666666666666,
              "#ed7953"
             ],
             [
              0.7777777777777778,
              "#fb9f3a"
             ],
             [
              0.8888888888888888,
              "#fdca26"
             ],
             [
              1,
              "#f0f921"
             ]
            ],
            "type": "histogram2d"
           }
          ],
          "histogram2dcontour": [
           {
            "colorbar": {
             "outlinewidth": 0,
             "ticks": ""
            },
            "colorscale": [
             [
              0,
              "#0d0887"
             ],
             [
              0.1111111111111111,
              "#46039f"
             ],
             [
              0.2222222222222222,
              "#7201a8"
             ],
             [
              0.3333333333333333,
              "#9c179e"
             ],
             [
              0.4444444444444444,
              "#bd3786"
             ],
             [
              0.5555555555555556,
              "#d8576b"
             ],
             [
              0.6666666666666666,
              "#ed7953"
             ],
             [
              0.7777777777777778,
              "#fb9f3a"
             ],
             [
              0.8888888888888888,
              "#fdca26"
             ],
             [
              1,
              "#f0f921"
             ]
            ],
            "type": "histogram2dcontour"
           }
          ],
          "mesh3d": [
           {
            "colorbar": {
             "outlinewidth": 0,
             "ticks": ""
            },
            "type": "mesh3d"
           }
          ],
          "parcoords": [
           {
            "line": {
             "colorbar": {
              "outlinewidth": 0,
              "ticks": ""
             }
            },
            "type": "parcoords"
           }
          ],
          "pie": [
           {
            "automargin": true,
            "type": "pie"
           }
          ],
          "scatter": [
           {
            "fillpattern": {
             "fillmode": "overlay",
             "size": 10,
             "solidity": 0.2
            },
            "type": "scatter"
           }
          ],
          "scatter3d": [
           {
            "line": {
             "colorbar": {
              "outlinewidth": 0,
              "ticks": ""
             }
            },
            "marker": {
             "colorbar": {
              "outlinewidth": 0,
              "ticks": ""
             }
            },
            "type": "scatter3d"
           }
          ],
          "scattercarpet": [
           {
            "marker": {
             "colorbar": {
              "outlinewidth": 0,
              "ticks": ""
             }
            },
            "type": "scattercarpet"
           }
          ],
          "scattergeo": [
           {
            "marker": {
             "colorbar": {
              "outlinewidth": 0,
              "ticks": ""
             }
            },
            "type": "scattergeo"
           }
          ],
          "scattergl": [
           {
            "marker": {
             "colorbar": {
              "outlinewidth": 0,
              "ticks": ""
             }
            },
            "type": "scattergl"
           }
          ],
          "scattermapbox": [
           {
            "marker": {
             "colorbar": {
              "outlinewidth": 0,
              "ticks": ""
             }
            },
            "type": "scattermapbox"
           }
          ],
          "scatterpolar": [
           {
            "marker": {
             "colorbar": {
              "outlinewidth": 0,
              "ticks": ""
             }
            },
            "type": "scatterpolar"
           }
          ],
          "scatterpolargl": [
           {
            "marker": {
             "colorbar": {
              "outlinewidth": 0,
              "ticks": ""
             }
            },
            "type": "scatterpolargl"
           }
          ],
          "scatterternary": [
           {
            "marker": {
             "colorbar": {
              "outlinewidth": 0,
              "ticks": ""
             }
            },
            "type": "scatterternary"
           }
          ],
          "surface": [
           {
            "colorbar": {
             "outlinewidth": 0,
             "ticks": ""
            },
            "colorscale": [
             [
              0,
              "#0d0887"
             ],
             [
              0.1111111111111111,
              "#46039f"
             ],
             [
              0.2222222222222222,
              "#7201a8"
             ],
             [
              0.3333333333333333,
              "#9c179e"
             ],
             [
              0.4444444444444444,
              "#bd3786"
             ],
             [
              0.5555555555555556,
              "#d8576b"
             ],
             [
              0.6666666666666666,
              "#ed7953"
             ],
             [
              0.7777777777777778,
              "#fb9f3a"
             ],
             [
              0.8888888888888888,
              "#fdca26"
             ],
             [
              1,
              "#f0f921"
             ]
            ],
            "type": "surface"
           }
          ],
          "table": [
           {
            "cells": {
             "fill": {
              "color": "#EBF0F8"
             },
             "line": {
              "color": "white"
             }
            },
            "header": {
             "fill": {
              "color": "#C8D4E3"
             },
             "line": {
              "color": "white"
             }
            },
            "type": "table"
           }
          ]
         },
         "layout": {
          "annotationdefaults": {
           "arrowcolor": "#2a3f5f",
           "arrowhead": 0,
           "arrowwidth": 1
          },
          "autotypenumbers": "strict",
          "coloraxis": {
           "colorbar": {
            "outlinewidth": 0,
            "ticks": ""
           }
          },
          "colorscale": {
           "diverging": [
            [
             0,
             "#8e0152"
            ],
            [
             0.1,
             "#c51b7d"
            ],
            [
             0.2,
             "#de77ae"
            ],
            [
             0.3,
             "#f1b6da"
            ],
            [
             0.4,
             "#fde0ef"
            ],
            [
             0.5,
             "#f7f7f7"
            ],
            [
             0.6,
             "#e6f5d0"
            ],
            [
             0.7,
             "#b8e186"
            ],
            [
             0.8,
             "#7fbc41"
            ],
            [
             0.9,
             "#4d9221"
            ],
            [
             1,
             "#276419"
            ]
           ],
           "sequential": [
            [
             0,
             "#0d0887"
            ],
            [
             0.1111111111111111,
             "#46039f"
            ],
            [
             0.2222222222222222,
             "#7201a8"
            ],
            [
             0.3333333333333333,
             "#9c179e"
            ],
            [
             0.4444444444444444,
             "#bd3786"
            ],
            [
             0.5555555555555556,
             "#d8576b"
            ],
            [
             0.6666666666666666,
             "#ed7953"
            ],
            [
             0.7777777777777778,
             "#fb9f3a"
            ],
            [
             0.8888888888888888,
             "#fdca26"
            ],
            [
             1,
             "#f0f921"
            ]
           ],
           "sequentialminus": [
            [
             0,
             "#0d0887"
            ],
            [
             0.1111111111111111,
             "#46039f"
            ],
            [
             0.2222222222222222,
             "#7201a8"
            ],
            [
             0.3333333333333333,
             "#9c179e"
            ],
            [
             0.4444444444444444,
             "#bd3786"
            ],
            [
             0.5555555555555556,
             "#d8576b"
            ],
            [
             0.6666666666666666,
             "#ed7953"
            ],
            [
             0.7777777777777778,
             "#fb9f3a"
            ],
            [
             0.8888888888888888,
             "#fdca26"
            ],
            [
             1,
             "#f0f921"
            ]
           ]
          },
          "colorway": [
           "#636efa",
           "#EF553B",
           "#00cc96",
           "#ab63fa",
           "#FFA15A",
           "#19d3f3",
           "#FF6692",
           "#B6E880",
           "#FF97FF",
           "#FECB52"
          ],
          "font": {
           "color": "#2a3f5f"
          },
          "geo": {
           "bgcolor": "white",
           "lakecolor": "white",
           "landcolor": "#E5ECF6",
           "showlakes": true,
           "showland": true,
           "subunitcolor": "white"
          },
          "hoverlabel": {
           "align": "left"
          },
          "hovermode": "closest",
          "mapbox": {
           "style": "light"
          },
          "paper_bgcolor": "white",
          "plot_bgcolor": "#E5ECF6",
          "polar": {
           "angularaxis": {
            "gridcolor": "white",
            "linecolor": "white",
            "ticks": ""
           },
           "bgcolor": "#E5ECF6",
           "radialaxis": {
            "gridcolor": "white",
            "linecolor": "white",
            "ticks": ""
           }
          },
          "scene": {
           "xaxis": {
            "backgroundcolor": "#E5ECF6",
            "gridcolor": "white",
            "gridwidth": 2,
            "linecolor": "white",
            "showbackground": true,
            "ticks": "",
            "zerolinecolor": "white"
           },
           "yaxis": {
            "backgroundcolor": "#E5ECF6",
            "gridcolor": "white",
            "gridwidth": 2,
            "linecolor": "white",
            "showbackground": true,
            "ticks": "",
            "zerolinecolor": "white"
           },
           "zaxis": {
            "backgroundcolor": "#E5ECF6",
            "gridcolor": "white",
            "gridwidth": 2,
            "linecolor": "white",
            "showbackground": true,
            "ticks": "",
            "zerolinecolor": "white"
           }
          },
          "shapedefaults": {
           "line": {
            "color": "#2a3f5f"
           }
          },
          "ternary": {
           "aaxis": {
            "gridcolor": "white",
            "linecolor": "white",
            "ticks": ""
           },
           "baxis": {
            "gridcolor": "white",
            "linecolor": "white",
            "ticks": ""
           },
           "bgcolor": "#E5ECF6",
           "caxis": {
            "gridcolor": "white",
            "linecolor": "white",
            "ticks": ""
           }
          },
          "title": {
           "x": 0.05
          },
          "xaxis": {
           "automargin": true,
           "gridcolor": "white",
           "linecolor": "white",
           "ticks": "",
           "title": {
            "standoff": 15
           },
           "zerolinecolor": "white",
           "zerolinewidth": 2
          },
          "yaxis": {
           "automargin": true,
           "gridcolor": "white",
           "linecolor": "white",
           "ticks": "",
           "title": {
            "standoff": 15
           },
           "zerolinecolor": "white",
           "zerolinewidth": 2
          }
         }
        },
        "title": {
         "text": "Sankey Diagram of Critical Materials Imports into China"
        }
       }
      }
     },
     "metadata": {},
     "output_type": "display_data"
    }
   ],
   "source": [
    "import_sankey_diagram(CriticalMaterials, all_data_code, country_code, product_code, target_country_name)"
   ]
  },
  {
   "cell_type": "code",
   "execution_count": null,
   "id": "ea666427",
   "metadata": {},
   "outputs": [],
   "source": []
  }
 ],
 "metadata": {
  "kernelspec": {
   "display_name": "Python 3 (ipykernel)",
   "language": "python",
   "name": "python3"
  },
  "language_info": {
   "codemirror_mode": {
    "name": "ipython",
    "version": 3
   },
   "file_extension": ".py",
   "mimetype": "text/x-python",
   "name": "python",
   "nbconvert_exporter": "python",
   "pygments_lexer": "ipython3",
   "version": "3.9.18"
  }
 },
 "nbformat": 4,
 "nbformat_minor": 5
}
